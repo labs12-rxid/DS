{
 "cells": [
  {
   "cell_type": "markdown",
   "metadata": {
    "colab_type": "text",
    "id": "tjLlGtTJfbaq"
   },
   "source": [
    "#RxId : CSV Data Cleaning\n",
    "\n",
    "Data Source : https://pillbox.nlm.nih.gov/developers.html\n",
    "https://dev.socrata.com/foundry/datadiscovery.nlm.nih.gov/crzr-uvwg\n",
    "\n",
    "\n",
    "Issue :  Two CSV files were downloaded from the above site.  \n",
    "\n",
    "    Pillbox.NO.ID.csv  has useful meds data but no image_id  field to link it to a filename in the image library.\n",
    "\n",
    "    Pillbox.NO.IMAGE ID.csv  lacks useful meds data but HAS image_id  field to link it to a filename in the image library.\n",
    "\n",
    "Solution:   Clean CSV files individually and merge into single CSV that will be used to load an AWS RDS database\n"
   ]
  },
  {
   "cell_type": "markdown",
   "metadata": {
    "colab_type": "text",
    "id": "fIZ-Y_RjGAGl"
   },
   "source": [
    "### Load CSVs into dataframes"
   ]
  },
  {
   "cell_type": "code",
   "execution_count": null,
   "metadata": {
    "colab": {},
    "colab_type": "code",
    "id": "i9jJLy5AHZq9"
   },
   "outputs": [],
   "source": [
    "import pandas as pd\n",
    "pd.options.display.max_columns = None"
   ]
  },
  {
   "cell_type": "code",
   "execution_count": 100,
   "metadata": {
    "colab": {
     "base_uri": "https://localhost:8080/",
     "height": 107
    },
    "colab_type": "code",
    "id": "rh5ha0iSyoLV",
    "outputId": "94fdfe9d-b726-4b5f-ea68-4a835bb5120f"
   },
   "outputs": [
    {
     "name": "stderr",
     "output_type": "stream",
     "text": [
      "/usr/local/lib/python3.6/dist-packages/IPython/core/interactiveshell.py:2718: DtypeWarning: Columns (62,63,64,65,66,69,70,71) have mixed types. Specify dtype option on import or set low_memory=False.\n",
      "  interactivity=interactivity, compiler=compiler, result=result)\n"
     ]
    },
    {
     "name": "stdout",
     "output_type": "stream",
     "text": [
      "(62898, 72)\n"
     ]
    },
    {
     "data": {
      "text/plain": [
       "(62898, 24)"
      ]
     },
     "execution_count": 100,
     "metadata": {
      "tags": []
     },
     "output_type": "execute_result"
    }
   ],
   "source": [
    "url1=\"https://raw.githubusercontent.com/labs12-rxid/DS/master/CSV/Pillbox.NO.ID.csv\"\n",
    "df1=pd.read_csv(url1)\n",
    "\n",
    "url2=\"https://raw.githubusercontent.com/labs12-rxid/DS/master/CSV/Pillbox.IMAGE%20ID.csv\"\n",
    "df2=pd.read_csv(url2)\n",
    "\n",
    "\n",
    "print(df1.shape)\n",
    "df2.shape"
   ]
  },
  {
   "cell_type": "code",
   "execution_count": 101,
   "metadata": {
    "colab": {
     "base_uri": "https://localhost:8080/",
     "height": 334
    },
    "colab_type": "code",
    "id": "P71SdBY7yEzR",
    "outputId": "1478bfdb-f155-41ba-ffcf-8ce58c748c31"
   },
   "outputs": [
    {
     "data": {
      "text/plain": [
       "Index(['ID', 'Enabled?', 'created at', 'updated at', 'spp', 'setid', 'splsize',\n",
       "       'pillbox_size', 'splshape', 'splshape_text', 'pillbox_shape_text',\n",
       "       'splscore', 'pillbox_score', 'splimprint', 'pillbox_imprint',\n",
       "       'splcolor', 'splcolor_text', 'pillbox_color_text', 'spl_strength',\n",
       "       'spl_ingredients', 'spl_inactive_ing', 'source', 'rxtty', 'rxstring',\n",
       "       'rxcui', 'product_code', 'part_num', 'part_medicine_name', 'ndc9',\n",
       "       'ndc_labeler_code', 'ndc_product_code', 'medicine_name',\n",
       "       'marketing_act_code', 'effective_time', 'file_name',\n",
       "       'equal_product_code', 'dosage_form', 'document_type',\n",
       "       'dea_schedule_code', 'dea_schedule_name', 'author_type', 'author',\n",
       "       'approval_code', 'image_source', 'splimage', 'has_image', 'epc_match',\n",
       "       'version_number', 'laberer_code', 'application_number', 'updated',\n",
       "       'stale', 'new', 'Unnamed: 53', 'Unnamed: 54', 'Unnamed: 55',\n",
       "       'Unnamed: 56', 'Unnamed: 57', 'Unnamed: 58', 'Unnamed: 59',\n",
       "       'Unnamed: 60', 'Unnamed: 61', 'Unnamed: 62', 'Unnamed: 63',\n",
       "       'Unnamed: 64', 'Unnamed: 65', 'Unnamed: 66', 'Unnamed: 67',\n",
       "       'Unnamed: 68', 'Unnamed: 69', 'Unnamed: 70', 'Unnamed: 71'],\n",
       "      dtype='object')"
      ]
     },
     "execution_count": 101,
     "metadata": {
      "tags": []
     },
     "output_type": "execute_result"
    }
   ],
   "source": [
    "df1.columns"
   ]
  },
  {
   "cell_type": "markdown",
   "metadata": {
    "colab_type": "text",
    "id": "sUqdzClYutAC"
   },
   "source": [
    "###  Rename df2.id to df2.ID  to match df1"
   ]
  },
  {
   "cell_type": "code",
   "execution_count": 102,
   "metadata": {
    "colab": {
     "base_uri": "https://localhost:8080/",
     "height": 122
    },
    "colab_type": "code",
    "id": "QRFppJPTmRja",
    "outputId": "c64d82e8-215c-4cfe-b056-7cc958e13b11"
   },
   "outputs": [
    {
     "data": {
      "text/plain": [
       "Index(['ID', 'spl_id', 'SETID', 'spp', 'NDC9', 'PRODUCT_CODE',\n",
       "       'EQUAL_PRODUCT_CODE', 'author', 'SPLIMPRINT', 'SPLCOLOR', 'SPLSHAPE',\n",
       "       'SPLSIZE', 'SPLSCORE', 'DEA_SCHEDULE_CODE', 'INGREDIENTS',\n",
       "       'SPL_INACTIVE_ING', 'RXCUI', 'RXTTY', 'RXSTRING', 'image_id',\n",
       "       'IMAGE_SOURCE', 'HAS_IMAGE', 'FROM_SIS', 'NO_RXCUI'],\n",
       "      dtype='object')"
      ]
     },
     "execution_count": 102,
     "metadata": {
      "tags": []
     },
     "output_type": "execute_result"
    }
   ],
   "source": [
    "df2.rename(columns={'id':'ID'}, inplace=True)\n",
    "df2.columns"
   ]
  },
  {
   "cell_type": "markdown",
   "metadata": {
    "colab_type": "text",
    "id": "l3w1BfW8ngEp"
   },
   "source": [
    "### Drop Useless/Duplicated Columns from df1 & df2"
   ]
  },
  {
   "cell_type": "code",
   "execution_count": 103,
   "metadata": {
    "colab": {
     "base_uri": "https://localhost:8080/",
     "height": 246
    },
    "colab_type": "code",
    "id": "wI0H0bl3nevN",
    "outputId": "909d0af0-0d90-42aa-e3b4-24a77e8af662"
   },
   "outputs": [
    {
     "data": {
      "text/plain": [
       "Index(['ID', 'Enabled?', 'spp', 'setid', 'splsize', 'pillbox_size', 'splshape',\n",
       "       'splshape_text', 'pillbox_shape_text', 'splscore', 'pillbox_score',\n",
       "       'splimprint', 'pillbox_imprint', 'splcolor', 'splcolor_text',\n",
       "       'pillbox_color_text', 'spl_strength', 'spl_ingredients',\n",
       "       'spl_inactive_ing', 'source', 'rxtty', 'rxcui', 'product_code',\n",
       "       'part_num', 'part_medicine_name', 'ndc_labeler_code',\n",
       "       'ndc_product_code', 'medicine_name', 'marketing_act_code',\n",
       "       'effective_time', 'file_name', 'equal_product_code', 'dosage_form',\n",
       "       'document_type', 'dea_schedule_code', 'dea_schedule_name',\n",
       "       'author_type', 'approval_code', 'image_source', 'splimage', 'epc_match',\n",
       "       'version_number', 'laberer_code', 'application_number', 'updated',\n",
       "       'stale', 'new'],\n",
       "      dtype='object')"
      ]
     },
     "execution_count": 103,
     "metadata": {
      "tags": []
     },
     "output_type": "execute_result"
    }
   ],
   "source": [
    "drop_col_1=['created at', 'updated at', 'ndc9', 'author',\n",
    "            'rxstring', 'has_image',\n",
    "       'Unnamed: 53', 'Unnamed: 54', 'Unnamed: 55',\n",
    "       'Unnamed: 56', 'Unnamed: 57', 'Unnamed: 58', 'Unnamed: 59',\n",
    "       'Unnamed: 60', 'Unnamed: 61', 'Unnamed: 62', 'Unnamed: 63',\n",
    "       'Unnamed: 64', 'Unnamed: 65', 'Unnamed: 66', 'Unnamed: 67',\n",
    "       'Unnamed: 68', 'Unnamed: 69', 'Unnamed: 70', 'Unnamed: 71']\n",
    "df1.drop(columns=drop_col_1, inplace=True)\n",
    "df1.columns"
   ]
  },
  {
   "cell_type": "code",
   "execution_count": 104,
   "metadata": {
    "colab": {
     "base_uri": "https://localhost:8080/",
     "height": 87
    },
    "colab_type": "code",
    "id": "kTQvmcR2PTsT",
    "outputId": "d82c4327-ac8d-4a6c-ed3b-1ae7320fbd69"
   },
   "outputs": [
    {
     "data": {
      "text/plain": [
       "Index(['ID', 'spl_id', 'NDC9', 'PRODUCT_CODE', 'EQUAL_PRODUCT_CODE', 'author',\n",
       "       'DEA_SCHEDULE_CODE', 'RXSTRING', 'image_id', 'HAS_IMAGE', 'FROM_SIS',\n",
       "       'NO_RXCUI'],\n",
       "      dtype='object')"
      ]
     },
     "execution_count": 104,
     "metadata": {
      "tags": []
     },
     "output_type": "execute_result"
    }
   ],
   "source": [
    "drop_col_2=['SETID', 'spp', 'INGREDIENTS','SPL_INACTIVE_ING','SPLSIZE', 'SPLSCORE',\n",
    "           'SPLIMPRINT', 'SPLCOLOR',\t'SPLSHAPE', 'RXCUI',\t'RXTTY', 'IMAGE_SOURCE']\n",
    "df2.drop(columns=drop_col_2, inplace=True)\n",
    "df2.columns"
   ]
  },
  {
   "cell_type": "markdown",
   "metadata": {
    "colab_type": "text",
    "id": "aZadSdF9fRtQ"
   },
   "source": [
    "### compare same  ID acrross Frames"
   ]
  },
  {
   "cell_type": "code",
   "execution_count": 105,
   "metadata": {
    "colab": {
     "base_uri": "https://localhost:8080/",
     "height": 164
    },
    "colab_type": "code",
    "id": "TVVtxsssN617",
    "outputId": "7425efc9-c61c-4fae-f039-e97dab082289"
   },
   "outputs": [
    {
     "data": {
      "text/html": [
       "<div>\n",
       "<style scoped>\n",
       "    .dataframe tbody tr th:only-of-type {\n",
       "        vertical-align: middle;\n",
       "    }\n",
       "\n",
       "    .dataframe tbody tr th {\n",
       "        vertical-align: top;\n",
       "    }\n",
       "\n",
       "    .dataframe thead th {\n",
       "        text-align: right;\n",
       "    }\n",
       "</style>\n",
       "<table border=\"1\" class=\"dataframe\">\n",
       "  <thead>\n",
       "    <tr style=\"text-align: right;\">\n",
       "      <th></th>\n",
       "      <th>ID</th>\n",
       "      <th>Enabled?</th>\n",
       "      <th>spp</th>\n",
       "      <th>setid</th>\n",
       "      <th>splsize</th>\n",
       "      <th>pillbox_size</th>\n",
       "      <th>splshape</th>\n",
       "      <th>splshape_text</th>\n",
       "      <th>pillbox_shape_text</th>\n",
       "      <th>splscore</th>\n",
       "      <th>pillbox_score</th>\n",
       "      <th>splimprint</th>\n",
       "      <th>pillbox_imprint</th>\n",
       "      <th>splcolor</th>\n",
       "      <th>splcolor_text</th>\n",
       "      <th>pillbox_color_text</th>\n",
       "      <th>spl_strength</th>\n",
       "      <th>spl_ingredients</th>\n",
       "      <th>spl_inactive_ing</th>\n",
       "      <th>source</th>\n",
       "      <th>rxtty</th>\n",
       "      <th>rxcui</th>\n",
       "      <th>product_code</th>\n",
       "      <th>part_num</th>\n",
       "      <th>part_medicine_name</th>\n",
       "      <th>ndc_labeler_code</th>\n",
       "      <th>ndc_product_code</th>\n",
       "      <th>medicine_name</th>\n",
       "      <th>marketing_act_code</th>\n",
       "      <th>effective_time</th>\n",
       "      <th>file_name</th>\n",
       "      <th>equal_product_code</th>\n",
       "      <th>dosage_form</th>\n",
       "      <th>document_type</th>\n",
       "      <th>dea_schedule_code</th>\n",
       "      <th>dea_schedule_name</th>\n",
       "      <th>author_type</th>\n",
       "      <th>approval_code</th>\n",
       "      <th>image_source</th>\n",
       "      <th>splimage</th>\n",
       "      <th>epc_match</th>\n",
       "      <th>version_number</th>\n",
       "      <th>laberer_code</th>\n",
       "      <th>application_number</th>\n",
       "      <th>updated</th>\n",
       "      <th>stale</th>\n",
       "      <th>new</th>\n",
       "    </tr>\n",
       "  </thead>\n",
       "  <tbody>\n",
       "    <tr>\n",
       "      <th>25440</th>\n",
       "      <td>3143</td>\n",
       "      <td>True</td>\n",
       "      <td>e4682a6e-9624-48b0-978f-95da00cfb78f-0093-7372-0</td>\n",
       "      <td>e4682a6e-9624-48b0-978f-95da00cfb78f</td>\n",
       "      <td>19.0</td>\n",
       "      <td>NaN</td>\n",
       "      <td>C48336</td>\n",
       "      <td>CAPSULE</td>\n",
       "      <td>NaN</td>\n",
       "      <td>1.0</td>\n",
       "      <td>NaN</td>\n",
       "      <td>TEVA;7372</td>\n",
       "      <td>NaN</td>\n",
       "      <td>C48328;C48325</td>\n",
       "      <td>PINK;WHITE</td>\n",
       "      <td>NaN</td>\n",
       "      <td>AMLODIPINE BESYLATE 5 mg;BENAZEPRIL HYDROCHLOR...</td>\n",
       "      <td>AMLODIPINE BESYLATE[AMLODIPINE];BENAZEPRIL HYD...</td>\n",
       "      <td>FERROSOFERRIC OXIDE;ANHYDROUS DIBASIC CALCIUM ...</td>\n",
       "      <td>CORN;CROSPOVIDONE (15 MPA.S AT 5%);GELATIN</td>\n",
       "      <td>UNSPECIFIED;LACTOSE MONOHYDRATE;MAGNESIUM STE...</td>\n",
       "      <td>SCD</td>\n",
       "      <td>Amlodipine 5 MG / Benazepril hydrochloride 20 ...</td>\n",
       "      <td>898356</td>\n",
       "      <td>0093-7372</td>\n",
       "      <td>NaN</td>\n",
       "      <td>937372</td>\n",
       "      <td>93</td>\n",
       "      <td>7372</td>\n",
       "      <td>Amlodipine and Benazepril Hydrochloride</td>\n",
       "      <td>active</td>\n",
       "      <td>20170823</td>\n",
       "      <td>a804a97e-d1e0-411b-b075-557ac09684c0.xml</td>\n",
       "      <td>NaN</td>\n",
       "      <td>C25158</td>\n",
       "      <td>34391-3</td>\n",
       "      <td>NaN</td>\n",
       "      <td>LABELER</td>\n",
       "      <td>Teva Pharmaceuticals USA</td>\n",
       "      <td>Inc.</td>\n",
       "      <td>SPL</td>\n",
       "      <td>93737201</td>\n",
       "      <td>TRUE</td>\n",
       "      <td>NaN</td>\n",
       "      <td>16</td>\n",
       "      <td>NaN</td>\n",
       "      <td>NaN</td>\n",
       "    </tr>\n",
       "  </tbody>\n",
       "</table>\n",
       "</div>"
      ],
      "text/plain": [
       "         ID  Enabled?                                               spp  \\\n",
       "25440  3143      True  e4682a6e-9624-48b0-978f-95da00cfb78f-0093-7372-0   \n",
       "\n",
       "                                      setid  splsize  pillbox_size splshape  \\\n",
       "25440  e4682a6e-9624-48b0-978f-95da00cfb78f     19.0           NaN   C48336   \n",
       "\n",
       "      splshape_text pillbox_shape_text  splscore  pillbox_score splimprint  \\\n",
       "25440       CAPSULE                NaN       1.0            NaN  TEVA;7372   \n",
       "\n",
       "      pillbox_imprint       splcolor splcolor_text pillbox_color_text  \\\n",
       "25440             NaN  C48328;C48325    PINK;WHITE                NaN   \n",
       "\n",
       "                                            spl_strength  \\\n",
       "25440  AMLODIPINE BESYLATE 5 mg;BENAZEPRIL HYDROCHLOR...   \n",
       "\n",
       "                                         spl_ingredients  \\\n",
       "25440  AMLODIPINE BESYLATE[AMLODIPINE];BENAZEPRIL HYD...   \n",
       "\n",
       "                                        spl_inactive_ing  \\\n",
       "25440  FERROSOFERRIC OXIDE;ANHYDROUS DIBASIC CALCIUM ...   \n",
       "\n",
       "                                            source  \\\n",
       "25440   CORN;CROSPOVIDONE (15 MPA.S AT 5%);GELATIN   \n",
       "\n",
       "                                                   rxtty rxcui  \\\n",
       "25440   UNSPECIFIED;LACTOSE MONOHYDRATE;MAGNESIUM STE...   SCD   \n",
       "\n",
       "                                            product_code part_num  \\\n",
       "25440  Amlodipine 5 MG / Benazepril hydrochloride 20 ...   898356   \n",
       "\n",
       "      part_medicine_name ndc_labeler_code ndc_product_code medicine_name  \\\n",
       "25440          0093-7372              NaN           937372            93   \n",
       "\n",
       "      marketing_act_code                           effective_time file_name  \\\n",
       "25440               7372  Amlodipine and Benazepril Hydrochloride    active   \n",
       "\n",
       "      equal_product_code                               dosage_form  \\\n",
       "25440           20170823  a804a97e-d1e0-411b-b075-557ac09684c0.xml   \n",
       "\n",
       "      document_type dea_schedule_code dea_schedule_name author_type  \\\n",
       "25440           NaN            C25158           34391-3         NaN   \n",
       "\n",
       "      approval_code              image_source splimage epc_match  \\\n",
       "25440       LABELER  Teva Pharmaceuticals USA     Inc.       SPL   \n",
       "\n",
       "      version_number laberer_code application_number updated stale  new  \n",
       "25440       93737201         TRUE                NaN      16   NaN  NaN  "
      ]
     },
     "execution_count": 105,
     "metadata": {
      "tags": []
     },
     "output_type": "execute_result"
    }
   ],
   "source": [
    "df1.query('ID==3143')"
   ]
  },
  {
   "cell_type": "code",
   "execution_count": 106,
   "metadata": {
    "colab": {
     "base_uri": "https://localhost:8080/",
     "height": 94
    },
    "colab_type": "code",
    "id": "bn25ZrwNgcb5",
    "outputId": "cbac4ee9-8149-4490-e8b5-3bf6da81626c"
   },
   "outputs": [
    {
     "data": {
      "text/html": [
       "<div>\n",
       "<style scoped>\n",
       "    .dataframe tbody tr th:only-of-type {\n",
       "        vertical-align: middle;\n",
       "    }\n",
       "\n",
       "    .dataframe tbody tr th {\n",
       "        vertical-align: top;\n",
       "    }\n",
       "\n",
       "    .dataframe thead th {\n",
       "        text-align: right;\n",
       "    }\n",
       "</style>\n",
       "<table border=\"1\" class=\"dataframe\">\n",
       "  <thead>\n",
       "    <tr style=\"text-align: right;\">\n",
       "      <th></th>\n",
       "      <th>ID</th>\n",
       "      <th>spl_id</th>\n",
       "      <th>NDC9</th>\n",
       "      <th>PRODUCT_CODE</th>\n",
       "      <th>EQUAL_PRODUCT_CODE</th>\n",
       "      <th>author</th>\n",
       "      <th>DEA_SCHEDULE_CODE</th>\n",
       "      <th>RXSTRING</th>\n",
       "      <th>image_id</th>\n",
       "      <th>HAS_IMAGE</th>\n",
       "      <th>FROM_SIS</th>\n",
       "      <th>NO_RXCUI</th>\n",
       "    </tr>\n",
       "  </thead>\n",
       "  <tbody>\n",
       "    <tr>\n",
       "      <th>62894</th>\n",
       "      <td>3143</td>\n",
       "      <td>NaN</td>\n",
       "      <td>000937372</td>\n",
       "      <td>0093-7372</td>\n",
       "      <td>NaN</td>\n",
       "      <td>Teva Pharmaceuticals USA, Inc.</td>\n",
       "      <td>NaN</td>\n",
       "      <td>Amlodipine 5 MG / Benazepril hydrochloride 20 ...</td>\n",
       "      <td>00093737201</td>\n",
       "      <td>1</td>\n",
       "      <td>NaN</td>\n",
       "      <td>NaN</td>\n",
       "    </tr>\n",
       "  </tbody>\n",
       "</table>\n",
       "</div>"
      ],
      "text/plain": [
       "         ID  spl_id       NDC9 PRODUCT_CODE EQUAL_PRODUCT_CODE  \\\n",
       "62894  3143     NaN  000937372    0093-7372                NaN   \n",
       "\n",
       "                               author DEA_SCHEDULE_CODE  \\\n",
       "62894  Teva Pharmaceuticals USA, Inc.               NaN   \n",
       "\n",
       "                                                RXSTRING     image_id  \\\n",
       "62894  Amlodipine 5 MG / Benazepril hydrochloride 20 ...  00093737201   \n",
       "\n",
       "       HAS_IMAGE  FROM_SIS  NO_RXCUI  \n",
       "62894          1       NaN       NaN  "
      ]
     },
     "execution_count": 106,
     "metadata": {
      "tags": []
     },
     "output_type": "execute_result"
    }
   ],
   "source": [
    "df2.query('ID==3143')"
   ]
  },
  {
   "cell_type": "markdown",
   "metadata": {
    "colab_type": "text",
    "id": "LTb7SRCGdRBq"
   },
   "source": [
    "###  Combine dataframes"
   ]
  },
  {
   "cell_type": "code",
   "execution_count": null,
   "metadata": {
    "colab": {},
    "colab_type": "code",
    "id": "IT4Cx7VrdVA5"
   },
   "outputs": [],
   "source": [
    "df_comb=pd.merge(df1,df2,how='left', on=['ID'])"
   ]
  },
  {
   "cell_type": "code",
   "execution_count": 111,
   "metadata": {
    "colab": {
     "base_uri": "https://localhost:8080/",
     "height": 164
    },
    "colab_type": "code",
    "id": "hwbhWXT-e7CB",
    "outputId": "e9272078-2641-40dd-fd0e-351f21d24efd"
   },
   "outputs": [
    {
     "data": {
      "text/html": [
       "<div>\n",
       "<style scoped>\n",
       "    .dataframe tbody tr th:only-of-type {\n",
       "        vertical-align: middle;\n",
       "    }\n",
       "\n",
       "    .dataframe tbody tr th {\n",
       "        vertical-align: top;\n",
       "    }\n",
       "\n",
       "    .dataframe thead th {\n",
       "        text-align: right;\n",
       "    }\n",
       "</style>\n",
       "<table border=\"1\" class=\"dataframe\">\n",
       "  <thead>\n",
       "    <tr style=\"text-align: right;\">\n",
       "      <th></th>\n",
       "      <th>ID</th>\n",
       "      <th>Enabled?</th>\n",
       "      <th>spp</th>\n",
       "      <th>setid</th>\n",
       "      <th>splsize</th>\n",
       "      <th>pillbox_size</th>\n",
       "      <th>splshape</th>\n",
       "      <th>splshape_text</th>\n",
       "      <th>pillbox_shape_text</th>\n",
       "      <th>splscore</th>\n",
       "      <th>pillbox_score</th>\n",
       "      <th>splimprint</th>\n",
       "      <th>pillbox_imprint</th>\n",
       "      <th>splcolor</th>\n",
       "      <th>splcolor_text</th>\n",
       "      <th>pillbox_color_text</th>\n",
       "      <th>spl_strength</th>\n",
       "      <th>spl_ingredients</th>\n",
       "      <th>spl_inactive_ing</th>\n",
       "      <th>source</th>\n",
       "      <th>rxtty</th>\n",
       "      <th>rxcui</th>\n",
       "      <th>product_code</th>\n",
       "      <th>part_num</th>\n",
       "      <th>part_medicine_name</th>\n",
       "      <th>ndc_labeler_code</th>\n",
       "      <th>ndc_product_code</th>\n",
       "      <th>medicine_name</th>\n",
       "      <th>marketing_act_code</th>\n",
       "      <th>effective_time</th>\n",
       "      <th>file_name</th>\n",
       "      <th>equal_product_code</th>\n",
       "      <th>dosage_form</th>\n",
       "      <th>document_type</th>\n",
       "      <th>dea_schedule_code</th>\n",
       "      <th>dea_schedule_name</th>\n",
       "      <th>author_type</th>\n",
       "      <th>approval_code</th>\n",
       "      <th>image_source</th>\n",
       "      <th>splimage</th>\n",
       "      <th>epc_match</th>\n",
       "      <th>version_number</th>\n",
       "      <th>laberer_code</th>\n",
       "      <th>application_number</th>\n",
       "      <th>updated</th>\n",
       "      <th>stale</th>\n",
       "      <th>new</th>\n",
       "      <th>spl_id</th>\n",
       "      <th>NDC9</th>\n",
       "      <th>PRODUCT_CODE</th>\n",
       "      <th>EQUAL_PRODUCT_CODE</th>\n",
       "      <th>author</th>\n",
       "      <th>DEA_SCHEDULE_CODE</th>\n",
       "      <th>RXSTRING</th>\n",
       "      <th>image_id</th>\n",
       "      <th>HAS_IMAGE</th>\n",
       "      <th>FROM_SIS</th>\n",
       "      <th>NO_RXCUI</th>\n",
       "    </tr>\n",
       "  </thead>\n",
       "  <tbody>\n",
       "    <tr>\n",
       "      <th>25440</th>\n",
       "      <td>3143</td>\n",
       "      <td>True</td>\n",
       "      <td>e4682a6e-9624-48b0-978f-95da00cfb78f-0093-7372-0</td>\n",
       "      <td>e4682a6e-9624-48b0-978f-95da00cfb78f</td>\n",
       "      <td>19.0</td>\n",
       "      <td>NaN</td>\n",
       "      <td>C48336</td>\n",
       "      <td>CAPSULE</td>\n",
       "      <td>NaN</td>\n",
       "      <td>1.0</td>\n",
       "      <td>NaN</td>\n",
       "      <td>TEVA;7372</td>\n",
       "      <td>NaN</td>\n",
       "      <td>C48328;C48325</td>\n",
       "      <td>PINK;WHITE</td>\n",
       "      <td>NaN</td>\n",
       "      <td>AMLODIPINE BESYLATE 5 mg;BENAZEPRIL HYDROCHLOR...</td>\n",
       "      <td>AMLODIPINE BESYLATE[AMLODIPINE];BENAZEPRIL HYD...</td>\n",
       "      <td>FERROSOFERRIC OXIDE;ANHYDROUS DIBASIC CALCIUM ...</td>\n",
       "      <td>CORN;CROSPOVIDONE (15 MPA.S AT 5%);GELATIN</td>\n",
       "      <td>UNSPECIFIED;LACTOSE MONOHYDRATE;MAGNESIUM STE...</td>\n",
       "      <td>SCD</td>\n",
       "      <td>Amlodipine 5 MG / Benazepril hydrochloride 20 ...</td>\n",
       "      <td>898356</td>\n",
       "      <td>0093-7372</td>\n",
       "      <td>NaN</td>\n",
       "      <td>937372</td>\n",
       "      <td>93</td>\n",
       "      <td>7372</td>\n",
       "      <td>Amlodipine and Benazepril Hydrochloride</td>\n",
       "      <td>active</td>\n",
       "      <td>20170823</td>\n",
       "      <td>a804a97e-d1e0-411b-b075-557ac09684c0.xml</td>\n",
       "      <td>NaN</td>\n",
       "      <td>C25158</td>\n",
       "      <td>34391-3</td>\n",
       "      <td>NaN</td>\n",
       "      <td>LABELER</td>\n",
       "      <td>Teva Pharmaceuticals USA</td>\n",
       "      <td>Inc.</td>\n",
       "      <td>SPL</td>\n",
       "      <td>93737201</td>\n",
       "      <td>TRUE</td>\n",
       "      <td>NaN</td>\n",
       "      <td>16</td>\n",
       "      <td>NaN</td>\n",
       "      <td>NaN</td>\n",
       "      <td>NaN</td>\n",
       "      <td>000937372</td>\n",
       "      <td>0093-7372</td>\n",
       "      <td>NaN</td>\n",
       "      <td>Teva Pharmaceuticals USA, Inc.</td>\n",
       "      <td>NaN</td>\n",
       "      <td>Amlodipine 5 MG / Benazepril hydrochloride 20 ...</td>\n",
       "      <td>00093737201</td>\n",
       "      <td>1</td>\n",
       "      <td>NaN</td>\n",
       "      <td>NaN</td>\n",
       "    </tr>\n",
       "  </tbody>\n",
       "</table>\n",
       "</div>"
      ],
      "text/plain": [
       "         ID  Enabled?                                               spp  \\\n",
       "25440  3143      True  e4682a6e-9624-48b0-978f-95da00cfb78f-0093-7372-0   \n",
       "\n",
       "                                      setid  splsize  pillbox_size splshape  \\\n",
       "25440  e4682a6e-9624-48b0-978f-95da00cfb78f     19.0           NaN   C48336   \n",
       "\n",
       "      splshape_text pillbox_shape_text  splscore  pillbox_score splimprint  \\\n",
       "25440       CAPSULE                NaN       1.0            NaN  TEVA;7372   \n",
       "\n",
       "      pillbox_imprint       splcolor splcolor_text pillbox_color_text  \\\n",
       "25440             NaN  C48328;C48325    PINK;WHITE                NaN   \n",
       "\n",
       "                                            spl_strength  \\\n",
       "25440  AMLODIPINE BESYLATE 5 mg;BENAZEPRIL HYDROCHLOR...   \n",
       "\n",
       "                                         spl_ingredients  \\\n",
       "25440  AMLODIPINE BESYLATE[AMLODIPINE];BENAZEPRIL HYD...   \n",
       "\n",
       "                                        spl_inactive_ing  \\\n",
       "25440  FERROSOFERRIC OXIDE;ANHYDROUS DIBASIC CALCIUM ...   \n",
       "\n",
       "                                            source  \\\n",
       "25440   CORN;CROSPOVIDONE (15 MPA.S AT 5%);GELATIN   \n",
       "\n",
       "                                                   rxtty rxcui  \\\n",
       "25440   UNSPECIFIED;LACTOSE MONOHYDRATE;MAGNESIUM STE...   SCD   \n",
       "\n",
       "                                            product_code part_num  \\\n",
       "25440  Amlodipine 5 MG / Benazepril hydrochloride 20 ...   898356   \n",
       "\n",
       "      part_medicine_name ndc_labeler_code ndc_product_code medicine_name  \\\n",
       "25440          0093-7372              NaN           937372            93   \n",
       "\n",
       "      marketing_act_code                           effective_time file_name  \\\n",
       "25440               7372  Amlodipine and Benazepril Hydrochloride    active   \n",
       "\n",
       "      equal_product_code                               dosage_form  \\\n",
       "25440           20170823  a804a97e-d1e0-411b-b075-557ac09684c0.xml   \n",
       "\n",
       "      document_type dea_schedule_code dea_schedule_name author_type  \\\n",
       "25440           NaN            C25158           34391-3         NaN   \n",
       "\n",
       "      approval_code              image_source splimage epc_match  \\\n",
       "25440       LABELER  Teva Pharmaceuticals USA     Inc.       SPL   \n",
       "\n",
       "      version_number laberer_code application_number updated stale  new  \\\n",
       "25440       93737201         TRUE                NaN      16   NaN  NaN   \n",
       "\n",
       "       spl_id       NDC9 PRODUCT_CODE EQUAL_PRODUCT_CODE  \\\n",
       "25440     NaN  000937372    0093-7372                NaN   \n",
       "\n",
       "                               author DEA_SCHEDULE_CODE  \\\n",
       "25440  Teva Pharmaceuticals USA, Inc.               NaN   \n",
       "\n",
       "                                                RXSTRING     image_id  \\\n",
       "25440  Amlodipine 5 MG / Benazepril hydrochloride 20 ...  00093737201   \n",
       "\n",
       "       HAS_IMAGE  FROM_SIS  NO_RXCUI  \n",
       "25440          1       NaN       NaN  "
      ]
     },
     "execution_count": 111,
     "metadata": {
      "tags": []
     },
     "output_type": "execute_result"
    }
   ],
   "source": [
    "df_comb.query('ID==3143')"
   ]
  },
  {
   "cell_type": "markdown",
   "metadata": {
    "colab_type": "text",
    "id": "v9fbhNmhfpIx"
   },
   "source": [
    "### Write out combined CSV"
   ]
  },
  {
   "cell_type": "code",
   "execution_count": null,
   "metadata": {
    "colab": {},
    "colab_type": "code",
    "id": "RtoKl8mafsMJ"
   },
   "outputs": [],
   "source": [
    "df_comb.to_csv('Pills.Final.csv', index=False ) #header=['id','status_group'])"
   ]
  },
  {
   "cell_type": "code",
   "execution_count": 2,
   "metadata": {},
   "outputs": [
    {
     "name": "stderr",
     "output_type": "stream",
     "text": [
      "C:\\Users\\EDC\\Anaconda3\\envs\\environ1\\lib\\site-packages\\IPython\\core\\interactiveshell.py:3044: DtypeWarning: Columns (45) have mixed types. Specify dtype option on import or set low_memory=False.\n",
      "  interactivity=interactivity, compiler=compiler, result=result)\n"
     ]
    }
   ],
   "source": [
    "    # ___ load the CSV into a df ____\n",
    "    import pandas as pd\n",
    "    csv_url = \"Pills.Final.csv\"\n",
    "    df = pd.read_csv(csv_url)"
   ]
  },
  {
   "cell_type": "markdown",
   "metadata": {},
   "source": [
    "## Find all the unique color values in the splcolor_text field"
   ]
  },
  {
   "cell_type": "code",
   "execution_count": 1,
   "metadata": {},
   "outputs": [],
   "source": [
    "import pandas as pd\n",
    "pd.options.display.max_columns = None"
   ]
  },
  {
   "cell_type": "code",
   "execution_count": 3,
   "metadata": {},
   "outputs": [
    {
     "name": "stderr",
     "output_type": "stream",
     "text": [
      "C:\\Users\\EDC\\Anaconda3\\envs\\environ1\\lib\\site-packages\\IPython\\core\\interactiveshell.py:3044: DtypeWarning: Columns (45) have mixed types. Specify dtype option on import or set low_memory=False.\n",
      "  interactivity=interactivity, compiler=compiler, result=result)\n"
     ]
    }
   ],
   "source": [
    "url_final=\"Pills.Final.csv\"\n",
    "df_color=pd.read_csv(url_final)"
   ]
  },
  {
   "cell_type": "code",
   "execution_count": null,
   "metadata": {},
   "outputs": [],
   "source": [
    "pd.options.display.max_rows = None\n",
    "\n",
    "df_color['splcolor_text'].value_counts()"
   ]
  },
  {
   "cell_type": "code",
   "execution_count": 13,
   "metadata": {},
   "outputs": [
    {
     "data": {
      "text/plain": [
       "array(['ROUND', 'OVAL', 'CAPSULE', 'DIAMOND', 'TRIANGLE',\n",
       "       'PENTAGON (5 SIDED)', 'HEXAGON (6 SIDED)', 'RECTANGLE', 'BULLET',\n",
       "       'FREEFORM', 'SQUARE', 'OCTAGON (8 SIDED)', 'TRAPEZOID',\n",
       "       'DOUBLE CIRCLE', 'TEAR', 'SEMI-CIRCLE', 'CLOVER', nan],\n",
       "      dtype=object)"
      ]
     },
     "execution_count": 13,
     "metadata": {},
     "output_type": "execute_result"
    }
   ],
   "source": [
    "df_color['splshape_text'].unique()"
   ]
  }
 ],
 "metadata": {
  "colab": {
   "collapsed_sections": [],
   "name": "RxID CSV to SQL  Data Cleaning.ipynb",
   "provenance": [],
   "version": "0.3.2"
  },
  "kernelspec": {
   "display_name": "Python 3",
   "language": "python",
   "name": "python3"
  },
  "language_info": {
   "codemirror_mode": {
    "name": "ipython",
    "version": 3
   },
   "file_extension": ".py",
   "mimetype": "text/x-python",
   "name": "python",
   "nbconvert_exporter": "python",
   "pygments_lexer": "ipython3",
   "version": "3.7.2"
  }
 },
 "nbformat": 4,
 "nbformat_minor": 2
}
