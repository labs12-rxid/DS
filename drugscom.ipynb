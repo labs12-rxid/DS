{
 "cells": [
  {
   "cell_type": "code",
   "execution_count": 129,
   "metadata": {
    "ExecuteTime": {
     "end_time": "2019-05-05T23:47:49.749382Z",
     "start_time": "2019-05-05T23:47:49.731862Z"
    }
   },
   "outputs": [],
   "source": [
    "from selenium import webdriver\n",
    "from selenium.webdriver.common.keys import Keys\n",
    "from selenium.webdriver.common.by import By\n",
    "from selenium.webdriver.support.ui import WebDriverWait\n",
    "from selenium.common.exceptions import WebDriverException, TimeoutException\n",
    "\n",
    "from bs4 import BeautifulSoup\n",
    "import io\n",
    "import pandas as pd\n",
    "from selenium.webdriver.support import expected_conditions as EC\n",
    "import time\n",
    "import sys\n",
    "import re\n",
    "import numpy as np\n",
    "import os\n",
    "import glob\n",
    "import shutil\n",
    "import json\n",
    "import html\n",
    "from string import punctuation\n",
    "from collections import deque"
   ]
  },
  {
   "cell_type": "code",
   "execution_count": 130,
   "metadata": {
    "ExecuteTime": {
     "end_time": "2019-05-05T23:47:51.068440Z",
     "start_time": "2019-05-05T23:47:50.940117Z"
    }
   },
   "outputs": [
    {
     "name": "stdout",
     "output_type": "stream",
     "text": [
      "/home/mark/lambda/pill_identifier\r\n"
     ]
    }
   ],
   "source": [
    "!pwd"
   ]
  },
  {
   "cell_type": "code",
   "execution_count": 131,
   "metadata": {
    "ExecuteTime": {
     "end_time": "2019-05-05T23:47:51.722691Z",
     "start_time": "2019-05-05T23:47:51.716622Z"
    }
   },
   "outputs": [],
   "source": [
    "output_dir = \"./csresults\"\n",
    "input_dir = \"./json/\""
   ]
  },
  {
   "cell_type": "code",
   "execution_count": 132,
   "metadata": {
    "ExecuteTime": {
     "end_time": "2019-05-05T23:47:52.510129Z",
     "start_time": "2019-05-05T23:47:52.493133Z"
    }
   },
   "outputs": [],
   "source": [
    "class ititle_contains(object):\n",
    "    \"\"\" An expectation for checking that the title contains a case-insensitive\n",
    "    substring. title is the fragment of title expected\n",
    "    returns True when the title matches, False otherwise\n",
    "    \"\"\"\n",
    "    def __init__(self, title):\n",
    "        self.title = title\n",
    "\n",
    "    def __call__(self, driver):\n",
    "        return self.title.lower() in html.unescape(driver.title).lower()\n",
    "#         if not rv:\n",
    "#             t = self.title.lower()\n",
    "#             i = t.index(' mg')\n",
    "#             if i > 0:\n",
    "#                 t = t[0:i] + 'mg'\n",
    "#                 print('t',t)\n",
    "#             return t in html.unescape(driver.title).lower()\n"
   ]
  },
  {
   "cell_type": "code",
   "execution_count": 146,
   "metadata": {
    "ExecuteTime": {
     "end_time": "2019-05-06T01:39:23.660230Z",
     "start_time": "2019-05-06T01:39:23.597828Z"
    }
   },
   "outputs": [],
   "source": [
    "# todo find the picture first, then link. Most of not found were because picture was with second link and not the first\n",
    "class drugscom:\n",
    "    def __init__(self):\n",
    "        self.debug = False\n",
    "        self.first = True\n",
    "        self.nonmatch_unique_file = open('nonmatch_unique.txt', 'wt')\n",
    "        self.wurl = 'https://www.drugs.com/pill_identification.html'\n",
    "        self.base = \"https://www.drugs.com\"\n",
    "        chrome_options = webdriver.ChromeOptions()\n",
    "        chrome_options.add_argument('--no-sandbox')\n",
    "        self.driver = webdriver.chrome.webdriver.WebDriver(\n",
    "            '/usr/local/bin/chromedriver', options=chrome_options)\n",
    "        self.ddriver = webdriver.chrome.webdriver.WebDriver(\n",
    "            '/usr/local/bin/chromedriver', options=chrome_options)\n",
    "        self.wait = WebDriverWait(self.driver, 5)\n",
    "        self.dwait = WebDriverWait(self.ddriver, 5)\n",
    "        self.driver.set_window_size(850, 1600)\n",
    "        self.shapes = [\n",
    "            'Round', 'Capsole', 'Oval', 'Egg', 'Barrel',\n",
    "            'Rectangle', '3 Sided', '4 Sided', '5 Sided', '6 Sided',\n",
    "            '7 sided', '8 sided', 'U Shaped', 'Figure 8', 'Heart',\n",
    "            'Kidney', 'Gear', 'Character'\n",
    "        ]\n",
    "        self.shapes_classes = [\n",
    "            'circle', 'capsole', 'oval', 'egg', 'barrel',\n",
    "            'rectangle', 'triangle', 'square', 'pentagon', 'hexagon',\n",
    "            'heptagon', 'octagon', 'U Shaped', 'Figure 8', 'Heart',\n",
    "            'kidney', 'gear', 'character'\n",
    "        ]\n",
    "        self.colors_classes = [None, 'White', None,\n",
    "                               'Beige', 'Black', 'Blue',\n",
    "                               'Brown', 'Clear', 'Gold',\n",
    "                               'Gray', 'Green', 'Maroon'\n",
    "                               'Orange', 'Peach', 'Pink',\n",
    "                               'Purple', 'Red', 'Tan',\n",
    "                               'White', 'Yellow',\n",
    "                               'Beige & Red', 'Black & Green',\n",
    "                               'Black & Teal', 'Black & Yellow',\n",
    "                               'Blue & Brown', 'Blue & Grey'\n",
    "                               'Blue & Orange', 'Blue & Peach',\n",
    "                               'Blue & Pink', 'Blue & White',\n",
    "                               'Blue & White Specks', 'Blue & Yellow',\n",
    "                               'Brown & Clear', 'Brown & Orange',\n",
    "                               'Brown & Peach', 'Brown & Red',\n",
    "                               'Brown & White', 'Brown & Yellow',\n",
    "                               'Clear & Green', 'Dark & Light Green',\n",
    "                               'Gold & White', 'Grey & Peach',\n",
    "                               'Grey & Pink', 'Grey & Red',\n",
    "                               'Grey & White', 'Grey & Yellow',\n",
    "                               'Green & Orange', 'Green & Peach',\n",
    "                               'Green & Pink', 'Green & Purple',\n",
    "                               'Green & Turquoise', 'Green & White',\n",
    "                               'Green & Yellow', 'Lavender & White',\n",
    "                               'Maroon & Pink', 'Orange & Turquoise',\n",
    "                               'Orange & White', 'Orange & Yellow',\n",
    "                               'Peach & Purple', 'Peach & Red',\n",
    "                               'Peach & White', 'Pink & Purple',\n",
    "                               'Pink & Red Specks', 'Pink & Turquoise',\n",
    "                               'Pink & White', 'Pink & Yellow',\n",
    "                               'Red & Turquoise', 'Red & White',\n",
    "                               'Red & Yellow', 'Tan & White',\n",
    "                               'Turquoise & White', 'Turquuise & Yellow',\n",
    "                               'White & Blue Specks', 'White & Red Specks',\n",
    "                               'White & Yellow', 'Yellow & Grey',\n",
    "                               'Yellow & White'\n",
    "                               ]\n",
    "        self.colors = [\n",
    "            'Beige', 'Black', 'Blue',\n",
    "            'Brown', 'Clear', 'Gold',\n",
    "            'Gray', 'Green', 'Maroon'\n",
    "            'Orange', 'Peach', 'Pink',\n",
    "            'Purple', 'Red', 'Tan',\n",
    "            'White', 'Yellow',\n",
    "            'Beige & Red', 'Black & Green',\n",
    "            'Black & Teal', 'Black & Yellow',\n",
    "            'Blue & Brown', 'Blue & Grey'\n",
    "            'Blue & Orange', 'Blue & Peach',\n",
    "            'Blue & Pink', 'Blue & White',\n",
    "            'Blue & White Specks', 'Blue & Yellow',\n",
    "            'Brown & Clear', 'Brown & Orange',\n",
    "            'Brown & Peach', 'Brown & Red',\n",
    "            'Brown & White', 'Brown & Yellow',\n",
    "            'Clear & Green', 'Dark & Light Green',\n",
    "            'Gold & White', 'Grey & Peach',\n",
    "            'Grey & Pink', 'Grey & Red',\n",
    "            'Grey & White', 'Grey & Yellow',\n",
    "            'Green & Orange', 'Green & Peach',\n",
    "            'Green & Pink', 'Green & Purple',\n",
    "            'Green & Turquoise', 'Green & White',\n",
    "            'Green & Yellow', 'Lavender & White',\n",
    "            'Maroon & Pink', 'Orange & Turquoise',\n",
    "            'Orange & White', 'Orange & Yellow',\n",
    "            'Peach & Purple', 'Peach & Red',\n",
    "            'Peach & White', 'Pink & Purple',\n",
    "            'Pink & Red Specks', 'Pink & Turquoise',\n",
    "            'Pink & White', 'Pink & Yellow',\n",
    "            'Red & Turquoise', 'Red & White',\n",
    "            'Red & Yellow', 'Tan & White',\n",
    "            'Turquoise & White', 'Turquuise & Yellow',\n",
    "            'White & Blue Specks', 'White & Red Specks',\n",
    "            'White & Yellow', 'Yellow & Grey',\n",
    "            'Yellow & White'\n",
    "        ]\n",
    "        self.results = []\n",
    "\n",
    "    def mprint_is_equal(self, m1, m2):  # m1 is drugs.com mprint, m2 is DB mprint\n",
    "        m1l = m1.lower()\n",
    "        m2l = m2.lower()\n",
    "        if m1l == m2l:\n",
    "#             print('return True', m1l)\n",
    "            return True        \n",
    "#         print(f'm1l|{m1l}|  m2l|{m2l}|')\n",
    "        # code matching \"xmg\" to \"x mg\"\n",
    "#         m1l = re.sub(r\"(\\s?mc?g)(?=$)\", \"\", m1l)\n",
    "#         m2l = re.sub(r\"(\\s?mc?g)(?=$)\", \"\", m2l)\n",
    "#         print(f'after sub m1l|{m1l}|  m2l|{m2l}|')\n",
    "#         m1m = re.search(r\"(mc?g)(?=$)\", m1l)\n",
    "#         m2m = re.search(r\"(mc?g)(?=$)\", m2l)\n",
    "# #         m1m = re.find(r\"(mg)(?=$)\", m1l)\n",
    "#         print('matches', m1m, m2m)\n",
    "#         if (m1m != None) and (m2m != None) and (m1m.group(1) == m2m.group(1)):\n",
    "#             m2l = m1l.replace(m1m.group(1), '').strip()\n",
    "#             m2l = m2l.replace(m2m.group(1), '').strip()\n",
    "        m1l = ''.join(c for c in m1l if c not in punctuation)\n",
    "        m2l = ''.join(c for c in m2l if c not in punctuation)\n",
    "        if m1l == m2l:\n",
    "#             print('return True', m1l)\n",
    "            return True\n",
    "#         print('no match yet', m1l, m2l)\n",
    "        m1s = m1l.split()\n",
    "        m2s = m2l.split()\n",
    "        m2sLogo = m2l.split()\n",
    "        if \"\".join(m1s) == \"\".join(m2s):\n",
    "#             print('returning true after dupped adjustments')\n",
    "#             print('match',  \"\".join(m1s), \"\".join(m2s))\n",
    "            return True\n",
    "#         print('not match',  \"\".join(m1s), \"\".join(m2s))        \n",
    "#         print('m1s', m1s, type(m1s), len(m1s), 'm2s', m2s, len(m2s))\n",
    "        if len(m1s) == len(m2s) + 1: \n",
    "#             print('m2s befoe insert', m2s)\n",
    "            m2s.insert(0, m2s[0])  # drugs.com first word dupped\n",
    "            m2sLogo.insert(0, 'logo') # drugs.com added first word of 'logo'\n",
    "#             print('m2s after insert', m2s)\n",
    "#         print('after +1 test')\n",
    "        else:\n",
    "            if len(m1s) == 2 * len(m2s):  # drugs.com entire mprint dupped\n",
    "                m2s.extend(m2s)\n",
    "        if \"\".join(m1s) == \"\".join(m2s):\n",
    "#             print('returning true after dupped adjustments')\n",
    "#             print('match',  \"\".join(m1s), \"\".join(m2s))\n",
    "            return True\n",
    "#         print('not match',  \"\".join(m1s), \"\".join(m2s))\n",
    "#         print('after dupped adjustments and no match', \" \".join(m1s), \" \".join(m2s))\n",
    "        if len(m1s) == len(m2s):  # test every possible starting word (don't know where left/right break is)\n",
    "            m2sq = deque(m2s)\n",
    "            m1ss = \"\".join(m1l)\n",
    "            for _ in range(len(m2s) - 1):\n",
    "                l = m2sq.popleft()\n",
    "                m2sq.append(l)\n",
    "                if m1ss == \"\".join(m2sq):\n",
    "                    return True\n",
    "        return False\n",
    "\n",
    "    def get_data(self, pmprint):\n",
    "        #         self.driver.get(self.wurl)\n",
    "        #         WebDriverWait(self.driver, 100).until(EC.title_contains(\n",
    "        #             \"Pill Identifier (Pill Finder) - Drugs.com\"))\n",
    "        #         try:\n",
    "        #             elem = self.wait.until(\n",
    "        #                 EC.element_to_be_clickable((By.LINK_TEXT, 'Accept' if len(self.results) == 0 else 'Search Again')))\n",
    "        #         except:\n",
    "        if self.first:\n",
    "            self.driver.get(self.wurl)\n",
    "            WebDriverWait(self.driver, 100).until(EC.title_contains(\n",
    "                \"Pill Identifier (Pill Finder) - Drugs.com\"))\n",
    "            if self.debug:\n",
    "                print('started')\n",
    "                timer.sleep(3)\n",
    "                self.driver.refresh()\n",
    "            else:\n",
    "                elem = self.wait.until(\n",
    "                    EC.element_to_be_clickable((By.LINK_TEXT, 'Accept')))\n",
    "                elem.click()\n",
    "            self.first = False\n",
    "\n",
    "        mprint = pmprint\n",
    "#         elem = self.wait.until(EC.element_to_be_clickable((By.XPATH, \"//a[@href='/imprints.php']\")))\n",
    "        elem = self.wait.until(EC.element_to_be_clickable(\n",
    "            (By.CSS_SELECTOR, \"#livesearch-imprint\")))\n",
    "        elem.click()\n",
    "        elem.clear()\n",
    "        elem.send_keys(mprint)\n",
    "        elem.send_keys(Keys.RETURN)\n",
    "        elem = self.wait.until(EC.element_to_be_clickable(\n",
    "            (By.XPATH, \"//input[@type='submit']\")))\n",
    "#         elem.click()\n",
    "        soup = BeautifulSoup(self.driver.page_source, 'html.parser')\n",
    "        a = None\n",
    "        mprint = None\n",
    "        imgs = soup.findAll(\n",
    "            lambda tag: tag.name == \"img\" and\n",
    "            len(tag.attrs) >= 1 and\n",
    "            tag[\"src\"][0:14] == '/images/pills/')\n",
    "        for img in imgs:\n",
    "            #             s = img['src']\n",
    "            #                       print('s',s)\n",
    "            a = img.parent.parent('span', text='Pill Imprint:')[\n",
    "                0].next_sibling.next_sibling\n",
    "#             print('a', a, type(a), a.text)\n",
    "            mprint = a.text\n",
    "            # remove repeated internal spaces\n",
    "            mprint = ' '.join(mprint.split())\n",
    "#             print('mprint', mprint)\n",
    "            if not self.mprint_is_equal(mprint, pmprint):\n",
    "                #                     print('not equal',mprint,pmprint)\n",
    "                if len(imgs) == 1:  # unique image result from drugs.com\n",
    "                    self.nonmatch_unique_file.write(\n",
    "                        f\"mprint {mprint} pmprint {pmprint}\")\n",
    "                    break\n",
    "#                 print(f\"nonmatch continue mprint {mprint} pmprint {pmprint}\")                    \n",
    "                a = None\n",
    "                mprint = None\n",
    "                continue\n",
    "#             print('soup breaking out of imgs loop')\n",
    "            break\n",
    "\n",
    "        try:\n",
    "            elem = self.wait.until(\n",
    "                EC.element_to_be_clickable((By.LINK_TEXT, 'Search Again')))\n",
    "            elem.click()\n",
    "        except:\n",
    "            pass\n",
    "        if a == None:\n",
    "            return self.results\n",
    "        i = 0\n",
    "        if a != None:\n",
    "            #             a = elem.parent.find_next('a')\n",
    "            #             print(f\"img: {a['href']} MPRINT: {a.text}\")\n",
    "            #             mprint = a.text\n",
    "            #             mprint = ' '.join(mprint.split()) # remove repeated internal spaces\n",
    "            #             if not self.mprint_is_equal(mprint,pmprint):\n",
    "            #                 continue\n",
    "            self.ddriver.get(self.base + a['href'])\n",
    "            WebDriverWait(self.ddriver, 100).until(ititle_contains(mprint))\n",
    "#             print(a.text, ' title')\n",
    "            isoup = BeautifulSoup(self.ddriver.page_source, 'html.parser')\n",
    "            div = isoup.find_all('div', {'class': 'contentBox'})[0]\n",
    "            brand = div.h1.text\n",
    "            brand = brand[brand.index('(') + 1:-1]\n",
    "            generic = None\n",
    "            try:\n",
    "                generic = isoup.find_all(\n",
    "                    'p', {'class': 'drug-subtitle'})[0].text\n",
    "                generic = generic[14:]\n",
    "            except:\n",
    "                pass\n",
    "            # <dt class=\"pid-item-title pid-item-inline\">Color:</dt>\n",
    "            colors = isoup.find_all('dt', string='Color:')\n",
    "#             print('colors', colors)\n",
    "            shapes = isoup.find_all('dt', string='Shape:')\n",
    "#             imgs = isoup.find_all('img')\n",
    "#             print('imgs len',len(imgs))\n",
    "            appended = False\n",
    "            imgs = isoup.findAll(\n",
    "                lambda tag: tag.name == \"img\" and\n",
    "                len(tag.attrs) >= 1 and\n",
    "                tag[\"src\"][0:14] == '/images/pills/')\n",
    "#             print('imgs length', len(imgs))\n",
    "#             print('brand', brand, 'generic', generic, mprint, )\n",
    "            for img in imgs:\n",
    "                #                   print('img', img)\n",
    "                try:\n",
    "                    s = img['src']\n",
    "                    # #                       print('s',s)\n",
    "                    #                     if s[0:14] == '/images/pills/':\n",
    "                        #                          print('found img', s, ' mprint ', mprint)\n",
    "                        #                         self.img = base + s\n",
    "                    self.results.append(\n",
    "                        {'brand': brand, 'generic': generic, 'mprint': mprint, 'img': self.base + s,\n",
    "                         'color': colors[i].next_sibling.text, 'shape': shapes[i].next_sibling.text})\n",
    "                    appended = True\n",
    "                    break\n",
    "                except Exception as e:\n",
    "                    print('error appending', repr(e))\n",
    "                    pass\n",
    "#             if self.mprint_is_equal(mprint,pmprint) & appended: # works because drugs.com puts matching mprint first\n",
    "#                 break\n",
    "#             print( mprint.lower(), pmprint.lower())\n",
    "            i += i\n",
    "        return self.results\n",
    "\n",
    "    def reset(self):\n",
    "        self.results = []\n",
    "\n",
    "    def close(self):\n",
    "        self.driver.quit()\n",
    "        self.ddriver.quit()\n",
    "        self.nonmatch_unique_file.close()"
   ]
  },
  {
   "cell_type": "code",
   "execution_count": 151,
   "metadata": {
    "ExecuteTime": {
     "end_time": "2019-05-06T02:07:51.722635Z",
     "start_time": "2019-05-06T02:06:24.291806Z"
    }
   },
   "outputs": [],
   "source": [
    "d = drugscom()\n",
    "test = d.get_data(\"Andrx 696 120 mg\")\n",
    "test1 = d.get_data('Westward 480')\n",
    "d.get_data('M Amphet Salts 30 mg')\n",
    "test = d.get_data('BAYER 20')\n",
    "test = d.get_data('BAYER 10')\n",
    "test = d.get_data('M T6')\n",
    "test = d.get_data('2876')\n",
    "d.close()"
   ]
  },
  {
   "cell_type": "code",
   "execution_count": 152,
   "metadata": {
    "ExecuteTime": {
     "end_time": "2019-05-06T02:08:25.700755Z",
     "start_time": "2019-05-06T02:08:25.688747Z"
    }
   },
   "outputs": [
    {
     "data": {
      "text/plain": [
       "[{'brand': 'Taztia XT 120 mg',\n",
       "  'generic': 'diltiazem',\n",
       "  'mprint': 'Andrx 696 120mg',\n",
       "  'img': 'https://www.drugs.com/images/pills/mtm/620370696_PB.jpg',\n",
       "  'color': 'Pink',\n",
       "  'shape': 'Capsule-shape'},\n",
       " {'brand': 'Propylthiouracil 50 mg',\n",
       "  'generic': None,\n",
       "  'mprint': 'West-ward 480',\n",
       "  'img': 'https://www.drugs.com/images/pills/mtm/001431480_PB.jpg',\n",
       "  'color': 'White',\n",
       "  'shape': 'Round'},\n",
       " {'brand': 'Amphetamine and Dextroamphetamine Extended Release 30 mg',\n",
       "  'generic': None,\n",
       "  'mprint': 'M. Amphet Salts 30 mg',\n",
       "  'img': 'https://www.drugs.com/images/pills/nlm/001151333.jpg',\n",
       "  'color': 'Orange / Clear',\n",
       "  'shape': 'Capsule-shape'},\n",
       " {'brand': 'Levitra 20 mg',\n",
       "  'generic': 'vardenafil',\n",
       "  'mprint': 'BAYER BAYER 20',\n",
       "  'img': 'https://www.drugs.com/images/pills/nlm/000851934.jpg',\n",
       "  'color': 'Orange',\n",
       "  'shape': 'Round'},\n",
       " {'brand': 'Levitra 10 mg',\n",
       "  'generic': 'vardenafil',\n",
       "  'mprint': 'BAYER BAYER 10',\n",
       "  'img': 'https://www.drugs.com/images/pills/nlm/000851901.jpg',\n",
       "  'color': 'Orange',\n",
       "  'shape': 'Round'},\n",
       " {'brand': 'Trifluoperazine Hydrochloride 10 mg',\n",
       "  'generic': None,\n",
       "  'mprint': 'M T 6',\n",
       "  'img': 'https://www.drugs.com/images/pills/nlm/003782410.jpg',\n",
       "  'color': 'Purple',\n",
       "  'shape': 'Round'},\n",
       " {'brand': 'Hydrochlorothiazide and Irbesartan 12.5 mg / 300 mg',\n",
       "  'generic': None,\n",
       "  'mprint': 'Logo 2876',\n",
       "  'img': 'https://www.drugs.com/images/pills/nlm/009551046.jpg',\n",
       "  'color': 'Peach',\n",
       "  'shape': 'Elliptical / Oval'}]"
      ]
     },
     "execution_count": 152,
     "metadata": {},
     "output_type": "execute_result"
    }
   ],
   "source": [
    "test"
   ]
  },
  {
   "cell_type": "code",
   "execution_count": 145,
   "metadata": {
    "ExecuteTime": {
     "end_time": "2019-05-06T01:38:04.795116Z",
     "start_time": "2019-05-06T01:38:04.654553Z"
    }
   },
   "outputs": [],
   "source": [
    "d.close()"
   ]
  },
  {
   "cell_type": "code",
   "execution_count": 109,
   "metadata": {
    "ExecuteTime": {
     "end_time": "2019-05-05T22:36:13.910404Z",
     "start_time": "2019-05-05T22:36:13.901188Z"
    }
   },
   "outputs": [],
   "source": [
    "pd.set_option('display.max_columns', 500)"
   ]
  },
  {
   "cell_type": "code",
   "execution_count": 110,
   "metadata": {
    "ExecuteTime": {
     "end_time": "2019-05-05T22:36:14.986957Z",
     "start_time": "2019-05-05T22:36:14.335410Z"
    }
   },
   "outputs": [],
   "source": [
    "url = 'pillbox_201805.tab'\n",
    "df_ = pd.read_csv(url,sep='\\t')"
   ]
  },
  {
   "cell_type": "code",
   "execution_count": 111,
   "metadata": {
    "ExecuteTime": {
     "end_time": "2019-05-05T22:36:15.011020Z",
     "start_time": "2019-05-05T22:36:14.988855Z"
    }
   },
   "outputs": [],
   "source": [
    "df = df_[(df_.SPLIMPRINT.notnull()) & (df_.image_id.notnull()) & (df_.image_id != 'no_product_image')]"
   ]
  },
  {
   "cell_type": "code",
   "execution_count": 112,
   "metadata": {
    "ExecuteTime": {
     "end_time": "2019-05-05T22:36:15.409801Z",
     "start_time": "2019-05-05T22:36:15.378203Z"
    }
   },
   "outputs": [
    {
     "data": {
      "text/html": [
       "<div>\n",
       "<style scoped>\n",
       "    .dataframe tbody tr th:only-of-type {\n",
       "        vertical-align: middle;\n",
       "    }\n",
       "\n",
       "    .dataframe tbody tr th {\n",
       "        vertical-align: top;\n",
       "    }\n",
       "\n",
       "    .dataframe thead th {\n",
       "        text-align: right;\n",
       "    }\n",
       "</style>\n",
       "<table border=\"1\" class=\"dataframe\">\n",
       "  <thead>\n",
       "    <tr style=\"text-align: right;\">\n",
       "      <th></th>\n",
       "      <th>id</th>\n",
       "      <th>spl_id</th>\n",
       "      <th>SETID</th>\n",
       "      <th>spp</th>\n",
       "      <th>NDC9</th>\n",
       "      <th>PRODUCT_CODE</th>\n",
       "      <th>EQUAL_PRODUCT_CODE</th>\n",
       "      <th>author</th>\n",
       "      <th>SPLIMPRINT</th>\n",
       "      <th>SPLCOLOR</th>\n",
       "      <th>SPLSHAPE</th>\n",
       "      <th>SPLSIZE</th>\n",
       "      <th>SPLSCORE</th>\n",
       "      <th>DEA_SCHEDULE_CODE</th>\n",
       "      <th>INGREDIENTS</th>\n",
       "      <th>SPL_INACTIVE_ING</th>\n",
       "      <th>RXCUI</th>\n",
       "      <th>RXTTY</th>\n",
       "      <th>RXSTRING</th>\n",
       "      <th>image_id</th>\n",
       "      <th>IMAGE_SOURCE</th>\n",
       "      <th>HAS_IMAGE</th>\n",
       "      <th>FROM_SIS</th>\n",
       "      <th>NO_RXCUI</th>\n",
       "    </tr>\n",
       "  </thead>\n",
       "  <tbody>\n",
       "    <tr>\n",
       "      <th>50</th>\n",
       "      <td>4710</td>\n",
       "      <td>NaN</td>\n",
       "      <td>8fed703a-9de2-4c76-a783-fcf004f9b890</td>\n",
       "      <td>8fed703a-9de2-4c76-a783-fcf004f9b890-50844-175-0</td>\n",
       "      <td>508440175</td>\n",
       "      <td>50844-175</td>\n",
       "      <td>NaN</td>\n",
       "      <td>L.N.K. International, Inc.</td>\n",
       "      <td>44;175</td>\n",
       "      <td>C48325</td>\n",
       "      <td>C48345</td>\n",
       "      <td>17.0</td>\n",
       "      <td>1</td>\n",
       "      <td>NaN</td>\n",
       "      <td>ACETAMINOPHEN[ACETAMINOPHEN]</td>\n",
       "      <td>HYPROMELLOSES / POVIDONE / STEARIC ACID / CAST...</td>\n",
       "      <td>198440.0</td>\n",
       "      <td>SCD</td>\n",
       "      <td>Acetaminophen 500 MG Oral Tablet</td>\n",
       "      <td>50844-0175-10_NLMIMAGE10_5135A8AD</td>\n",
       "      <td>NLMIMAGE10</td>\n",
       "      <td>1</td>\n",
       "      <td>NaN</td>\n",
       "      <td>NaN</td>\n",
       "    </tr>\n",
       "    <tr>\n",
       "      <th>58</th>\n",
       "      <td>61985</td>\n",
       "      <td>NaN</td>\n",
       "      <td>c35d5dcc-8ee1-49da-993d-65c0195db918</td>\n",
       "      <td>c35d5dcc-8ee1-49da-993d-65c0195db918-70518-0901-0</td>\n",
       "      <td>705180901</td>\n",
       "      <td>70518-0901</td>\n",
       "      <td>0093-7206</td>\n",
       "      <td>REMEDYREPACK INC.</td>\n",
       "      <td>9;3;7206</td>\n",
       "      <td>C48330</td>\n",
       "      <td>C48348</td>\n",
       "      <td>7.0</td>\n",
       "      <td>2</td>\n",
       "      <td>NaN</td>\n",
       "      <td>MIRTAZAPINE[MIRTAZAPINE]</td>\n",
       "      <td>SILICON DIOXIDE / STARCH, CORN / HYPROMELLOSE ...</td>\n",
       "      <td>311725.0</td>\n",
       "      <td>SCD</td>\n",
       "      <td>Mirtazapine 15 MG Oral Tablet</td>\n",
       "      <td>00093720656</td>\n",
       "      <td>SPL</td>\n",
       "      <td>1</td>\n",
       "      <td>1.0</td>\n",
       "      <td>NaN</td>\n",
       "    </tr>\n",
       "    <tr>\n",
       "      <th>68</th>\n",
       "      <td>11648</td>\n",
       "      <td>NaN</td>\n",
       "      <td>2fb7763f-6ce4-43b9-b3be-90a66315828b</td>\n",
       "      <td>2fb7763f-6ce4-43b9-b3be-90a66315828b-60429-566-0</td>\n",
       "      <td>604290566</td>\n",
       "      <td>60429-566</td>\n",
       "      <td>0591-0744</td>\n",
       "      <td>Golden State Medical Supply, Inc.</td>\n",
       "      <td>WATSON;744;1</td>\n",
       "      <td>C48325</td>\n",
       "      <td>C48338</td>\n",
       "      <td>9.0</td>\n",
       "      <td>2</td>\n",
       "      <td>C48677</td>\n",
       "      <td>ESTAZOLAM[ESTAZOLAM]</td>\n",
       "      <td>DOCUSATE SODIUM / LACTOSE MONOHYDRATE / MAGNES...</td>\n",
       "      <td>NaN</td>\n",
       "      <td>NaN</td>\n",
       "      <td>NaN</td>\n",
       "      <td>604290566</td>\n",
       "      <td>VA2</td>\n",
       "      <td>1</td>\n",
       "      <td>1.0</td>\n",
       "      <td>NaN</td>\n",
       "    </tr>\n",
       "    <tr>\n",
       "      <th>71</th>\n",
       "      <td>47756</td>\n",
       "      <td>NaN</td>\n",
       "      <td>662f11ca-cf1e-41fd-9b2a-11a23d1f6290</td>\n",
       "      <td>662f11ca-cf1e-41fd-9b2a-11a23d1f6290-0781-1034-0</td>\n",
       "      <td>007811034</td>\n",
       "      <td>0781-1034</td>\n",
       "      <td>NaN</td>\n",
       "      <td>Sandoz Inc</td>\n",
       "      <td>GG55;5</td>\n",
       "      <td>C48327</td>\n",
       "      <td>C48348</td>\n",
       "      <td>8.0</td>\n",
       "      <td>1</td>\n",
       "      <td>NaN</td>\n",
       "      <td>TRIFLUOPERAZINE HYDROCHLORIDE[TRIFLUOPERAZINE]</td>\n",
       "      <td>D&amp;C RED NO. 30 / FD&amp;C BLUE NO. 2 / HYDROXYPROP...</td>\n",
       "      <td>198325.0</td>\n",
       "      <td>SCD</td>\n",
       "      <td>Trifluoperazine 5 MG Oral Tablet</td>\n",
       "      <td>007811034</td>\n",
       "      <td>VA2</td>\n",
       "      <td>1</td>\n",
       "      <td>NaN</td>\n",
       "      <td>NaN</td>\n",
       "    </tr>\n",
       "    <tr>\n",
       "      <th>79</th>\n",
       "      <td>33477</td>\n",
       "      <td>NaN</td>\n",
       "      <td>70be7d33-bc8b-4f48-84c6-a8e3d1476e97</td>\n",
       "      <td>70be7d33-bc8b-4f48-84c6-a8e3d1476e97-59762-0145-0</td>\n",
       "      <td>597620145</td>\n",
       "      <td>59762-0145</td>\n",
       "      <td>NaN</td>\n",
       "      <td>Greenstone LLC</td>\n",
       "      <td>FELDENE;PFIZER;323</td>\n",
       "      <td>C48326</td>\n",
       "      <td>C48336</td>\n",
       "      <td>18.0</td>\n",
       "      <td>1</td>\n",
       "      <td>NaN</td>\n",
       "      <td>PIROXICAM[PIROXICAM]</td>\n",
       "      <td>FD&amp;C BLUE NO. 1 / FD&amp;C RED NO. 3 / LACTOSE, UN...</td>\n",
       "      <td>198108.0</td>\n",
       "      <td>SCD</td>\n",
       "      <td>Piroxicam 20 MG Oral Capsule</td>\n",
       "      <td>59762-0145-01_NLMIMAGE10_333E99F4</td>\n",
       "      <td>RXIMAGE30</td>\n",
       "      <td>1</td>\n",
       "      <td>NaN</td>\n",
       "      <td>NaN</td>\n",
       "    </tr>\n",
       "  </tbody>\n",
       "</table>\n",
       "</div>"
      ],
      "text/plain": [
       "       id  spl_id                                 SETID  \\\n",
       "50   4710     NaN  8fed703a-9de2-4c76-a783-fcf004f9b890   \n",
       "58  61985     NaN  c35d5dcc-8ee1-49da-993d-65c0195db918   \n",
       "68  11648     NaN  2fb7763f-6ce4-43b9-b3be-90a66315828b   \n",
       "71  47756     NaN  662f11ca-cf1e-41fd-9b2a-11a23d1f6290   \n",
       "79  33477     NaN  70be7d33-bc8b-4f48-84c6-a8e3d1476e97   \n",
       "\n",
       "                                                  spp       NDC9 PRODUCT_CODE  \\\n",
       "50   8fed703a-9de2-4c76-a783-fcf004f9b890-50844-175-0  508440175    50844-175   \n",
       "58  c35d5dcc-8ee1-49da-993d-65c0195db918-70518-0901-0  705180901   70518-0901   \n",
       "68   2fb7763f-6ce4-43b9-b3be-90a66315828b-60429-566-0  604290566    60429-566   \n",
       "71   662f11ca-cf1e-41fd-9b2a-11a23d1f6290-0781-1034-0  007811034    0781-1034   \n",
       "79  70be7d33-bc8b-4f48-84c6-a8e3d1476e97-59762-0145-0  597620145   59762-0145   \n",
       "\n",
       "   EQUAL_PRODUCT_CODE                             author          SPLIMPRINT  \\\n",
       "50                NaN         L.N.K. International, Inc.              44;175   \n",
       "58          0093-7206                  REMEDYREPACK INC.            9;3;7206   \n",
       "68          0591-0744  Golden State Medical Supply, Inc.        WATSON;744;1   \n",
       "71                NaN                         Sandoz Inc              GG55;5   \n",
       "79                NaN                     Greenstone LLC  FELDENE;PFIZER;323   \n",
       "\n",
       "   SPLCOLOR SPLSHAPE  SPLSIZE  SPLSCORE DEA_SCHEDULE_CODE  \\\n",
       "50   C48325   C48345     17.0         1               NaN   \n",
       "58   C48330   C48348      7.0         2               NaN   \n",
       "68   C48325   C48338      9.0         2            C48677   \n",
       "71   C48327   C48348      8.0         1               NaN   \n",
       "79   C48326   C48336     18.0         1               NaN   \n",
       "\n",
       "                                       INGREDIENTS  \\\n",
       "50                    ACETAMINOPHEN[ACETAMINOPHEN]   \n",
       "58                        MIRTAZAPINE[MIRTAZAPINE]   \n",
       "68                            ESTAZOLAM[ESTAZOLAM]   \n",
       "71  TRIFLUOPERAZINE HYDROCHLORIDE[TRIFLUOPERAZINE]   \n",
       "79                            PIROXICAM[PIROXICAM]   \n",
       "\n",
       "                                     SPL_INACTIVE_ING     RXCUI RXTTY  \\\n",
       "50  HYPROMELLOSES / POVIDONE / STEARIC ACID / CAST...  198440.0   SCD   \n",
       "58  SILICON DIOXIDE / STARCH, CORN / HYPROMELLOSE ...  311725.0   SCD   \n",
       "68  DOCUSATE SODIUM / LACTOSE MONOHYDRATE / MAGNES...       NaN   NaN   \n",
       "71  D&C RED NO. 30 / FD&C BLUE NO. 2 / HYDROXYPROP...  198325.0   SCD   \n",
       "79  FD&C BLUE NO. 1 / FD&C RED NO. 3 / LACTOSE, UN...  198108.0   SCD   \n",
       "\n",
       "                            RXSTRING                           image_id  \\\n",
       "50  Acetaminophen 500 MG Oral Tablet  50844-0175-10_NLMIMAGE10_5135A8AD   \n",
       "58     Mirtazapine 15 MG Oral Tablet                        00093720656   \n",
       "68                               NaN                          604290566   \n",
       "71  Trifluoperazine 5 MG Oral Tablet                          007811034   \n",
       "79      Piroxicam 20 MG Oral Capsule  59762-0145-01_NLMIMAGE10_333E99F4   \n",
       "\n",
       "   IMAGE_SOURCE  HAS_IMAGE  FROM_SIS  NO_RXCUI  \n",
       "50   NLMIMAGE10          1       NaN       NaN  \n",
       "58          SPL          1       1.0       NaN  \n",
       "68          VA2          1       1.0       NaN  \n",
       "71          VA2          1       NaN       NaN  \n",
       "79    RXIMAGE30          1       NaN       NaN  "
      ]
     },
     "execution_count": 112,
     "metadata": {},
     "output_type": "execute_result"
    }
   ],
   "source": [
    "df.head()"
   ]
  },
  {
   "cell_type": "code",
   "execution_count": 113,
   "metadata": {
    "ExecuteTime": {
     "end_time": "2019-05-05T22:36:16.000623Z",
     "start_time": "2019-05-05T22:36:15.965367Z"
    }
   },
   "outputs": [
    {
     "data": {
      "text/html": [
       "<div>\n",
       "<style scoped>\n",
       "    .dataframe tbody tr th:only-of-type {\n",
       "        vertical-align: middle;\n",
       "    }\n",
       "\n",
       "    .dataframe tbody tr th {\n",
       "        vertical-align: top;\n",
       "    }\n",
       "\n",
       "    .dataframe thead th {\n",
       "        text-align: right;\n",
       "    }\n",
       "</style>\n",
       "<table border=\"1\" class=\"dataframe\">\n",
       "  <thead>\n",
       "    <tr style=\"text-align: right;\">\n",
       "      <th></th>\n",
       "      <th>id</th>\n",
       "      <th>spl_id</th>\n",
       "      <th>SETID</th>\n",
       "      <th>spp</th>\n",
       "      <th>NDC9</th>\n",
       "      <th>PRODUCT_CODE</th>\n",
       "      <th>EQUAL_PRODUCT_CODE</th>\n",
       "      <th>author</th>\n",
       "      <th>SPLIMPRINT</th>\n",
       "      <th>SPLCOLOR</th>\n",
       "      <th>SPLSHAPE</th>\n",
       "      <th>SPLSIZE</th>\n",
       "      <th>SPLSCORE</th>\n",
       "      <th>DEA_SCHEDULE_CODE</th>\n",
       "      <th>INGREDIENTS</th>\n",
       "      <th>SPL_INACTIVE_ING</th>\n",
       "      <th>RXCUI</th>\n",
       "      <th>RXTTY</th>\n",
       "      <th>RXSTRING</th>\n",
       "      <th>image_id</th>\n",
       "      <th>IMAGE_SOURCE</th>\n",
       "      <th>HAS_IMAGE</th>\n",
       "      <th>FROM_SIS</th>\n",
       "      <th>NO_RXCUI</th>\n",
       "    </tr>\n",
       "  </thead>\n",
       "  <tbody>\n",
       "    <tr>\n",
       "      <th>19515</th>\n",
       "      <td>18599</td>\n",
       "      <td>NaN</td>\n",
       "      <td>bcd8f8ab-81a2-4891-83db-24a0b0e25895</td>\n",
       "      <td>bcd8f8ab-81a2-4891-83db-24a0b0e25895-0002-4463-0</td>\n",
       "      <td>000024463</td>\n",
       "      <td>0002-4463</td>\n",
       "      <td>NaN</td>\n",
       "      <td>Eli Lilly and Company</td>\n",
       "      <td>C;10</td>\n",
       "      <td>C48330</td>\n",
       "      <td>C48351</td>\n",
       "      <td>11.0</td>\n",
       "      <td>1</td>\n",
       "      <td>NaN</td>\n",
       "      <td>Tadalafil[Tadalafil]</td>\n",
       "      <td>Hydroxypropyl cellulose (Type H) / Hypromellos...</td>\n",
       "      <td>402096.0</td>\n",
       "      <td>SBD</td>\n",
       "      <td>tadalafil 10 MG Oral Tablet [Cialis]</td>\n",
       "      <td>00002-4463-30_B5155ACA</td>\n",
       "      <td>NLM</td>\n",
       "      <td>1</td>\n",
       "      <td>NaN</td>\n",
       "      <td>NaN</td>\n",
       "    </tr>\n",
       "    <tr>\n",
       "      <th>33345</th>\n",
       "      <td>27495</td>\n",
       "      <td>NaN</td>\n",
       "      <td>2ca7efcd-4a8d-4139-a3eb-930afd18b13f</td>\n",
       "      <td>2ca7efcd-4a8d-4139-a3eb-930afd18b13f-57237-005-0</td>\n",
       "      <td>572370005</td>\n",
       "      <td>57237-005</td>\n",
       "      <td>NaN</td>\n",
       "      <td>Citron Pharma LLC</td>\n",
       "      <td>C;10</td>\n",
       "      <td>C48328</td>\n",
       "      <td>C48336</td>\n",
       "      <td>12.0</td>\n",
       "      <td>1</td>\n",
       "      <td>NaN</td>\n",
       "      <td>FLUCONAZOLE[FLUCONAZOLE]</td>\n",
       "      <td>CELLULOSE, MICROCRYSTALLINE / ANHYDROUS DIBASI...</td>\n",
       "      <td>197699.0</td>\n",
       "      <td>SCD</td>\n",
       "      <td>Fluconazole 150 MG Oral Tablet</td>\n",
       "      <td>57237-0005-11_NLMIMAGE10_34471A28</td>\n",
       "      <td>RXIMAGE30</td>\n",
       "      <td>1</td>\n",
       "      <td>NaN</td>\n",
       "      <td>NaN</td>\n",
       "    </tr>\n",
       "    <tr>\n",
       "      <th>43091</th>\n",
       "      <td>35129</td>\n",
       "      <td>NaN</td>\n",
       "      <td>d2acccda-8068-46c1-8562-950d7f70ee06</td>\n",
       "      <td>d2acccda-8068-46c1-8562-950d7f70ee06-16714-692-0</td>\n",
       "      <td>167140692</td>\n",
       "      <td>16714-692</td>\n",
       "      <td>NaN</td>\n",
       "      <td>NorthStar Rx LLC</td>\n",
       "      <td>C;10</td>\n",
       "      <td>C48328</td>\n",
       "      <td>C48336</td>\n",
       "      <td>12.0</td>\n",
       "      <td>1</td>\n",
       "      <td>NaN</td>\n",
       "      <td>FLUCONAZOLE[FLUCONAZOLE]</td>\n",
       "      <td>CELLULOSE, MICROCRYSTALLINE / ANHYDROUS DIBASI...</td>\n",
       "      <td>197699.0</td>\n",
       "      <td>SCD</td>\n",
       "      <td>Fluconazole 150 MG Oral Tablet</td>\n",
       "      <td>16714-0692-10_NLMIMAGE10_10408864</td>\n",
       "      <td>RXIMAGE30</td>\n",
       "      <td>1</td>\n",
       "      <td>NaN</td>\n",
       "      <td>NaN</td>\n",
       "    </tr>\n",
       "  </tbody>\n",
       "</table>\n",
       "</div>"
      ],
      "text/plain": [
       "          id  spl_id                                 SETID  \\\n",
       "19515  18599     NaN  bcd8f8ab-81a2-4891-83db-24a0b0e25895   \n",
       "33345  27495     NaN  2ca7efcd-4a8d-4139-a3eb-930afd18b13f   \n",
       "43091  35129     NaN  d2acccda-8068-46c1-8562-950d7f70ee06   \n",
       "\n",
       "                                                    spp       NDC9  \\\n",
       "19515  bcd8f8ab-81a2-4891-83db-24a0b0e25895-0002-4463-0  000024463   \n",
       "33345  2ca7efcd-4a8d-4139-a3eb-930afd18b13f-57237-005-0  572370005   \n",
       "43091  d2acccda-8068-46c1-8562-950d7f70ee06-16714-692-0  167140692   \n",
       "\n",
       "      PRODUCT_CODE EQUAL_PRODUCT_CODE                 author SPLIMPRINT  \\\n",
       "19515    0002-4463                NaN  Eli Lilly and Company       C;10   \n",
       "33345    57237-005                NaN      Citron Pharma LLC       C;10   \n",
       "43091    16714-692                NaN       NorthStar Rx LLC       C;10   \n",
       "\n",
       "      SPLCOLOR SPLSHAPE  SPLSIZE  SPLSCORE DEA_SCHEDULE_CODE  \\\n",
       "19515   C48330   C48351     11.0         1               NaN   \n",
       "33345   C48328   C48336     12.0         1               NaN   \n",
       "43091   C48328   C48336     12.0         1               NaN   \n",
       "\n",
       "                    INGREDIENTS  \\\n",
       "19515      Tadalafil[Tadalafil]   \n",
       "33345  FLUCONAZOLE[FLUCONAZOLE]   \n",
       "43091  FLUCONAZOLE[FLUCONAZOLE]   \n",
       "\n",
       "                                        SPL_INACTIVE_ING     RXCUI RXTTY  \\\n",
       "19515  Hydroxypropyl cellulose (Type H) / Hypromellos...  402096.0   SBD   \n",
       "33345  CELLULOSE, MICROCRYSTALLINE / ANHYDROUS DIBASI...  197699.0   SCD   \n",
       "43091  CELLULOSE, MICROCRYSTALLINE / ANHYDROUS DIBASI...  197699.0   SCD   \n",
       "\n",
       "                                   RXSTRING  \\\n",
       "19515  tadalafil 10 MG Oral Tablet [Cialis]   \n",
       "33345        Fluconazole 150 MG Oral Tablet   \n",
       "43091        Fluconazole 150 MG Oral Tablet   \n",
       "\n",
       "                                image_id IMAGE_SOURCE  HAS_IMAGE  FROM_SIS  \\\n",
       "19515             00002-4463-30_B5155ACA          NLM          1       NaN   \n",
       "33345  57237-0005-11_NLMIMAGE10_34471A28    RXIMAGE30          1       NaN   \n",
       "43091  16714-0692-10_NLMIMAGE10_10408864    RXIMAGE30          1       NaN   \n",
       "\n",
       "       NO_RXCUI  \n",
       "19515       NaN  \n",
       "33345       NaN  \n",
       "43091       NaN  "
      ]
     },
     "execution_count": 113,
     "metadata": {},
     "output_type": "execute_result"
    }
   ],
   "source": [
    "df[df.SPLIMPRINT == \"C;10\"]"
   ]
  },
  {
   "cell_type": "code",
   "execution_count": 114,
   "metadata": {
    "ExecuteTime": {
     "end_time": "2019-05-05T22:36:16.950103Z",
     "start_time": "2019-05-05T22:36:16.944154Z"
    }
   },
   "outputs": [],
   "source": [
    "regex = r\"([\\w\\d]+)\""
   ]
  },
  {
   "cell_type": "code",
   "execution_count": 115,
   "metadata": {
    "ExecuteTime": {
     "end_time": "2019-05-05T22:36:17.905394Z",
     "start_time": "2019-05-05T22:36:17.865933Z"
    }
   },
   "outputs": [],
   "source": [
    "js_names = glob.glob(os.path.join(input_dir, '*.json')) "
   ]
  },
  {
   "cell_type": "code",
   "execution_count": 116,
   "metadata": {
    "ExecuteTime": {
     "end_time": "2019-05-05T22:36:19.321115Z",
     "start_time": "2019-05-05T22:36:19.312706Z"
    }
   },
   "outputs": [
    {
     "name": "stdout",
     "output_type": "stream",
     "text": [
      "7001\n"
     ]
    }
   ],
   "source": [
    "print(len(js_names))"
   ]
  },
  {
   "cell_type": "code",
   "execution_count": 117,
   "metadata": {
    "ExecuteTime": {
     "end_time": "2019-05-05T22:36:28.065700Z",
     "start_time": "2019-05-05T22:36:25.068593Z"
    }
   },
   "outputs": [],
   "source": [
    "d = drugscom()"
   ]
  },
  {
   "cell_type": "code",
   "execution_count": 118,
   "metadata": {
    "ExecuteTime": {
     "end_time": "2019-05-05T22:36:30.396070Z",
     "start_time": "2019-05-05T22:36:30.387898Z"
    }
   },
   "outputs": [],
   "source": [
    "#  Andrx 696 120 mg find image in brand"
   ]
  },
  {
   "cell_type": "code",
   "execution_count": 119,
   "metadata": {
    "ExecuteTime": {
     "end_time": "2019-05-05T22:47:39.147482Z",
     "start_time": "2019-05-05T22:36:31.660879Z"
    }
   },
   "outputs": [
    {
     "name": "stdout",
     "output_type": "stream",
     "text": [
      "mprint 2876 in 009551046 not found\n",
      "mprint L U X04 in 68180-0115-07_NLMIMAGE10_3A081D50 not found\n",
      "mprint 10 crestor in 433530290 not found\n",
      "mprint M Tofranil PM 75mg in 004069923 not found\n",
      "mprint RX526 in 680840248 not found\n",
      "mprint PA 309 in 50111-0309-01_8629434A not found\n",
      "mprint IG321 100mg in 604290738 not found\n",
      "mprint N 305 800 in 000938305 not found\n",
      "mprint SB 4894 in 00007-4894-20_C718E3D7 not found\n",
      "mprint TCL272 in 422910312 not found\n",
      "mprint DAN DAN 5325 in 00591-5325-01_240E1210 not found\n"
     ]
    },
    {
     "ename": "TimeoutException",
     "evalue": "Message: timeout\n  (Session info: chrome=72.0.3626.119)\n  (Driver info: chromedriver=2.45.615279 (12b89733300bd268cff3b78fc76cb8f3a7cc44e5),platform=Linux 4.15.0-47-generic x86_64)\n",
     "output_type": "error",
     "traceback": [
      "\u001b[0;31m---------------------------------------------------------------------------\u001b[0m",
      "\u001b[0;31mTimeoutException\u001b[0m                          Traceback (most recent call last)",
      "\u001b[0;32m<ipython-input-119-657332951cea>\u001b[0m in \u001b[0;36m<module>\u001b[0;34m\u001b[0m\n\u001b[1;32m      7\u001b[0m     \u001b[0mmprint\u001b[0m \u001b[0;34m=\u001b[0m \u001b[0mj\u001b[0m\u001b[0;34m[\u001b[0m\u001b[0;34m'description'\u001b[0m\u001b[0;34m]\u001b[0m\u001b[0;34m\u001b[0m\u001b[0m\n\u001b[1;32m      8\u001b[0m     \u001b[0mmprint\u001b[0m \u001b[0;34m=\u001b[0m \u001b[0;34m' '\u001b[0m\u001b[0;34m.\u001b[0m\u001b[0mjoin\u001b[0m\u001b[0;34m(\u001b[0m\u001b[0mmprint\u001b[0m\u001b[0;34m.\u001b[0m\u001b[0msplit\u001b[0m\u001b[0;34m(\u001b[0m\u001b[0;34m)\u001b[0m\u001b[0;34m)\u001b[0m \u001b[0;31m# remove repeated internal spaces\u001b[0m\u001b[0;34m\u001b[0m\u001b[0m\n\u001b[0;32m----> 9\u001b[0;31m     \u001b[0mdict\u001b[0m \u001b[0;34m=\u001b[0m \u001b[0md\u001b[0m\u001b[0;34m.\u001b[0m\u001b[0mget_data\u001b[0m\u001b[0;34m(\u001b[0m\u001b[0mmprint\u001b[0m\u001b[0;34m)\u001b[0m\u001b[0;34m\u001b[0m\u001b[0m\n\u001b[0m\u001b[1;32m     10\u001b[0m     \u001b[0;32mif\u001b[0m \u001b[0mlen\u001b[0m\u001b[0;34m(\u001b[0m\u001b[0mdict\u001b[0m\u001b[0;34m)\u001b[0m \u001b[0;34m==\u001b[0m \u001b[0;36m0\u001b[0m\u001b[0;34m:\u001b[0m\u001b[0;34m\u001b[0m\u001b[0m\n\u001b[1;32m     11\u001b[0m         \u001b[0mprint\u001b[0m\u001b[0;34m(\u001b[0m\u001b[0;34mf\"mprint {mprint} in {image_id} not found\"\u001b[0m\u001b[0;34m)\u001b[0m\u001b[0;34m\u001b[0m\u001b[0m\n",
      "\u001b[0;32m<ipython-input-108-5d4f4ea080b5>\u001b[0m in \u001b[0;36mget_data\u001b[0;34m(self, pmprint)\u001b[0m\n\u001b[1;32m    178\u001b[0m         \u001b[0melem\u001b[0m\u001b[0;34m.\u001b[0m\u001b[0mclear\u001b[0m\u001b[0;34m(\u001b[0m\u001b[0;34m)\u001b[0m\u001b[0;34m\u001b[0m\u001b[0m\n\u001b[1;32m    179\u001b[0m         \u001b[0melem\u001b[0m\u001b[0;34m.\u001b[0m\u001b[0msend_keys\u001b[0m\u001b[0;34m(\u001b[0m\u001b[0mmprint\u001b[0m\u001b[0;34m)\u001b[0m\u001b[0;34m\u001b[0m\u001b[0m\n\u001b[0;32m--> 180\u001b[0;31m         \u001b[0melem\u001b[0m\u001b[0;34m.\u001b[0m\u001b[0msend_keys\u001b[0m\u001b[0;34m(\u001b[0m\u001b[0mKeys\u001b[0m\u001b[0;34m.\u001b[0m\u001b[0mRETURN\u001b[0m\u001b[0;34m)\u001b[0m\u001b[0;34m\u001b[0m\u001b[0m\n\u001b[0m\u001b[1;32m    181\u001b[0m         elem = self.wait.until(EC.element_to_be_clickable(\n\u001b[1;32m    182\u001b[0m             (By.XPATH, \"//input[@type='submit']\")))\n",
      "\u001b[0;32m~/anaconda3/envs/dash/lib/python3.6/site-packages/selenium/webdriver/remote/webelement.py\u001b[0m in \u001b[0;36msend_keys\u001b[0;34m(self, *value)\u001b[0m\n\u001b[1;32m    477\u001b[0m         self._execute(Command.SEND_KEYS_TO_ELEMENT,\n\u001b[1;32m    478\u001b[0m                       {'text': \"\".join(keys_to_typing(value)),\n\u001b[0;32m--> 479\u001b[0;31m                        'value': keys_to_typing(value)})\n\u001b[0m\u001b[1;32m    480\u001b[0m \u001b[0;34m\u001b[0m\u001b[0m\n\u001b[1;32m    481\u001b[0m     \u001b[0;31m# RenderedWebElement Items\u001b[0m\u001b[0;34m\u001b[0m\u001b[0;34m\u001b[0m\u001b[0m\n",
      "\u001b[0;32m~/anaconda3/envs/dash/lib/python3.6/site-packages/selenium/webdriver/remote/webelement.py\u001b[0m in \u001b[0;36m_execute\u001b[0;34m(self, command, params)\u001b[0m\n\u001b[1;32m    631\u001b[0m             \u001b[0mparams\u001b[0m \u001b[0;34m=\u001b[0m \u001b[0;34m{\u001b[0m\u001b[0;34m}\u001b[0m\u001b[0;34m\u001b[0m\u001b[0m\n\u001b[1;32m    632\u001b[0m         \u001b[0mparams\u001b[0m\u001b[0;34m[\u001b[0m\u001b[0;34m'id'\u001b[0m\u001b[0;34m]\u001b[0m \u001b[0;34m=\u001b[0m \u001b[0mself\u001b[0m\u001b[0;34m.\u001b[0m\u001b[0m_id\u001b[0m\u001b[0;34m\u001b[0m\u001b[0m\n\u001b[0;32m--> 633\u001b[0;31m         \u001b[0;32mreturn\u001b[0m \u001b[0mself\u001b[0m\u001b[0;34m.\u001b[0m\u001b[0m_parent\u001b[0m\u001b[0;34m.\u001b[0m\u001b[0mexecute\u001b[0m\u001b[0;34m(\u001b[0m\u001b[0mcommand\u001b[0m\u001b[0;34m,\u001b[0m \u001b[0mparams\u001b[0m\u001b[0;34m)\u001b[0m\u001b[0;34m\u001b[0m\u001b[0m\n\u001b[0m\u001b[1;32m    634\u001b[0m \u001b[0;34m\u001b[0m\u001b[0m\n\u001b[1;32m    635\u001b[0m     \u001b[0;32mdef\u001b[0m \u001b[0mfind_element\u001b[0m\u001b[0;34m(\u001b[0m\u001b[0mself\u001b[0m\u001b[0;34m,\u001b[0m \u001b[0mby\u001b[0m\u001b[0;34m=\u001b[0m\u001b[0mBy\u001b[0m\u001b[0;34m.\u001b[0m\u001b[0mID\u001b[0m\u001b[0;34m,\u001b[0m \u001b[0mvalue\u001b[0m\u001b[0;34m=\u001b[0m\u001b[0;32mNone\u001b[0m\u001b[0;34m)\u001b[0m\u001b[0;34m:\u001b[0m\u001b[0;34m\u001b[0m\u001b[0m\n",
      "\u001b[0;32m~/anaconda3/envs/dash/lib/python3.6/site-packages/selenium/webdriver/remote/webdriver.py\u001b[0m in \u001b[0;36mexecute\u001b[0;34m(self, driver_command, params)\u001b[0m\n\u001b[1;32m    319\u001b[0m         \u001b[0mresponse\u001b[0m \u001b[0;34m=\u001b[0m \u001b[0mself\u001b[0m\u001b[0;34m.\u001b[0m\u001b[0mcommand_executor\u001b[0m\u001b[0;34m.\u001b[0m\u001b[0mexecute\u001b[0m\u001b[0;34m(\u001b[0m\u001b[0mdriver_command\u001b[0m\u001b[0;34m,\u001b[0m \u001b[0mparams\u001b[0m\u001b[0;34m)\u001b[0m\u001b[0;34m\u001b[0m\u001b[0m\n\u001b[1;32m    320\u001b[0m         \u001b[0;32mif\u001b[0m \u001b[0mresponse\u001b[0m\u001b[0;34m:\u001b[0m\u001b[0;34m\u001b[0m\u001b[0m\n\u001b[0;32m--> 321\u001b[0;31m             \u001b[0mself\u001b[0m\u001b[0;34m.\u001b[0m\u001b[0merror_handler\u001b[0m\u001b[0;34m.\u001b[0m\u001b[0mcheck_response\u001b[0m\u001b[0;34m(\u001b[0m\u001b[0mresponse\u001b[0m\u001b[0;34m)\u001b[0m\u001b[0;34m\u001b[0m\u001b[0m\n\u001b[0m\u001b[1;32m    322\u001b[0m             response['value'] = self._unwrap_value(\n\u001b[1;32m    323\u001b[0m                 response.get('value', None))\n",
      "\u001b[0;32m~/anaconda3/envs/dash/lib/python3.6/site-packages/selenium/webdriver/remote/errorhandler.py\u001b[0m in \u001b[0;36mcheck_response\u001b[0;34m(self, response)\u001b[0m\n\u001b[1;32m    240\u001b[0m                 \u001b[0malert_text\u001b[0m \u001b[0;34m=\u001b[0m \u001b[0mvalue\u001b[0m\u001b[0;34m[\u001b[0m\u001b[0;34m'alert'\u001b[0m\u001b[0;34m]\u001b[0m\u001b[0;34m.\u001b[0m\u001b[0mget\u001b[0m\u001b[0;34m(\u001b[0m\u001b[0;34m'text'\u001b[0m\u001b[0;34m)\u001b[0m\u001b[0;34m\u001b[0m\u001b[0m\n\u001b[1;32m    241\u001b[0m             \u001b[0;32mraise\u001b[0m \u001b[0mexception_class\u001b[0m\u001b[0;34m(\u001b[0m\u001b[0mmessage\u001b[0m\u001b[0;34m,\u001b[0m \u001b[0mscreen\u001b[0m\u001b[0;34m,\u001b[0m \u001b[0mstacktrace\u001b[0m\u001b[0;34m,\u001b[0m \u001b[0malert_text\u001b[0m\u001b[0;34m)\u001b[0m\u001b[0;34m\u001b[0m\u001b[0m\n\u001b[0;32m--> 242\u001b[0;31m         \u001b[0;32mraise\u001b[0m \u001b[0mexception_class\u001b[0m\u001b[0;34m(\u001b[0m\u001b[0mmessage\u001b[0m\u001b[0;34m,\u001b[0m \u001b[0mscreen\u001b[0m\u001b[0;34m,\u001b[0m \u001b[0mstacktrace\u001b[0m\u001b[0;34m)\u001b[0m\u001b[0;34m\u001b[0m\u001b[0m\n\u001b[0m\u001b[1;32m    243\u001b[0m \u001b[0;34m\u001b[0m\u001b[0m\n\u001b[1;32m    244\u001b[0m     \u001b[0;32mdef\u001b[0m \u001b[0m_value_or_default\u001b[0m\u001b[0;34m(\u001b[0m\u001b[0mself\u001b[0m\u001b[0;34m,\u001b[0m \u001b[0mobj\u001b[0m\u001b[0;34m,\u001b[0m \u001b[0mkey\u001b[0m\u001b[0;34m,\u001b[0m \u001b[0mdefault\u001b[0m\u001b[0;34m)\u001b[0m\u001b[0;34m:\u001b[0m\u001b[0;34m\u001b[0m\u001b[0m\n",
      "\u001b[0;31mTimeoutException\u001b[0m: Message: timeout\n  (Session info: chrome=72.0.3626.119)\n  (Driver info: chromedriver=2.45.615279 (12b89733300bd268cff3b78fc76cb8f3a7cc44e5),platform=Linux 4.15.0-47-generic x86_64)\n"
     ]
    }
   ],
   "source": [
    "dicta = []\n",
    "i = 0\n",
    "for fp in js_names:\n",
    "    image_id = fp[7:-9]\n",
    "    d.reset()\n",
    "    j = json.load(open(fp, 'r'))\n",
    "    mprint = j['description']\n",
    "    mprint = ' '.join(mprint.split()) # remove repeated internal spaces\n",
    "    dict = d.get_data(mprint)\n",
    "    if len(dict) == 0:\n",
    "        print(f\"mprint {mprint} in {image_id} not found\")\n",
    "        i += 1\n",
    "        continue\n",
    "    dict = dict[0]\n",
    "#     print(mprint, d.get_data(mprint), fp[9:-9])\n",
    "    try: \n",
    "        row = df[df.image_id == image_id][['SPLCOLOR','SPLSHAPE']].iloc[0]\n",
    "#     print('|' + image_id + '|', row['SPLCOLOR'], row['SPLSHAPE'], type(row))\n",
    "        dicta.append({'image_id': image_id, 'color': dict['color'],'SPLCOLOR': row['SPLCOLOR'], 'shape': dict['shape'],'SPLSHAPE': row['SPLSHAPE']  })\n",
    "    except:\n",
    "        print(f\"row {mprint} {image_id} not found\")\n",
    "    i += 1\n",
    "    if i % 100 == 0:\n",
    "        print('i',i,end=' ')\n",
    "#     break"
   ]
  },
  {
   "cell_type": "code",
   "execution_count": 113,
   "metadata": {
    "ExecuteTime": {
     "end_time": "2019-05-05T07:07:51.392665Z",
     "start_time": "2019-05-05T07:07:51.219633Z"
    }
   },
   "outputs": [],
   "source": [
    "d.close()"
   ]
  },
  {
   "cell_type": "code",
   "execution_count": 111,
   "metadata": {
    "ExecuteTime": {
     "end_time": "2019-05-05T07:06:14.056051Z",
     "start_time": "2019-05-05T07:06:11.085075Z"
    }
   },
   "outputs": [],
   "source": [
    "d = drugscom()"
   ]
  },
  {
   "cell_type": "code",
   "execution_count": 112,
   "metadata": {
    "ExecuteTime": {
     "end_time": "2019-05-05T07:07:30.547833Z",
     "start_time": "2019-05-05T07:06:14.058212Z"
    }
   },
   "outputs": [
    {
     "data": {
      "text/plain": [
       "[{'brand': 'Cialis 10 mg',\n",
       "  'generic': 'tadalafil',\n",
       "  'mprint': 'C 10',\n",
       "  'img': 'https://www.drugs.com/images/pills/mmx/t106434f/cialis.jpg',\n",
       "  'color': 'Yellow',\n",
       "  'shape': 'Elliptical / Oval'},\n",
       " {'brand': 'Cymbalta 30 mg',\n",
       "  'generic': 'duloxetine',\n",
       "  'mprint': 'Lilly 3240 30 mg',\n",
       "  'img': 'https://www.drugs.com/images/pills/nlm/000023240.jpg',\n",
       "  'color': 'Blue & White',\n",
       "  'shape': 'Capsule-shape'},\n",
       " {'brand': 'Zyprexa 10 mg',\n",
       "  'generic': 'olanzapine',\n",
       "  'mprint': 'LILLY 4117',\n",
       "  'img': 'https://www.drugs.com/images/pills/nlm/000024117.jpg',\n",
       "  'color': 'White',\n",
       "  'shape': 'Round'}]"
      ]
     },
     "execution_count": 112,
     "metadata": {},
     "output_type": "execute_result"
    }
   ],
   "source": [
    "# d = drugscom()\n",
    "time.sleep(2)\n",
    "d.reset()\n",
    "d.get_data(\"C 10\")\n",
    "d.get_data(\"LILLY 3240 30 mg\")\n",
    "d.get_data(\"LILLY 4117\")"
   ]
  },
  {
   "cell_type": "code",
   "execution_count": 113,
   "metadata": {},
   "outputs": [
    {
     "data": {
      "text/plain": [
       "[{'brand': 'Fluconazole 150 mg',\n",
       "  'generic': None,\n",
       "  'mprint': 'C 10',\n",
       "  'img': 'https://www.drugs.com/images/pills/mtm/572370005_PB.jpg',\n",
       "  'color': 'Pink',\n",
       "  'shape': 'Capsule-shape'}]"
      ]
     },
     "execution_count": 113,
     "metadata": {},
     "output_type": "execute_result"
    }
   ],
   "source": [
    "d.get_data(\"10 c\")"
   ]
  },
  {
   "cell_type": "code",
   "execution_count": 92,
   "metadata": {},
   "outputs": [],
   "source": [
    "d.reset()\n",
    "# d.get_data(\"LILLY 4117\")"
   ]
  },
  {
   "cell_type": "code",
   "execution_count": 61,
   "metadata": {},
   "outputs": [
    {
     "data": {
      "text/plain": [
       "[{'mprint': 'LILLY 4117',\n",
       "  'img': 'https://www.drugs.com/images/pills/nlm/000024117.jpg',\n",
       "  'color': 'White',\n",
       "  'shape': 'Round'},\n",
       " {'mprint': 'LILLY 4117',\n",
       "  'img': 'https://www.drugs.com/images/pills/nlm/000024117.jpg',\n",
       "  'color': 'White',\n",
       "  'shape': 'Round'}]"
      ]
     },
     "execution_count": 61,
     "metadata": {},
     "output_type": "execute_result"
    }
   ],
   "source": [
    " d.get_data(\"4117 lilly\")"
   ]
  },
  {
   "cell_type": "code",
   "execution_count": 129,
   "metadata": {},
   "outputs": [
    {
     "data": {
      "text/plain": [
       "2053"
      ]
     },
     "execution_count": 129,
     "metadata": {},
     "output_type": "execute_result"
    }
   ],
   "source": [
    "len(dicta)"
   ]
  },
  {
   "cell_type": "code",
   "execution_count": 116,
   "metadata": {
    "ExecuteTime": {
     "end_time": "2019-05-05T07:08:42.672114Z",
     "start_time": "2019-05-05T07:08:42.655529Z"
    }
   },
   "outputs": [],
   "source": [
    "dfd = pd.DataFrame(dicta) #todo never name a DataFrame column \"shape\" again"
   ]
  },
  {
   "cell_type": "code",
   "execution_count": 117,
   "metadata": {
    "ExecuteTime": {
     "end_time": "2019-05-05T07:08:43.586314Z",
     "start_time": "2019-05-05T07:08:43.556676Z"
    }
   },
   "outputs": [
    {
     "data": {
      "text/html": [
       "<div>\n",
       "<style scoped>\n",
       "    .dataframe tbody tr th:only-of-type {\n",
       "        vertical-align: middle;\n",
       "    }\n",
       "\n",
       "    .dataframe tbody tr th {\n",
       "        vertical-align: top;\n",
       "    }\n",
       "\n",
       "    .dataframe thead th {\n",
       "        text-align: right;\n",
       "    }\n",
       "</style>\n",
       "<table border=\"1\" class=\"dataframe\">\n",
       "  <thead>\n",
       "    <tr style=\"text-align: right;\">\n",
       "      <th></th>\n",
       "      <th>SPLCOLOR</th>\n",
       "      <th>SPLSHAPE</th>\n",
       "      <th>color</th>\n",
       "      <th>image_id</th>\n",
       "      <th>shape</th>\n",
       "    </tr>\n",
       "  </thead>\n",
       "  <tbody>\n",
       "    <tr>\n",
       "      <th>0</th>\n",
       "      <td>C48328</td>\n",
       "      <td>C48348</td>\n",
       "      <td>Pink</td>\n",
       "      <td>433530866</td>\n",
       "      <td>Round</td>\n",
       "    </tr>\n",
       "    <tr>\n",
       "      <th>1</th>\n",
       "      <td>C48329;C48327</td>\n",
       "      <td>C48336</td>\n",
       "      <td>Green &amp; Purple</td>\n",
       "      <td>00093316006</td>\n",
       "      <td>Capsule-shape</td>\n",
       "    </tr>\n",
       "    <tr>\n",
       "      <th>2</th>\n",
       "      <td>C48325</td>\n",
       "      <td>C48348</td>\n",
       "      <td>White</td>\n",
       "      <td>510790810</td>\n",
       "      <td>Round</td>\n",
       "    </tr>\n",
       "    <tr>\n",
       "      <th>3</th>\n",
       "      <td>C48325</td>\n",
       "      <td>C48345</td>\n",
       "      <td>White</td>\n",
       "      <td>68180-0115-07_NLMIMAGE10_3A081D50</td>\n",
       "      <td>Elliptical / Oval</td>\n",
       "    </tr>\n",
       "    <tr>\n",
       "      <th>4</th>\n",
       "      <td>C48325</td>\n",
       "      <td>C48348</td>\n",
       "      <td>White</td>\n",
       "      <td>00093514056</td>\n",
       "      <td>Round</td>\n",
       "    </tr>\n",
       "  </tbody>\n",
       "</table>\n",
       "</div>"
      ],
      "text/plain": [
       "        SPLCOLOR SPLSHAPE           color                           image_id  \\\n",
       "0         C48328   C48348            Pink                          433530866   \n",
       "1  C48329;C48327   C48336  Green & Purple                        00093316006   \n",
       "2         C48325   C48348           White                          510790810   \n",
       "3         C48325   C48345           White  68180-0115-07_NLMIMAGE10_3A081D50   \n",
       "4         C48325   C48348           White                        00093514056   \n",
       "\n",
       "               shape  \n",
       "0              Round  \n",
       "1      Capsule-shape  \n",
       "2              Round  \n",
       "3  Elliptical / Oval  \n",
       "4              Round  "
      ]
     },
     "execution_count": 117,
     "metadata": {},
     "output_type": "execute_result"
    }
   ],
   "source": [
    "dfd.head()"
   ]
  },
  {
   "cell_type": "code",
   "execution_count": 118,
   "metadata": {
    "ExecuteTime": {
     "end_time": "2019-05-05T07:08:44.752120Z",
     "start_time": "2019-05-05T07:08:44.729732Z"
    }
   },
   "outputs": [],
   "source": [
    "with open('color_shape.csv', 'wt') as f:\n",
    "    dfd.to_csv(f)"
   ]
  },
  {
   "cell_type": "code",
   "execution_count": 119,
   "metadata": {
    "ExecuteTime": {
     "end_time": "2019-05-05T07:08:57.577970Z",
     "start_time": "2019-05-05T07:08:57.463987Z"
    }
   },
   "outputs": [
    {
     "name": "stdout",
     "output_type": "stream",
     "text": [
      "/home/mark/lambda/pill_identifier\r\n"
     ]
    }
   ],
   "source": [
    "!pwd"
   ]
  },
  {
   "cell_type": "code",
   "execution_count": 120,
   "metadata": {
    "ExecuteTime": {
     "end_time": "2019-05-05T07:08:58.611381Z",
     "start_time": "2019-05-05T07:08:58.189489Z"
    }
   },
   "outputs": [],
   "source": [
    "ushapes = dfd['shape'].unique()\n",
    "sdict = {}\n",
    "for splshape in dfd.SPLSHAPE.unique():\n",
    "    rd = {}\n",
    "    for shape in ushapes:\n",
    "        c = len(dfd[(dfd.SPLSHAPE == splshape) & (dfd['shape'] == shape)])\n",
    "        if c > 0:\n",
    "            rd[shape] = c\n",
    "    sdict[splshape] = rd"
   ]
  },
  {
   "cell_type": "code",
   "execution_count": 121,
   "metadata": {
    "ExecuteTime": {
     "end_time": "2019-05-05T07:09:17.816894Z",
     "start_time": "2019-05-05T07:08:59.523442Z"
    }
   },
   "outputs": [],
   "source": [
    "ucolors = dfd.color.unique()\n",
    "cdict = {}\n",
    "for splcolor in dfd.SPLCOLOR.unique():\n",
    "    rd = {}\n",
    "    for color in ucolors:\n",
    "        c = len(dfd[(dfd.SPLCOLOR == splcolor) & (dfd.color == color)])\n",
    "        if c > 0:\n",
    "            rd[color] = c\n",
    "    cdict[splcolor] = rd"
   ]
  },
  {
   "cell_type": "code",
   "execution_count": 122,
   "metadata": {
    "ExecuteTime": {
     "end_time": "2019-05-05T07:09:17.821713Z",
     "start_time": "2019-05-05T07:09:17.819004Z"
    }
   },
   "outputs": [],
   "source": [
    "from functools import reduce"
   ]
  },
  {
   "cell_type": "code",
   "execution_count": 123,
   "metadata": {
    "ExecuteTime": {
     "end_time": "2019-05-05T07:09:17.827617Z",
     "start_time": "2019-05-05T07:09:17.823452Z"
    }
   },
   "outputs": [],
   "source": [
    "sd = {}\n",
    "for cd in sdict.keys():\n",
    "    d = sdict[cd]\n",
    "    da = reduce((lambda m, v: [d[v],v] if d[v] > m[0] else m), d.keys(), [0,'x'])\n",
    "    sd[cd] = da[1]"
   ]
  },
  {
   "cell_type": "code",
   "execution_count": 124,
   "metadata": {
    "ExecuteTime": {
     "end_time": "2019-05-05T07:09:17.833581Z",
     "start_time": "2019-05-05T07:09:17.829488Z"
    }
   },
   "outputs": [
    {
     "data": {
      "text/plain": [
       "{'C48348': 'Round',\n",
       " 'C48336': 'Capsule-shape',\n",
       " 'C48345': 'Elliptical / Oval',\n",
       " 'C48346': 'Five-sided',\n",
       " 'C48340': 'U-shape',\n",
       " 'C48350': 'Four-sided',\n",
       " 'C48338': 'Four-sided',\n",
       " 'C48351': 'Egg-shape',\n",
       " 'C48347': 'Rectangle',\n",
       " 'C48353': 'Three-sided',\n",
       " 'C48352': 'Four-sided',\n",
       " 'C48349': 'U-shape',\n",
       " 'C48343': 'Six-sided',\n",
       " 'C48344': 'Eight-sided',\n",
       " 'C48335': 'Barrel',\n",
       " 'C48339': 'Figure eight-shape'}"
      ]
     },
     "execution_count": 124,
     "metadata": {},
     "output_type": "execute_result"
    }
   ],
   "source": [
    "sd"
   ]
  },
  {
   "cell_type": "code",
   "execution_count": 125,
   "metadata": {
    "ExecuteTime": {
     "end_time": "2019-05-05T07:09:20.790793Z",
     "start_time": "2019-05-05T07:09:20.786624Z"
    }
   },
   "outputs": [],
   "source": [
    "fd = {}\n",
    "for cd in cdict.keys():\n",
    "    d = cdict[cd]\n",
    "    da = reduce((lambda m, v: [d[v],v] if d[v] > m[0] else m), d.keys(), [0,'x'])\n",
    "    fd[cd] = da[1]"
   ]
  },
  {
   "cell_type": "code",
   "execution_count": 126,
   "metadata": {
    "ExecuteTime": {
     "end_time": "2019-05-05T07:09:21.336329Z",
     "start_time": "2019-05-05T07:09:21.330223Z"
    }
   },
   "outputs": [],
   "source": [
    "ssd = {}\n",
    "for key in sorted(sd.keys()):\n",
    "    ssd[key] = sd[key]"
   ]
  },
  {
   "cell_type": "code",
   "execution_count": 127,
   "metadata": {
    "ExecuteTime": {
     "end_time": "2019-05-05T07:09:22.268819Z",
     "start_time": "2019-05-05T07:09:22.264147Z"
    }
   },
   "outputs": [
    {
     "data": {
      "text/plain": [
       "{'C48335': 'Barrel',\n",
       " 'C48336': 'Capsule-shape',\n",
       " 'C48338': 'Four-sided',\n",
       " 'C48339': 'Figure eight-shape',\n",
       " 'C48340': 'U-shape',\n",
       " 'C48343': 'Six-sided',\n",
       " 'C48344': 'Eight-sided',\n",
       " 'C48345': 'Elliptical / Oval',\n",
       " 'C48346': 'Five-sided',\n",
       " 'C48347': 'Rectangle',\n",
       " 'C48348': 'Round',\n",
       " 'C48349': 'U-shape',\n",
       " 'C48350': 'Four-sided',\n",
       " 'C48351': 'Egg-shape',\n",
       " 'C48352': 'Four-sided',\n",
       " 'C48353': 'Three-sided'}"
      ]
     },
     "execution_count": 127,
     "metadata": {},
     "output_type": "execute_result"
    }
   ],
   "source": [
    "ssd"
   ]
  },
  {
   "cell_type": "code",
   "execution_count": 128,
   "metadata": {
    "ExecuteTime": {
     "end_time": "2019-05-05T07:09:28.064602Z",
     "start_time": "2019-05-05T07:09:28.058998Z"
    }
   },
   "outputs": [],
   "source": [
    "sfd = {}\n",
    "for key in sorted(fd.keys()):\n",
    "    sfd[key] = fd[key]"
   ]
  },
  {
   "cell_type": "code",
   "execution_count": 129,
   "metadata": {
    "ExecuteTime": {
     "end_time": "2019-05-05T07:09:29.335585Z",
     "start_time": "2019-05-05T07:09:29.312644Z"
    }
   },
   "outputs": [
    {
     "name": "stdout",
     "output_type": "stream",
     "text": [
      "deleting key  C48329;C48327\n",
      "deleting key  C48329;C48328\n",
      "deleting key  C48329;C48325\n",
      "deleting key  C48325;C48333\n",
      "deleting key  C48333;C48330\n",
      "deleting key  C48326;C48325\n",
      "deleting key  C48333;C48325\n",
      "deleting key  C48325;C48331\n",
      "deleting key  C48323;C48329\n",
      "deleting key  C48331;C48325\n",
      "deleting key  C48325;C48330\n",
      "deleting key  C48333;C48329\n",
      "deleting key  C48331;C48330\n",
      "deleting key  C48325;C48324\n",
      "deleting key  C48328;C48329\n",
      "deleting key  C48333;C48328\n",
      "deleting key  C48327;C48328\n",
      "deleting key  C48330;C48325\n",
      "deleting key  C48324;C48330\n",
      "deleting key  C48325;C48329\n",
      "deleting key  C48328;C48325\n",
      "deleting key  C48325;C48332\n",
      "deleting key  C48331;C48329\n",
      "deleting key  C48330;C48326\n",
      "deleting key  C48329;C48330\n",
      "deleting key  C48331;C48332\n",
      "deleting key  C48324;C48325\n",
      "deleting key  C48323;C48330\n",
      "deleting key  C48327;C48331\n",
      "deleting key  C48327;C48325\n",
      "deleting key  C48330;C48332\n",
      "deleting key  C48326;C48333\n",
      "deleting key  C48333;C48324\n",
      "deleting key  C48330;C48333\n",
      "deleting key  C48333;C48331\n",
      "deleting key  C48329;C48331\n",
      "deleting key  C48332;C48325\n",
      "deleting key  C48332;C48330\n",
      "deleting key  C48330;C48329\n",
      "deleting key  C48332;C48328\n",
      "deleting key  C48327;C48334\n"
     ]
    }
   ],
   "source": [
    "for key in fd.keys():\n",
    "    sk = key.split(';')\n",
    "    sd = sfd[key].split(' & ')\n",
    "    if len(sd) == 1:\n",
    "        sd = sfd[key].split(' / ')\n",
    "    subkeys = (len(sk) == len(sd)) & (len(sd) > 1)\n",
    "    r = subkeys\n",
    "    if subkeys:\n",
    "        for i in range(len(sd)):\n",
    "            try:\n",
    "                if sfd[sk[i]] not in sd:\n",
    "                    r = False\n",
    "                    break\n",
    "            except:\n",
    "                r = False\n",
    "                break;\n",
    "    if r:\n",
    "        if r & subkeys:\n",
    "            print('deleting key ', key)\n",
    "        del sfd[key]\n",
    "            \n",
    "            "
   ]
  },
  {
   "cell_type": "code",
   "execution_count": 130,
   "metadata": {
    "ExecuteTime": {
     "end_time": "2019-05-05T07:09:44.787760Z",
     "start_time": "2019-05-05T07:09:44.785098Z"
    }
   },
   "outputs": [],
   "source": [
    "for key in fd.keys():\n",
    "    if key in sfd:\n",
    "        if len(key.split(';')) > 1: \n",
    "            del sfd[key]"
   ]
  },
  {
   "cell_type": "code",
   "execution_count": 131,
   "metadata": {
    "ExecuteTime": {
     "end_time": "2019-05-05T07:09:45.568517Z",
     "start_time": "2019-05-05T07:09:45.558908Z"
    }
   },
   "outputs": [
    {
     "data": {
      "text/plain": [
       "{'C48323': 'Black',\n",
       " 'C48324': 'Gray',\n",
       " 'C48325': 'White',\n",
       " 'C48326': 'Red',\n",
       " 'C48327': 'Purple',\n",
       " 'C48328': 'Pink',\n",
       " 'C48329': 'Green',\n",
       " 'C48330': 'Yellow',\n",
       " 'C48331': 'Orange',\n",
       " 'C48332': 'Brown',\n",
       " 'C48333': 'Blue',\n",
       " 'C48334': 'Blue'}"
      ]
     },
     "execution_count": 131,
     "metadata": {},
     "output_type": "execute_result"
    }
   ],
   "source": [
    "sfd"
   ]
  },
  {
   "cell_type": "code",
   "execution_count": null,
   "metadata": {},
   "outputs": [],
   "source": []
  }
 ],
 "metadata": {
  "kernelspec": {
   "display_name": "Python 3",
   "language": "python",
   "name": "python3"
  },
  "language_info": {
   "codemirror_mode": {
    "name": "ipython",
    "version": 3
   },
   "file_extension": ".py",
   "mimetype": "text/x-python",
   "name": "python",
   "nbconvert_exporter": "python",
   "pygments_lexer": "ipython3",
   "version": "3.6.6"
  },
  "latex_envs": {
   "LaTeX_envs_menu_present": true,
   "autoclose": false,
   "autocomplete": true,
   "bibliofile": "biblio.bib",
   "cite_by": "apalike",
   "current_citInitial": 1,
   "eqLabelWithNumbers": true,
   "eqNumInitial": 1,
   "hotkeys": {
    "equation": "Ctrl-E",
    "itemize": "Ctrl-I"
   },
   "labels_anchors": false,
   "latex_user_defs": false,
   "report_style_numbering": false,
   "user_envs_cfg": false
  }
 },
 "nbformat": 4,
 "nbformat_minor": 2
}
