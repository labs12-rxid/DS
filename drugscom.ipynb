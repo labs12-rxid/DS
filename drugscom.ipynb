{
 "cells": [
  {
   "cell_type": "code",
   "execution_count": 107,
   "metadata": {},
   "outputs": [],
   "source": [
    "from selenium import webdriver\n",
    "from selenium.webdriver.common.keys import Keys\n",
    "from selenium.webdriver.common.by import By\n",
    "from selenium.webdriver.support.ui import WebDriverWait\n",
    "from selenium.common.exceptions import WebDriverException, TimeoutException\n",
    "\n",
    "from bs4 import BeautifulSoup\n",
    "import io\n",
    "import pandas as pd\n",
    "from selenium.webdriver.support import expected_conditions as EC\n",
    "import time\n",
    "import sys\n",
    "import re\n",
    "import numpy as np\n",
    "import os\n",
    "import glob\n",
    "import shutil\n",
    "import json"
   ]
  },
  {
   "cell_type": "code",
   "execution_count": 108,
   "metadata": {},
   "outputs": [
    {
     "name": "stdout",
     "output_type": "stream",
     "text": [
      "/home/mark/lambda/pill_identifier\n"
     ]
    }
   ],
   "source": [
    "!pwd"
   ]
  },
  {
   "cell_type": "code",
   "execution_count": 109,
   "metadata": {},
   "outputs": [],
   "source": [
    "output_dir = \"./csresults\"\n",
    "input_dir = \"./json/\""
   ]
  },
  {
   "cell_type": "code",
   "execution_count": 110,
   "metadata": {},
   "outputs": [],
   "source": [
    "class ititle_contains(object):\n",
    "    \"\"\" An expectation for checking that the title contains a case-sensitive\n",
    "    substring. title is the fragment of title expected\n",
    "    returns True when the title matches, False otherwise\n",
    "    \"\"\"\n",
    "    def __init__(self, title):\n",
    "        self.title = title\n",
    "\n",
    "    def __call__(self, driver):\n",
    "        return self.title.lower() in driver.title.lower()\n"
   ]
  },
  {
   "cell_type": "code",
   "execution_count": 122,
   "metadata": {},
   "outputs": [],
   "source": [
    "#todo find the picture first, then link. Most of not found were because picture was with second link and not the first\n",
    "class drugscom:\n",
    "    def __init__(self):\n",
    "        self.wurl = 'https://www.drugs.com/pill_identification.html'\n",
    "        self.base = \"https://www.drugs.com\"\n",
    "        chrome_options = webdriver.ChromeOptions()\n",
    "        chrome_options.add_argument('--no-sandbox')\n",
    "        self.driver = webdriver.chrome.webdriver.WebDriver(\n",
    "            '/usr/local/bin/chromedriver', options=chrome_options)\n",
    "        self.wait = WebDriverWait(self.driver, 10)\n",
    "        self.driver.set_window_size(850, 1600)\n",
    "        self.shapes = [\n",
    "            'Round', 'Capsole', 'Oval', 'Egg', 'Barrel',\n",
    "            'Rectangle', '3 Sided', '4 Sided', '5 Sided', '6 Sided',\n",
    "            '7 sided', '8 sided', 'U Shaped', 'Figure 8', 'Heart',\n",
    "            'Kidney', 'Gear', 'Character'\n",
    "        ]\n",
    "        self.shapes_classes = [\n",
    "            'circle', 'capsole', 'oval', 'egg', 'barrel',\n",
    "            'rectangle', 'triangle', 'square', 'pentagon', 'hexagon',\n",
    "            'heptagon', 'octagon', 'U Shaped', 'Figure 8', 'Heart',\n",
    "            'kidney', 'gear', 'character'\n",
    "        ]\n",
    "        self.colors_classes = [None, 'White', None,\n",
    "                       'Beige', 'Black', 'Blue',\n",
    "                       'Brown', 'Clear', 'Gold',\n",
    "                       'Gray', 'Green', 'Maroon'\n",
    "                       'Orange', 'Peach', 'Pink',\n",
    "                       'Purple', 'Red', 'Tan',\n",
    "                       'White', 'Yellow',\n",
    "                       'Beige & Red', 'Black & Green',\n",
    "                       'Black & Teal', 'Black & Yellow',\n",
    "                       'Blue & Brown', 'Blue & Grey'\n",
    "                       'Blue & Orange', 'Blue & Peach',\n",
    "                       'Blue & Pink', 'Blue & White',\n",
    "                       'Blue & White Specks', 'Blue & Yellow',\n",
    "                       'Brown & Clear', 'Brown & Orange',\n",
    "                       'Brown & Peach', 'Brown & Red',\n",
    "                       'Brown & White', 'Brown & Yellow',\n",
    "                       'Clear & Green', 'Dark & Light Green',\n",
    "                       'Gold & White', 'Grey & Peach',\n",
    "                       'Grey & Pink', 'Grey & Red',\n",
    "                       'Grey & White', 'Grey & Yellow',\n",
    "                       'Green & Orange', 'Green & Peach',\n",
    "                       'Green & Pink', 'Green & Purple',\n",
    "                       'Green & Turquoise', 'Green & White',\n",
    "                       'Green & Yellow', 'Lavender & White',\n",
    "                       'Maroon & Pink', 'Orange & Turquoise',\n",
    "                       'Orange & White', 'Orange & Yellow',\n",
    "                       'Peach & Purple', 'Peach & Red',\n",
    "                       'Peach & White', 'Pink & Purple',\n",
    "                       'Pink & Red Specks', 'Pink & Turquoise',\n",
    "                       'Pink & White', 'Pink & Yellow',\n",
    "                       'Red & Turquoise', 'Red & White',\n",
    "                       'Red & Yellow', 'Tan & White',\n",
    "                       'Turquoise & White', 'Turquuise & Yellow',\n",
    "                       'White & Blue Specks', 'White & Red Specks',\n",
    "                       'White & Yellow', 'Yellow & Grey',\n",
    "                       'Yellow & White'\n",
    "                       ]\n",
    "        self.colors = [\n",
    "            'Beige', 'Black', 'Blue',\n",
    "            'Brown', 'Clear', 'Gold',\n",
    "            'Gray', 'Green', 'Maroon'\n",
    "            'Orange', 'Peach', 'Pink',\n",
    "            'Purple', 'Red', 'Tan',\n",
    "            'White', 'Yellow',\n",
    "            'Beige & Red', 'Black & Green',\n",
    "            'Black & Teal', 'Black & Yellow',\n",
    "            'Blue & Brown', 'Blue & Grey'\n",
    "            'Blue & Orange', 'Blue & Peach',\n",
    "            'Blue & Pink', 'Blue & White',\n",
    "            'Blue & White Specks', 'Blue & Yellow',\n",
    "            'Brown & Clear', 'Brown & Orange',\n",
    "            'Brown & Peach', 'Brown & Red',\n",
    "            'Brown & White', 'Brown & Yellow',\n",
    "            'Clear & Green', 'Dark & Light Green',\n",
    "            'Gold & White', 'Grey & Peach',\n",
    "            'Grey & Pink', 'Grey & Red',\n",
    "            'Grey & White', 'Grey & Yellow',\n",
    "            'Green & Orange', 'Green & Peach',\n",
    "            'Green & Pink', 'Green & Purple',\n",
    "            'Green & Turquoise', 'Green & White',\n",
    "            'Green & Yellow', 'Lavender & White',\n",
    "            'Maroon & Pink', 'Orange & Turquoise',\n",
    "            'Orange & White', 'Orange & Yellow',\n",
    "            'Peach & Purple', 'Peach & Red',\n",
    "            'Peach & White', 'Pink & Purple',\n",
    "            'Pink & Red Specks', 'Pink & Turquoise',\n",
    "            'Pink & White', 'Pink & Yellow',\n",
    "            'Red & Turquoise', 'Red & White',\n",
    "            'Red & Yellow', 'Tan & White',\n",
    "            'Turquoise & White', 'Turquuise & Yellow',\n",
    "            'White & Blue Specks', 'White & Red Specks',\n",
    "            'White & Yellow', 'Yellow & Grey',\n",
    "            'Yellow & White'\n",
    "        ]\n",
    "\n",
    "        self.results = []\n",
    "\n",
    "    def get_data(self, pmprint):\n",
    "        self.driver.get(self.wurl)\n",
    "        WebDriverWait(self.driver, 100).until(EC.title_contains(\n",
    "            \"Pill Identifier (Pill Finder) - Drugs.com\"))\n",
    "        elem = self.wait.until(\n",
    "            EC.element_to_be_clickable((By.LINK_TEXT, 'Accept')))\n",
    "        elem.click()\n",
    "        mprint = pmprint\n",
    "#         elem = self.wait.until(EC.element_to_be_clickable((By.XPATH, \"//a[@href='/imprints.php']\")))\n",
    "        elem = self.wait.until(EC.element_to_be_clickable(\n",
    "            (By.CSS_SELECTOR, \"#livesearch-imprint\")))\n",
    "        elem.click()\n",
    "        elem.clear()\n",
    "        elem.send_keys(mprint)\n",
    "        elem.send_keys(Keys.RETURN)\n",
    "        elem = self.wait.until(EC.element_to_be_clickable(\n",
    "            (By.XPATH, \"//input[@type='submit']\")))\n",
    "        soup = BeautifulSoup(self.driver.page_source, 'html.parser') \n",
    "        i = 0\n",
    "        for elem in soup(text='Pill Imprint:'):\n",
    "            a = elem.parent.find_next('a')\n",
    "#             print(f\"img: {a['href']} MPRINT: {a.text}\")\n",
    "            mprint = a.text\n",
    "            mprint = ' '.join(mprint.split()) # remove repeated internal spaces\n",
    "            self.driver.get(self.base + a['href'])\n",
    "            WebDriverWait(self.driver, 100).until(ititle_contains(mprint))\n",
    "#             print(a.text, ' title')\n",
    "            isoup = BeautifulSoup(self.driver.page_source, 'html.parser')\n",
    "            #<dt class=\"pid-item-title pid-item-inline\">Color:</dt>\n",
    "            colors = isoup.find_all('dt', string='Color:')\n",
    "#             print('colors', colors)\n",
    "            shapes = isoup.find_all('dt', string='Shape:')\n",
    "            imgs = isoup.find_all('img')\n",
    "#             print('imgs len',len(imgs))\n",
    "            for img in imgs:\n",
    "                #                   print('img', img)\n",
    "                try:\n",
    "                    s = img['src']\n",
    "#                       print('s',s)\n",
    "                    if s[0:14] == '/images/pills/':\n",
    "                        #                          print('found img', s, ' mprint ', mprint)\n",
    "                        #                         self.img = base + s\n",
    "                        self.results.append(\n",
    "                            {'mprint': mprint, 'img': self.base + s, 'color': colors[i].next_sibling.text, 'shape': shapes[i].next_sibling.text})\n",
    "                        break\n",
    "                except:\n",
    "                    pass\n",
    "            if mprint.lower() == pmprint.lower(): # works because drugs.com puts matching mprint first\n",
    "                break\n",
    "            i += i\n",
    "        return self.results\n",
    "\n",
    "    def reset(self):\n",
    "        self.results = []\n"
   ]
  },
  {
   "cell_type": "code",
   "execution_count": 112,
   "metadata": {},
   "outputs": [],
   "source": [
    "pd.set_option('display.max_columns', 500)"
   ]
  },
  {
   "cell_type": "code",
   "execution_count": 113,
   "metadata": {},
   "outputs": [],
   "source": [
    "url = 'pillbox_201805.tab'\n",
    "df_ = pd.read_csv(url,sep='\\t')"
   ]
  },
  {
   "cell_type": "code",
   "execution_count": 114,
   "metadata": {},
   "outputs": [],
   "source": [
    "df = df_[(df_.SPLIMPRINT.notnull()) & (df_.image_id.notnull()) & (df_.image_id != 'no_product_image')]"
   ]
  },
  {
   "cell_type": "code",
   "execution_count": 115,
   "metadata": {},
   "outputs": [
    {
     "data": {
      "text/html": [
       "<div>\n",
       "<style scoped>\n",
       "    .dataframe tbody tr th:only-of-type {\n",
       "        vertical-align: middle;\n",
       "    }\n",
       "\n",
       "    .dataframe tbody tr th {\n",
       "        vertical-align: top;\n",
       "    }\n",
       "\n",
       "    .dataframe thead th {\n",
       "        text-align: right;\n",
       "    }\n",
       "</style>\n",
       "<table border=\"1\" class=\"dataframe\">\n",
       "  <thead>\n",
       "    <tr style=\"text-align: right;\">\n",
       "      <th></th>\n",
       "      <th>id</th>\n",
       "      <th>spl_id</th>\n",
       "      <th>SETID</th>\n",
       "      <th>spp</th>\n",
       "      <th>NDC9</th>\n",
       "      <th>PRODUCT_CODE</th>\n",
       "      <th>EQUAL_PRODUCT_CODE</th>\n",
       "      <th>author</th>\n",
       "      <th>SPLIMPRINT</th>\n",
       "      <th>SPLCOLOR</th>\n",
       "      <th>SPLSHAPE</th>\n",
       "      <th>SPLSIZE</th>\n",
       "      <th>SPLSCORE</th>\n",
       "      <th>DEA_SCHEDULE_CODE</th>\n",
       "      <th>INGREDIENTS</th>\n",
       "      <th>SPL_INACTIVE_ING</th>\n",
       "      <th>RXCUI</th>\n",
       "      <th>RXTTY</th>\n",
       "      <th>RXSTRING</th>\n",
       "      <th>image_id</th>\n",
       "      <th>IMAGE_SOURCE</th>\n",
       "      <th>HAS_IMAGE</th>\n",
       "      <th>FROM_SIS</th>\n",
       "      <th>NO_RXCUI</th>\n",
       "    </tr>\n",
       "  </thead>\n",
       "  <tbody>\n",
       "    <tr>\n",
       "      <th>50</th>\n",
       "      <td>4710</td>\n",
       "      <td>NaN</td>\n",
       "      <td>8fed703a-9de2-4c76-a783-fcf004f9b890</td>\n",
       "      <td>8fed703a-9de2-4c76-a783-fcf004f9b890-50844-175-0</td>\n",
       "      <td>508440175</td>\n",
       "      <td>50844-175</td>\n",
       "      <td>NaN</td>\n",
       "      <td>L.N.K. International, Inc.</td>\n",
       "      <td>44;175</td>\n",
       "      <td>C48325</td>\n",
       "      <td>C48345</td>\n",
       "      <td>17.0</td>\n",
       "      <td>1</td>\n",
       "      <td>NaN</td>\n",
       "      <td>ACETAMINOPHEN[ACETAMINOPHEN]</td>\n",
       "      <td>HYPROMELLOSES / POVIDONE / STEARIC ACID / CAST...</td>\n",
       "      <td>198440.0</td>\n",
       "      <td>SCD</td>\n",
       "      <td>Acetaminophen 500 MG Oral Tablet</td>\n",
       "      <td>50844-0175-10_NLMIMAGE10_5135A8AD</td>\n",
       "      <td>NLMIMAGE10</td>\n",
       "      <td>1</td>\n",
       "      <td>NaN</td>\n",
       "      <td>NaN</td>\n",
       "    </tr>\n",
       "    <tr>\n",
       "      <th>58</th>\n",
       "      <td>61985</td>\n",
       "      <td>NaN</td>\n",
       "      <td>c35d5dcc-8ee1-49da-993d-65c0195db918</td>\n",
       "      <td>c35d5dcc-8ee1-49da-993d-65c0195db918-70518-0901-0</td>\n",
       "      <td>705180901</td>\n",
       "      <td>70518-0901</td>\n",
       "      <td>0093-7206</td>\n",
       "      <td>REMEDYREPACK INC.</td>\n",
       "      <td>9;3;7206</td>\n",
       "      <td>C48330</td>\n",
       "      <td>C48348</td>\n",
       "      <td>7.0</td>\n",
       "      <td>2</td>\n",
       "      <td>NaN</td>\n",
       "      <td>MIRTAZAPINE[MIRTAZAPINE]</td>\n",
       "      <td>SILICON DIOXIDE / STARCH, CORN / HYPROMELLOSE ...</td>\n",
       "      <td>311725.0</td>\n",
       "      <td>SCD</td>\n",
       "      <td>Mirtazapine 15 MG Oral Tablet</td>\n",
       "      <td>00093720656</td>\n",
       "      <td>SPL</td>\n",
       "      <td>1</td>\n",
       "      <td>1.0</td>\n",
       "      <td>NaN</td>\n",
       "    </tr>\n",
       "    <tr>\n",
       "      <th>68</th>\n",
       "      <td>11648</td>\n",
       "      <td>NaN</td>\n",
       "      <td>2fb7763f-6ce4-43b9-b3be-90a66315828b</td>\n",
       "      <td>2fb7763f-6ce4-43b9-b3be-90a66315828b-60429-566-0</td>\n",
       "      <td>604290566</td>\n",
       "      <td>60429-566</td>\n",
       "      <td>0591-0744</td>\n",
       "      <td>Golden State Medical Supply, Inc.</td>\n",
       "      <td>WATSON;744;1</td>\n",
       "      <td>C48325</td>\n",
       "      <td>C48338</td>\n",
       "      <td>9.0</td>\n",
       "      <td>2</td>\n",
       "      <td>C48677</td>\n",
       "      <td>ESTAZOLAM[ESTAZOLAM]</td>\n",
       "      <td>DOCUSATE SODIUM / LACTOSE MONOHYDRATE / MAGNES...</td>\n",
       "      <td>NaN</td>\n",
       "      <td>NaN</td>\n",
       "      <td>NaN</td>\n",
       "      <td>604290566</td>\n",
       "      <td>VA2</td>\n",
       "      <td>1</td>\n",
       "      <td>1.0</td>\n",
       "      <td>NaN</td>\n",
       "    </tr>\n",
       "    <tr>\n",
       "      <th>71</th>\n",
       "      <td>47756</td>\n",
       "      <td>NaN</td>\n",
       "      <td>662f11ca-cf1e-41fd-9b2a-11a23d1f6290</td>\n",
       "      <td>662f11ca-cf1e-41fd-9b2a-11a23d1f6290-0781-1034-0</td>\n",
       "      <td>007811034</td>\n",
       "      <td>0781-1034</td>\n",
       "      <td>NaN</td>\n",
       "      <td>Sandoz Inc</td>\n",
       "      <td>GG55;5</td>\n",
       "      <td>C48327</td>\n",
       "      <td>C48348</td>\n",
       "      <td>8.0</td>\n",
       "      <td>1</td>\n",
       "      <td>NaN</td>\n",
       "      <td>TRIFLUOPERAZINE HYDROCHLORIDE[TRIFLUOPERAZINE]</td>\n",
       "      <td>D&amp;C RED NO. 30 / FD&amp;C BLUE NO. 2 / HYDROXYPROP...</td>\n",
       "      <td>198325.0</td>\n",
       "      <td>SCD</td>\n",
       "      <td>Trifluoperazine 5 MG Oral Tablet</td>\n",
       "      <td>007811034</td>\n",
       "      <td>VA2</td>\n",
       "      <td>1</td>\n",
       "      <td>NaN</td>\n",
       "      <td>NaN</td>\n",
       "    </tr>\n",
       "    <tr>\n",
       "      <th>79</th>\n",
       "      <td>33477</td>\n",
       "      <td>NaN</td>\n",
       "      <td>70be7d33-bc8b-4f48-84c6-a8e3d1476e97</td>\n",
       "      <td>70be7d33-bc8b-4f48-84c6-a8e3d1476e97-59762-0145-0</td>\n",
       "      <td>597620145</td>\n",
       "      <td>59762-0145</td>\n",
       "      <td>NaN</td>\n",
       "      <td>Greenstone LLC</td>\n",
       "      <td>FELDENE;PFIZER;323</td>\n",
       "      <td>C48326</td>\n",
       "      <td>C48336</td>\n",
       "      <td>18.0</td>\n",
       "      <td>1</td>\n",
       "      <td>NaN</td>\n",
       "      <td>PIROXICAM[PIROXICAM]</td>\n",
       "      <td>FD&amp;C BLUE NO. 1 / FD&amp;C RED NO. 3 / LACTOSE, UN...</td>\n",
       "      <td>198108.0</td>\n",
       "      <td>SCD</td>\n",
       "      <td>Piroxicam 20 MG Oral Capsule</td>\n",
       "      <td>59762-0145-01_NLMIMAGE10_333E99F4</td>\n",
       "      <td>RXIMAGE30</td>\n",
       "      <td>1</td>\n",
       "      <td>NaN</td>\n",
       "      <td>NaN</td>\n",
       "    </tr>\n",
       "  </tbody>\n",
       "</table>\n",
       "</div>"
      ],
      "text/plain": [
       "       id  spl_id                                 SETID  \\\n",
       "50   4710     NaN  8fed703a-9de2-4c76-a783-fcf004f9b890   \n",
       "58  61985     NaN  c35d5dcc-8ee1-49da-993d-65c0195db918   \n",
       "68  11648     NaN  2fb7763f-6ce4-43b9-b3be-90a66315828b   \n",
       "71  47756     NaN  662f11ca-cf1e-41fd-9b2a-11a23d1f6290   \n",
       "79  33477     NaN  70be7d33-bc8b-4f48-84c6-a8e3d1476e97   \n",
       "\n",
       "                                                  spp       NDC9 PRODUCT_CODE  \\\n",
       "50   8fed703a-9de2-4c76-a783-fcf004f9b890-50844-175-0  508440175    50844-175   \n",
       "58  c35d5dcc-8ee1-49da-993d-65c0195db918-70518-0901-0  705180901   70518-0901   \n",
       "68   2fb7763f-6ce4-43b9-b3be-90a66315828b-60429-566-0  604290566    60429-566   \n",
       "71   662f11ca-cf1e-41fd-9b2a-11a23d1f6290-0781-1034-0  007811034    0781-1034   \n",
       "79  70be7d33-bc8b-4f48-84c6-a8e3d1476e97-59762-0145-0  597620145   59762-0145   \n",
       "\n",
       "   EQUAL_PRODUCT_CODE                             author          SPLIMPRINT  \\\n",
       "50                NaN         L.N.K. International, Inc.              44;175   \n",
       "58          0093-7206                  REMEDYREPACK INC.            9;3;7206   \n",
       "68          0591-0744  Golden State Medical Supply, Inc.        WATSON;744;1   \n",
       "71                NaN                         Sandoz Inc              GG55;5   \n",
       "79                NaN                     Greenstone LLC  FELDENE;PFIZER;323   \n",
       "\n",
       "   SPLCOLOR SPLSHAPE  SPLSIZE  SPLSCORE DEA_SCHEDULE_CODE  \\\n",
       "50   C48325   C48345     17.0         1               NaN   \n",
       "58   C48330   C48348      7.0         2               NaN   \n",
       "68   C48325   C48338      9.0         2            C48677   \n",
       "71   C48327   C48348      8.0         1               NaN   \n",
       "79   C48326   C48336     18.0         1               NaN   \n",
       "\n",
       "                                       INGREDIENTS  \\\n",
       "50                    ACETAMINOPHEN[ACETAMINOPHEN]   \n",
       "58                        MIRTAZAPINE[MIRTAZAPINE]   \n",
       "68                            ESTAZOLAM[ESTAZOLAM]   \n",
       "71  TRIFLUOPERAZINE HYDROCHLORIDE[TRIFLUOPERAZINE]   \n",
       "79                            PIROXICAM[PIROXICAM]   \n",
       "\n",
       "                                     SPL_INACTIVE_ING     RXCUI RXTTY  \\\n",
       "50  HYPROMELLOSES / POVIDONE / STEARIC ACID / CAST...  198440.0   SCD   \n",
       "58  SILICON DIOXIDE / STARCH, CORN / HYPROMELLOSE ...  311725.0   SCD   \n",
       "68  DOCUSATE SODIUM / LACTOSE MONOHYDRATE / MAGNES...       NaN   NaN   \n",
       "71  D&C RED NO. 30 / FD&C BLUE NO. 2 / HYDROXYPROP...  198325.0   SCD   \n",
       "79  FD&C BLUE NO. 1 / FD&C RED NO. 3 / LACTOSE, UN...  198108.0   SCD   \n",
       "\n",
       "                            RXSTRING                           image_id  \\\n",
       "50  Acetaminophen 500 MG Oral Tablet  50844-0175-10_NLMIMAGE10_5135A8AD   \n",
       "58     Mirtazapine 15 MG Oral Tablet                        00093720656   \n",
       "68                               NaN                          604290566   \n",
       "71  Trifluoperazine 5 MG Oral Tablet                          007811034   \n",
       "79      Piroxicam 20 MG Oral Capsule  59762-0145-01_NLMIMAGE10_333E99F4   \n",
       "\n",
       "   IMAGE_SOURCE  HAS_IMAGE  FROM_SIS  NO_RXCUI  \n",
       "50   NLMIMAGE10          1       NaN       NaN  \n",
       "58          SPL          1       1.0       NaN  \n",
       "68          VA2          1       1.0       NaN  \n",
       "71          VA2          1       NaN       NaN  \n",
       "79    RXIMAGE30          1       NaN       NaN  "
      ]
     },
     "execution_count": 115,
     "metadata": {},
     "output_type": "execute_result"
    }
   ],
   "source": [
    "df.head()"
   ]
  },
  {
   "cell_type": "code",
   "execution_count": 116,
   "metadata": {},
   "outputs": [],
   "source": [
    "regex = r\"([\\w\\d]+)\""
   ]
  },
  {
   "cell_type": "code",
   "execution_count": 117,
   "metadata": {},
   "outputs": [],
   "source": [
    "js_names = glob.glob(os.path.join(input_dir, '*.json')) "
   ]
  },
  {
   "cell_type": "code",
   "execution_count": 123,
   "metadata": {},
   "outputs": [
    {
     "name": "stdout",
     "output_type": "stream",
     "text": [
      "7001\n"
     ]
    }
   ],
   "source": [
    "print(len(js_names))"
   ]
  },
  {
   "cell_type": "code",
   "execution_count": 124,
   "metadata": {},
   "outputs": [],
   "source": [
    "d = drugscom()"
   ]
  },
  {
   "cell_type": "code",
   "execution_count": 125,
   "metadata": {},
   "outputs": [
    {
     "name": "stdout",
     "output_type": "stream",
     "text": [
      "mprint IBU 200 not found\n",
      "mprint C 12 not found\n",
      "i 100 mprint Andrx 696 120 mg not found\n",
      "mprint S4 not found\n",
      "i 200 mprint PREMARIN 09 not found\n",
      "mprint f 657 5 mg not found\n",
      "i 300 mprint PREMARIN 045 not found\n",
      "mprint Andrx 697 180 mg not found\n",
      "mprint 791 CTI 141 not found\n",
      "mprint 792 CTI 142 not found\n",
      "mprint 20mg POT20 not found\n",
      "mprint UPPER tcl334 LOWER PLAIN not found\n",
      "mprint Andrx 699 300 mg not found\n",
      "mprint Y not found\n",
      "mprint W 0625 5 not found\n",
      "i 500 mprint ACD 324 not found\n",
      "mprint Plain C020 not found\n",
      "mprint 500125 AMC not found\n",
      "mprint R127 not found\n",
      "i 600 mprint MACRODANTIN 100mg 52427 286 not found\n",
      "i 700 mprint 103 Caraco not found\n",
      "mprint PENTASA 250 mg S429 250 mg not found\n",
      "mprint WW 3189 not found\n",
      "i 800 mprint PREMARIN 0625 not found\n",
      "mprint PENTASA 500 mg S429 500 mg not found\n",
      "mprint C83 not found\n",
      "mprint Pfizer CDT 254 not found\n",
      "i 900 mprint PREMPRO 0625 25 not found\n",
      "mprint WW 947 not found\n",
      "mprint ETHEX 309 5 not found\n",
      "mprint PLAIN C010 not found\n",
      "i 1000 mprint E7 not found\n",
      "mprint A214 not found\n",
      "i 1100 mprint GZ 7CZ not found\n",
      "i 1200 mprint L107 not found\n",
      "mprint WW3188 not found\n",
      "i 1300 mprint 831 not found\n",
      "mprint XL3 FORTE not found\n",
      "i 1400 mprint 180 not found\n",
      "mprint f 607 05 mg not found\n",
      "mprint K 16 not found\n",
      "mprint TUMS not found\n",
      "mprint none not found\n",
      "i 1500 mprint 832 not found\n",
      "mprint 395 50 05 WATSON not found\n",
      "i 1600 mprint 831 not found\n",
      "mprint L144 not found\n",
      "mprint 655 not found\n",
      "mprint MPC 610 MISSION not found\n",
      "i 1700 mprint 855 not found\n",
      "mprint 19 not found\n",
      "i 1800 mprint 833 not found\n",
      "mprint PX plain not found\n",
      "mprint C81 not found\n",
      "mprint RAPAMUNE 05 MG not found\n",
      "mprint S5 not found\n",
      "mprint WATSON 347 and 12 5 mg not found\n",
      "mprint ANCOBON 250 ICN not found\n",
      "i 1900 mprint RP 700 Sectral 400 RP 701 Sectral 400 not found\n",
      "mprint 9 3 1174 not found\n",
      "i 2000 mprint E54 not found\n",
      "mprint Apotex 5307 not found\n",
      "i 2100 "
     ]
    },
    {
     "ename": "IndexError",
     "evalue": "single positional indexer is out-of-bounds",
     "output_type": "error",
     "traceback": [
      "\u001b[0;31m---------------------------------------------------------------------------\u001b[0m",
      "\u001b[0;31mIndexError\u001b[0m                                Traceback (most recent call last)",
      "\u001b[0;32m<ipython-input-125-d225fdca98c8>\u001b[0m in \u001b[0;36m<module>\u001b[0;34m\u001b[0m\n\u001b[1;32m     14\u001b[0m \u001b[0;31m#     print(mprint, d.get_data(mprint), fp[9:-9])\u001b[0m\u001b[0;34m\u001b[0m\u001b[0;34m\u001b[0m\u001b[0m\n\u001b[1;32m     15\u001b[0m     \u001b[0mimage_id\u001b[0m \u001b[0;34m=\u001b[0m \u001b[0mfp\u001b[0m\u001b[0;34m[\u001b[0m\u001b[0;36m7\u001b[0m\u001b[0;34m:\u001b[0m\u001b[0;34m-\u001b[0m\u001b[0;36m9\u001b[0m\u001b[0;34m]\u001b[0m\u001b[0;34m\u001b[0m\u001b[0m\n\u001b[0;32m---> 16\u001b[0;31m     \u001b[0mrow\u001b[0m \u001b[0;34m=\u001b[0m \u001b[0mdf\u001b[0m\u001b[0;34m[\u001b[0m\u001b[0mdf\u001b[0m\u001b[0;34m.\u001b[0m\u001b[0mimage_id\u001b[0m \u001b[0;34m==\u001b[0m \u001b[0mimage_id\u001b[0m\u001b[0;34m]\u001b[0m\u001b[0;34m[\u001b[0m\u001b[0;34m[\u001b[0m\u001b[0;34m'SPLCOLOR'\u001b[0m\u001b[0;34m,\u001b[0m\u001b[0;34m'SPLSHAPE'\u001b[0m\u001b[0;34m]\u001b[0m\u001b[0;34m]\u001b[0m\u001b[0;34m.\u001b[0m\u001b[0miloc\u001b[0m\u001b[0;34m[\u001b[0m\u001b[0;36m0\u001b[0m\u001b[0;34m]\u001b[0m\u001b[0;34m\u001b[0m\u001b[0m\n\u001b[0m\u001b[1;32m     17\u001b[0m \u001b[0;31m#     print('|' + image_id + '|', row['SPLCOLOR'], row['SPLSHAPE'], type(row))\u001b[0m\u001b[0;34m\u001b[0m\u001b[0;34m\u001b[0m\u001b[0m\n\u001b[1;32m     18\u001b[0m     \u001b[0mdicta\u001b[0m\u001b[0;34m.\u001b[0m\u001b[0mappend\u001b[0m\u001b[0;34m(\u001b[0m\u001b[0;34m{\u001b[0m\u001b[0;34m'image_id'\u001b[0m\u001b[0;34m:\u001b[0m \u001b[0mimage_id\u001b[0m\u001b[0;34m,\u001b[0m \u001b[0;34m'color'\u001b[0m\u001b[0;34m:\u001b[0m \u001b[0mdict\u001b[0m\u001b[0;34m[\u001b[0m\u001b[0;34m'color'\u001b[0m\u001b[0;34m]\u001b[0m\u001b[0;34m,\u001b[0m\u001b[0;34m'SPLCOLOR'\u001b[0m\u001b[0;34m:\u001b[0m \u001b[0mrow\u001b[0m\u001b[0;34m[\u001b[0m\u001b[0;34m'SPLCOLOR'\u001b[0m\u001b[0;34m]\u001b[0m\u001b[0;34m,\u001b[0m \u001b[0;34m'shape'\u001b[0m\u001b[0;34m:\u001b[0m \u001b[0mdict\u001b[0m\u001b[0;34m[\u001b[0m\u001b[0;34m'shape'\u001b[0m\u001b[0;34m]\u001b[0m\u001b[0;34m,\u001b[0m\u001b[0;34m'SPLSHAPE'\u001b[0m\u001b[0;34m:\u001b[0m \u001b[0mrow\u001b[0m\u001b[0;34m[\u001b[0m\u001b[0;34m'SPLSHAPE'\u001b[0m\u001b[0;34m]\u001b[0m  \u001b[0;34m}\u001b[0m\u001b[0;34m)\u001b[0m\u001b[0;34m\u001b[0m\u001b[0m\n",
      "\u001b[0;32m~/anaconda3/envs/dash/lib/python3.6/site-packages/pandas/core/indexing.py\u001b[0m in \u001b[0;36m__getitem__\u001b[0;34m(self, key)\u001b[0m\n\u001b[1;32m   1498\u001b[0m \u001b[0;34m\u001b[0m\u001b[0m\n\u001b[1;32m   1499\u001b[0m             \u001b[0mmaybe_callable\u001b[0m \u001b[0;34m=\u001b[0m \u001b[0mcom\u001b[0m\u001b[0;34m.\u001b[0m\u001b[0mapply_if_callable\u001b[0m\u001b[0;34m(\u001b[0m\u001b[0mkey\u001b[0m\u001b[0;34m,\u001b[0m \u001b[0mself\u001b[0m\u001b[0;34m.\u001b[0m\u001b[0mobj\u001b[0m\u001b[0;34m)\u001b[0m\u001b[0;34m\u001b[0m\u001b[0m\n\u001b[0;32m-> 1500\u001b[0;31m             \u001b[0;32mreturn\u001b[0m \u001b[0mself\u001b[0m\u001b[0;34m.\u001b[0m\u001b[0m_getitem_axis\u001b[0m\u001b[0;34m(\u001b[0m\u001b[0mmaybe_callable\u001b[0m\u001b[0;34m,\u001b[0m \u001b[0maxis\u001b[0m\u001b[0;34m=\u001b[0m\u001b[0maxis\u001b[0m\u001b[0;34m)\u001b[0m\u001b[0;34m\u001b[0m\u001b[0m\n\u001b[0m\u001b[1;32m   1501\u001b[0m \u001b[0;34m\u001b[0m\u001b[0m\n\u001b[1;32m   1502\u001b[0m     \u001b[0;32mdef\u001b[0m \u001b[0m_is_scalar_access\u001b[0m\u001b[0;34m(\u001b[0m\u001b[0mself\u001b[0m\u001b[0;34m,\u001b[0m \u001b[0mkey\u001b[0m\u001b[0;34m)\u001b[0m\u001b[0;34m:\u001b[0m\u001b[0;34m\u001b[0m\u001b[0m\n",
      "\u001b[0;32m~/anaconda3/envs/dash/lib/python3.6/site-packages/pandas/core/indexing.py\u001b[0m in \u001b[0;36m_getitem_axis\u001b[0;34m(self, key, axis)\u001b[0m\n\u001b[1;32m   2228\u001b[0m \u001b[0;34m\u001b[0m\u001b[0m\n\u001b[1;32m   2229\u001b[0m             \u001b[0;31m# validate the location\u001b[0m\u001b[0;34m\u001b[0m\u001b[0;34m\u001b[0m\u001b[0m\n\u001b[0;32m-> 2230\u001b[0;31m             \u001b[0mself\u001b[0m\u001b[0;34m.\u001b[0m\u001b[0m_validate_integer\u001b[0m\u001b[0;34m(\u001b[0m\u001b[0mkey\u001b[0m\u001b[0;34m,\u001b[0m \u001b[0maxis\u001b[0m\u001b[0;34m)\u001b[0m\u001b[0;34m\u001b[0m\u001b[0m\n\u001b[0m\u001b[1;32m   2231\u001b[0m \u001b[0;34m\u001b[0m\u001b[0m\n\u001b[1;32m   2232\u001b[0m             \u001b[0;32mreturn\u001b[0m \u001b[0mself\u001b[0m\u001b[0;34m.\u001b[0m\u001b[0m_get_loc\u001b[0m\u001b[0;34m(\u001b[0m\u001b[0mkey\u001b[0m\u001b[0;34m,\u001b[0m \u001b[0maxis\u001b[0m\u001b[0;34m=\u001b[0m\u001b[0maxis\u001b[0m\u001b[0;34m)\u001b[0m\u001b[0;34m\u001b[0m\u001b[0m\n",
      "\u001b[0;32m~/anaconda3/envs/dash/lib/python3.6/site-packages/pandas/core/indexing.py\u001b[0m in \u001b[0;36m_validate_integer\u001b[0;34m(self, key, axis)\u001b[0m\n\u001b[1;32m   2137\u001b[0m         \u001b[0mlen_axis\u001b[0m \u001b[0;34m=\u001b[0m \u001b[0mlen\u001b[0m\u001b[0;34m(\u001b[0m\u001b[0mself\u001b[0m\u001b[0;34m.\u001b[0m\u001b[0mobj\u001b[0m\u001b[0;34m.\u001b[0m\u001b[0m_get_axis\u001b[0m\u001b[0;34m(\u001b[0m\u001b[0maxis\u001b[0m\u001b[0;34m)\u001b[0m\u001b[0;34m)\u001b[0m\u001b[0;34m\u001b[0m\u001b[0m\n\u001b[1;32m   2138\u001b[0m         \u001b[0;32mif\u001b[0m \u001b[0mkey\u001b[0m \u001b[0;34m>=\u001b[0m \u001b[0mlen_axis\u001b[0m \u001b[0;32mor\u001b[0m \u001b[0mkey\u001b[0m \u001b[0;34m<\u001b[0m \u001b[0;34m-\u001b[0m\u001b[0mlen_axis\u001b[0m\u001b[0;34m:\u001b[0m\u001b[0;34m\u001b[0m\u001b[0m\n\u001b[0;32m-> 2139\u001b[0;31m             \u001b[0;32mraise\u001b[0m \u001b[0mIndexError\u001b[0m\u001b[0;34m(\u001b[0m\u001b[0;34m\"single positional indexer is out-of-bounds\"\u001b[0m\u001b[0;34m)\u001b[0m\u001b[0;34m\u001b[0m\u001b[0m\n\u001b[0m\u001b[1;32m   2140\u001b[0m \u001b[0;34m\u001b[0m\u001b[0m\n\u001b[1;32m   2141\u001b[0m     \u001b[0;32mdef\u001b[0m \u001b[0m_getitem_tuple\u001b[0m\u001b[0;34m(\u001b[0m\u001b[0mself\u001b[0m\u001b[0;34m,\u001b[0m \u001b[0mtup\u001b[0m\u001b[0;34m)\u001b[0m\u001b[0;34m:\u001b[0m\u001b[0;34m\u001b[0m\u001b[0m\n",
      "\u001b[0;31mIndexError\u001b[0m: single positional indexer is out-of-bounds"
     ]
    }
   ],
   "source": [
    "dicta = []\n",
    "i = 0\n",
    "for fp in js_names:\n",
    "    image_id = fp[7:-9]\n",
    "    d.reset()\n",
    "    j = json.load(open(fp, 'r'))\n",
    "    mprint = j['description']\n",
    "    mprint = ' '.join(mprint.split()) # remove repeated internal spaces\n",
    "    dict = d.get_data(mprint)\n",
    "    if len(dict) == 0:\n",
    "        print(f\"mprint {mprint} in {image_id} not found\")\n",
    "        i += 1\n",
    "        continue\n",
    "    dict = dict[0]\n",
    "#     print(mprint, d.get_data(mprint), fp[9:-9])\n",
    "    try: \n",
    "        row = df[df.image_id == image_id][['SPLCOLOR','SPLSHAPE']].iloc[0]\n",
    "#     print('|' + image_id + '|', row['SPLCOLOR'], row['SPLSHAPE'], type(row))\n",
    "        dicta.append({'image_id': image_id, 'color': dict['color'],'SPLCOLOR': row['SPLCOLOR'], 'shape': dict['shape'],'SPLSHAPE': row['SPLSHAPE']  })\n",
    "    except:\n",
    "        print(f\"row {mprint} {image_id} not found\")\n",
    "    i += 1\n",
    "    if i % 100 == 0:\n",
    "        print('i',i,end=' ')\n",
    "#     break"
   ]
  },
  {
   "cell_type": "code",
   "execution_count": 5,
   "metadata": {},
   "outputs": [
    {
     "data": {
      "text/plain": [
       "[{'mprint': 'C 10',\n",
       "  'img': 'https://www.drugs.com/images/pills/nlm/200000010.jpg'},\n",
       " {'mprint': 'Lilly 3240 30 mg',\n",
       "  'img': 'https://www.drugs.com/images/pills/nlm/000023240.jpg'},\n",
       " {'mprint': 'LILLY 4117',\n",
       "  'img': 'https://www.drugs.com/images/pills/nlm/000024117.jpg'}]"
      ]
     },
     "execution_count": 5,
     "metadata": {},
     "output_type": "execute_result"
    }
   ],
   "source": [
    "d = drugscom()\n",
    "d.get_data(\"C 10\")\n",
    "d.get_data(\"LILLY 3240 30 mg\")\n",
    "d.get_data(\"LILLY 4117\")"
   ]
  },
  {
   "cell_type": "code",
   "execution_count": 178,
   "metadata": {},
   "outputs": [
    {
     "data": {
      "text/plain": [
       "[{'mprint': 'C 10',\n",
       "  'img': 'https://www.drugs.com/images/pills/nlm/200000010.jpg'},\n",
       " {'mprint': 'Lilly 3240 30 mg',\n",
       "  'img': 'https://www.drugs.com/images/pills/nlm/000023240.jpg'},\n",
       " {'mprint': 'LILLY 4117',\n",
       "  'img': 'https://www.drugs.com/images/pills/nlm/000024117.jpg'},\n",
       " {'mprint': 'PERCOCET 10/325',\n",
       "  'img': 'https://www.drugs.com/images/pills/nlm/634810629.jpg'},\n",
       " {'mprint': 'BAC 10 832',\n",
       "  'img': 'https://www.drugs.com/images/pills/nlm/008321024.jpg'},\n",
       " {'mprint': 'M EC 10',\n",
       "  'img': 'https://www.drugs.com/images/pills/nlm/200000822.jpg'}]"
      ]
     },
     "execution_count": 178,
     "metadata": {},
     "output_type": "execute_result"
    }
   ],
   "source": [
    "d.get_data(\"10 C\")"
   ]
  },
  {
   "cell_type": "code",
   "execution_count": 179,
   "metadata": {},
   "outputs": [
    {
     "data": {
      "text/plain": [
       "[{'mprint': 'LILLY 4117',\n",
       "  'img': 'https://www.drugs.com/images/pills/nlm/000024117.jpg'}]"
      ]
     },
     "execution_count": 179,
     "metadata": {},
     "output_type": "execute_result"
    }
   ],
   "source": [
    "d.reset()\n",
    "d.get_data(\"4117 LILLY\")"
   ]
  },
  {
   "cell_type": "code",
   "execution_count": 129,
   "metadata": {},
   "outputs": [
    {
     "data": {
      "text/plain": [
       "2053"
      ]
     },
     "execution_count": 129,
     "metadata": {},
     "output_type": "execute_result"
    }
   ],
   "source": [
    "len(dicta)"
   ]
  },
  {
   "cell_type": "code",
   "execution_count": 176,
   "metadata": {},
   "outputs": [],
   "source": [
    "dfd = pd.DataFrame(dicta) #todo never name a DataFrame column \"shape\" again"
   ]
  },
  {
   "cell_type": "code",
   "execution_count": 177,
   "metadata": {},
   "outputs": [
    {
     "data": {
      "text/html": [
       "<div>\n",
       "<style scoped>\n",
       "    .dataframe tbody tr th:only-of-type {\n",
       "        vertical-align: middle;\n",
       "    }\n",
       "\n",
       "    .dataframe tbody tr th {\n",
       "        vertical-align: top;\n",
       "    }\n",
       "\n",
       "    .dataframe thead th {\n",
       "        text-align: right;\n",
       "    }\n",
       "</style>\n",
       "<table border=\"1\" class=\"dataframe\">\n",
       "  <thead>\n",
       "    <tr style=\"text-align: right;\">\n",
       "      <th></th>\n",
       "      <th>SPLCOLOR</th>\n",
       "      <th>SPLSHAPE</th>\n",
       "      <th>color</th>\n",
       "      <th>image_id</th>\n",
       "      <th>shape</th>\n",
       "    </tr>\n",
       "  </thead>\n",
       "  <tbody>\n",
       "    <tr>\n",
       "      <th>0</th>\n",
       "      <td>C48328</td>\n",
       "      <td>C48348</td>\n",
       "      <td>Pink</td>\n",
       "      <td>433530866</td>\n",
       "      <td>Round</td>\n",
       "    </tr>\n",
       "    <tr>\n",
       "      <th>1</th>\n",
       "      <td>C48331</td>\n",
       "      <td>C48345</td>\n",
       "      <td>Peach</td>\n",
       "      <td>009551046</td>\n",
       "      <td>Elliptical / Oval</td>\n",
       "    </tr>\n",
       "    <tr>\n",
       "      <th>2</th>\n",
       "      <td>C48325</td>\n",
       "      <td>C48348</td>\n",
       "      <td>White</td>\n",
       "      <td>000780017</td>\n",
       "      <td>Round</td>\n",
       "    </tr>\n",
       "    <tr>\n",
       "      <th>3</th>\n",
       "      <td>C48329;C48327</td>\n",
       "      <td>C48336</td>\n",
       "      <td>Green &amp; Purple</td>\n",
       "      <td>00093316006</td>\n",
       "      <td>Capsule-shape</td>\n",
       "    </tr>\n",
       "    <tr>\n",
       "      <th>4</th>\n",
       "      <td>C48325</td>\n",
       "      <td>C48348</td>\n",
       "      <td>White</td>\n",
       "      <td>510790810</td>\n",
       "      <td>Round</td>\n",
       "    </tr>\n",
       "  </tbody>\n",
       "</table>\n",
       "</div>"
      ],
      "text/plain": [
       "        SPLCOLOR SPLSHAPE           color     image_id              shape\n",
       "0         C48328   C48348            Pink    433530866              Round\n",
       "1         C48331   C48345           Peach    009551046  Elliptical / Oval\n",
       "2         C48325   C48348           White    000780017              Round\n",
       "3  C48329;C48327   C48336  Green & Purple  00093316006      Capsule-shape\n",
       "4         C48325   C48348           White    510790810              Round"
      ]
     },
     "execution_count": 177,
     "metadata": {},
     "output_type": "execute_result"
    }
   ],
   "source": [
    "dfd.head()"
   ]
  },
  {
   "cell_type": "code",
   "execution_count": 132,
   "metadata": {},
   "outputs": [],
   "source": [
    "with open('color_shape.csv', 'wt') as f:\n",
    "    dfd.to_csv(f)"
   ]
  },
  {
   "cell_type": "code",
   "execution_count": 133,
   "metadata": {},
   "outputs": [
    {
     "name": "stdout",
     "output_type": "stream",
     "text": [
      "/home/mark/lambda/pill_identifier\n"
     ]
    }
   ],
   "source": [
    "!pwd"
   ]
  },
  {
   "cell_type": "code",
   "execution_count": 186,
   "metadata": {},
   "outputs": [],
   "source": [
    "ushapes = dfd['shape'].unique()\n",
    "sdict = {}\n",
    "for splshape in dfd.SPLSHAPE.unique():\n",
    "    rd = {}\n",
    "    for shape in ushapes:\n",
    "        c = len(dfd[(dfd.SPLSHAPE == splshape) & (dfd['shape'] == shape)])\n",
    "        if c > 0:\n",
    "            rd[shape] = c\n",
    "    sdict[splshape] = rd"
   ]
  },
  {
   "cell_type": "code",
   "execution_count": 179,
   "metadata": {},
   "outputs": [],
   "source": [
    "ucolors = dfd.color.unique()\n",
    "cdict = {}\n",
    "for splcolor in dfd.SPLCOLOR.unique():\n",
    "    rd = {}\n",
    "    for color in ucolors:\n",
    "        c = len(dfd[(dfd.SPLCOLOR == splcolor) & (dfd.color == color)])\n",
    "        if c > 0:\n",
    "            rd[color] = c\n",
    "    cdict[splcolor] = rd"
   ]
  },
  {
   "cell_type": "code",
   "execution_count": 141,
   "metadata": {},
   "outputs": [],
   "source": [
    "from functools import reduce"
   ]
  },
  {
   "cell_type": "code",
   "execution_count": 187,
   "metadata": {},
   "outputs": [],
   "source": [
    "sd = {}\n",
    "for cd in sdict.keys():\n",
    "    d = sdict[cd]\n",
    "    da = reduce((lambda m, v: [d[v],v] if d[v] > m[0] else m), d.keys(), [0,'x'])\n",
    "    sd[cd] = da[1]"
   ]
  },
  {
   "cell_type": "code",
   "execution_count": 188,
   "metadata": {},
   "outputs": [
    {
     "data": {
      "text/plain": [
       "{'C48348': 'Round',\n",
       " 'C48345': 'Elliptical / Oval',\n",
       " 'C48336': 'Capsule-shape',\n",
       " 'C48346': 'Five-sided',\n",
       " 'C48340': 'Heart-shape',\n",
       " 'C48350': 'Four-sided',\n",
       " 'C48338': 'Four-sided',\n",
       " 'C48351': 'Elliptical / Oval',\n",
       " 'C48347': 'Rectangle',\n",
       " 'C48353': 'Three-sided',\n",
       " 'C48352': 'Four-sided',\n",
       " 'C48343': 'Six-sided',\n",
       " 'C48349': 'U-shape',\n",
       " 'C48335': 'Capsule-shape',\n",
       " 'C48344': 'Eight-sided'}"
      ]
     },
     "execution_count": 188,
     "metadata": {},
     "output_type": "execute_result"
    }
   ],
   "source": [
    "sd"
   ]
  },
  {
   "cell_type": "code",
   "execution_count": 146,
   "metadata": {},
   "outputs": [],
   "source": [
    "fd = {}\n",
    "for cd in cdict.keys():\n",
    "    d = cdict[cd]\n",
    "    da = reduce((lambda m, v: [d[v],v] if d[v] > m[0] else m), d.keys(), [0,'x'])\n",
    "    fd[cd] = da[1]"
   ]
  },
  {
   "cell_type": "code",
   "execution_count": 189,
   "metadata": {},
   "outputs": [],
   "source": [
    "ssd = {}\n",
    "for key in sorted(sd.keys()):\n",
    "    ssd[key] = sd[key]"
   ]
  },
  {
   "cell_type": "code",
   "execution_count": 190,
   "metadata": {},
   "outputs": [
    {
     "data": {
      "text/plain": [
       "{'C48335': 'Capsule-shape',\n",
       " 'C48336': 'Capsule-shape',\n",
       " 'C48338': 'Four-sided',\n",
       " 'C48340': 'Heart-shape',\n",
       " 'C48343': 'Six-sided',\n",
       " 'C48344': 'Eight-sided',\n",
       " 'C48345': 'Elliptical / Oval',\n",
       " 'C48346': 'Five-sided',\n",
       " 'C48347': 'Rectangle',\n",
       " 'C48348': 'Round',\n",
       " 'C48349': 'U-shape',\n",
       " 'C48350': 'Four-sided',\n",
       " 'C48351': 'Elliptical / Oval',\n",
       " 'C48352': 'Four-sided',\n",
       " 'C48353': 'Three-sided'}"
      ]
     },
     "execution_count": 190,
     "metadata": {},
     "output_type": "execute_result"
    }
   ],
   "source": [
    "ssd"
   ]
  },
  {
   "cell_type": "code",
   "execution_count": 170,
   "metadata": {},
   "outputs": [],
   "source": [
    "sfd = {}\n",
    "for key in sorted(fd.keys()):\n",
    "    sfd[key] = fd[key]"
   ]
  },
  {
   "cell_type": "code",
   "execution_count": 171,
   "metadata": {},
   "outputs": [
    {
     "name": "stdout",
     "output_type": "stream",
     "text": [
      "deleting key  C48329;C48327\n",
      "deleting key  C48329;C48328\n",
      "deleting key  C48330;C48323\n",
      "deleting key  C48325;C48333\n",
      "deleting key  C48333;C48325\n",
      "deleting key  C48329;C48325\n",
      "deleting key  C48333;C48330\n",
      "deleting key  C48326;C48325\n",
      "deleting key  C48330;C48325\n",
      "deleting key  C48328;C48325\n",
      "deleting key  C48325;C48328\n",
      "deleting key  C48331;C48325\n",
      "deleting key  C48325;C48327\n",
      "deleting key  C48329;C48330\n",
      "deleting key  C48325;C48331\n",
      "deleting key  C48325;C48330\n",
      "deleting key  C48323;C48329\n",
      "deleting key  C48328;C48333\n",
      "deleting key  C48333;C48331\n",
      "deleting key  C48324;C48325\n",
      "deleting key  C48331;C48332\n",
      "deleting key  C48333;C48329\n",
      "deleting key  C48331;C48330\n",
      "deleting key  C48329;C48324\n",
      "deleting key  C48325;C48324\n",
      "deleting key  C48324;C48331\n",
      "deleting key  C48328;C48329\n",
      "deleting key  C48327;C48328\n",
      "deleting key  C48327;C48325\n",
      "deleting key  C48324;C48330\n",
      "deleting key  C48331;C48329\n",
      "deleting key  C48333;C48324\n",
      "deleting key  C48330;C48326\n"
     ]
    }
   ],
   "source": [
    "for key in fd.keys():\n",
    "    sk = key.split(';')\n",
    "    sd = sfd[key].split(' & ')\n",
    "    if len(sd) == 1:\n",
    "        sd = sfd[key].split(' / ')\n",
    "    subkeys = (len(sk) == len(sd)) & (len(sd) > 1)\n",
    "    r = subkeys\n",
    "    if subkeys:\n",
    "        for i in range(len(sd)):\n",
    "            try:\n",
    "                if sfd[sk[i]] not in sd:\n",
    "                    r = False\n",
    "                    break\n",
    "            except:\n",
    "                r = False\n",
    "                break;\n",
    "    if r:\n",
    "        if r & subkeys:\n",
    "            print('deleting key ', key)\n",
    "        del sfd[key]\n",
    "            \n",
    "            "
   ]
  },
  {
   "cell_type": "code",
   "execution_count": 173,
   "metadata": {},
   "outputs": [],
   "source": [
    "for key in fd.keys():\n",
    "    if key in sfd:\n",
    "        if len(key.split(';')) > 1: \n",
    "            del sfd[key]"
   ]
  },
  {
   "cell_type": "code",
   "execution_count": 174,
   "metadata": {},
   "outputs": [
    {
     "data": {
      "text/plain": [
       "{'C48323': 'Black',\n",
       " 'C48324': 'Gray',\n",
       " 'C48325': 'White',\n",
       " 'C48326': 'Red',\n",
       " 'C48327': 'Purple',\n",
       " 'C48328': 'Pink',\n",
       " 'C48329': 'Green',\n",
       " 'C48330': 'Yellow',\n",
       " 'C48331': 'Orange',\n",
       " 'C48332': 'Brown',\n",
       " 'C48333': 'Blue',\n",
       " 'C48334': 'Blue'}"
      ]
     },
     "execution_count": 174,
     "metadata": {},
     "output_type": "execute_result"
    }
   ],
   "source": [
    "sfd"
   ]
  },
  {
   "cell_type": "code",
   "execution_count": null,
   "metadata": {},
   "outputs": [],
   "source": []
  }
 ],
 "metadata": {
  "kernelspec": {
   "display_name": "Python 3",
   "language": "python",
   "name": "python3"
  },
  "language_info": {
   "codemirror_mode": {
    "name": "ipython",
    "version": 3
   },
   "file_extension": ".py",
   "mimetype": "text/x-python",
   "name": "python",
   "nbconvert_exporter": "python",
   "pygments_lexer": "ipython3",
   "version": "3.6.6"
  }
 },
 "nbformat": 4,
 "nbformat_minor": 2
}
