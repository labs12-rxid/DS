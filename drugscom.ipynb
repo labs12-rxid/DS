{
 "cells": [
  {
   "cell_type": "code",
   "execution_count": 159,
   "metadata": {},
   "outputs": [],
   "source": [
    "from selenium import webdriver\n",
    "from selenium.webdriver.common.keys import Keys\n",
    "from selenium.webdriver.common.by import By\n",
    "from selenium.webdriver.support.ui import WebDriverWait\n",
    "from selenium.common.exceptions import WebDriverException, TimeoutException\n",
    "\n",
    "from bs4 import BeautifulSoup\n",
    "import io\n",
    "import pandas as pd\n",
    "from selenium.webdriver.support import expected_conditions as EC\n",
    "import time\n",
    "import sys\n",
    "import pandas as pd\n",
    "import re"
   ]
  },
  {
   "cell_type": "code",
   "execution_count": 176,
   "metadata": {},
   "outputs": [],
   "source": [
    "class drugscom:\n",
    "    def __init__(self):\n",
    "        self.wurl = 'https://www.drugs.com/pill_identification.html'\n",
    "        self.base = \"https://www.drugs.com\"\n",
    "        chrome_options = webdriver.ChromeOptions()\n",
    "        chrome_options.add_argument('--no-sandbox')\n",
    "        self.driver = webdriver.chrome.webdriver.WebDriver('/usr/local/bin/chromedriver', options=chrome_options)\n",
    "        self.wait = WebDriverWait(self.driver, 10)\n",
    "        self.driver.set_window_size(850,1600)\n",
    "#         self.driver.get(self.wurl)\n",
    "#         WebDriverWait(self.driver, 100).until(EC.title_contains(\"Pill Identifier (Pill Finder) - Drugs.com\"))\n",
    "#         print('page loaded')\n",
    "#         time.sleep(5)\n",
    "#         elem = self.wait.until(EC.element_to_be_clickable((By.LINK_TEXT, 'Accept')))\n",
    "#         elem = self.wait.until(EC.element_to_be_clickable((By.CSS_SELECTOR , \"a .ddc-btn\")))\n",
    "#         elem = self.wait.until(EC.element_to_be_clickable((By.CSS_SELECTOR , \"a .ddc-btn\")))\n",
    "#         print('clickable')\n",
    "#         elem.click()\n",
    "        self.results = []\n",
    "        \n",
    "    def get_data(self, pmprint): \n",
    "        self.driver.get(self.wurl)\n",
    "        WebDriverWait(self.driver, 100).until(EC.title_contains(\"Pill Identifier (Pill Finder) - Drugs.com\"))  \n",
    "        elem = self.wait.until(EC.element_to_be_clickable((By.LINK_TEXT, 'Accept')))\n",
    "        elem.click()\n",
    "        mprint = pmprint\n",
    "#         elem = self.wait.until(EC.element_to_be_clickable((By.XPATH, \"//a[@href='/imprints.php']\")))\n",
    "        elem = self.wait.until(EC.element_to_be_clickable((By.CSS_SELECTOR , \"#livesearch-imprint\")))\n",
    "        elem.click()\n",
    "        elem.clear()\n",
    "        elem.send_keys(mprint)\n",
    "        elem.send_keys(Keys.RETURN)\n",
    "        elem = self.wait.until(EC.element_to_be_clickable((By.XPATH, \"//input[@type='submit']\")))\n",
    "        soup = BeautifulSoup(self.driver.page_source, 'html.parser')\n",
    "        for elem in soup(text='Pill Imprint:'):\n",
    "            a = elem.parent.find_next('a')\n",
    "#             print(f\"img: {a['href']} MPRINT: {a.text}\")\n",
    "            mprint = a.text\n",
    "            self.driver.get(base + a['href'])\n",
    "            WebDriverWait(self.driver, 100).until(EC.title_contains(mprint))\n",
    "#             print(a.text, ' title')\n",
    "            isoup = BeautifulSoup(self.driver.page_source, 'html.parser')\n",
    "            imgs = isoup.find_all('img')\n",
    "#             print('imgs len',len(imgs))\n",
    "            for img in imgs:\n",
    "#                   print('img', img)\n",
    "                  try:\n",
    "                      s = img['src']\n",
    "#                       print('s',s)\n",
    "                      if s[0:18] == '/images/pills/nlm/':\n",
    "#                          print('found img', s, ' mprint ', mprint)\n",
    "#                         self.img = base + s\n",
    "                         self.results.append({'mprint': mprint, 'img': self.base + s})\n",
    "                         break\n",
    "                  except:\n",
    "                      pass\n",
    "            if mprint == pmprint:\n",
    "                break\n",
    "        return self.results\n",
    "    \n",
    "    def reset(self):\n",
    "        self.results = []\n"
   ]
  },
  {
   "cell_type": "code",
   "execution_count": 177,
   "metadata": {},
   "outputs": [
    {
     "data": {
      "text/plain": [
       "[{'mprint': 'C 10',\n",
       "  'img': 'https://www.drugs.com/images/pills/nlm/200000010.jpg'},\n",
       " {'mprint': 'Lilly 3240 30 mg',\n",
       "  'img': 'https://www.drugs.com/images/pills/nlm/000023240.jpg'},\n",
       " {'mprint': 'LILLY 4117',\n",
       "  'img': 'https://www.drugs.com/images/pills/nlm/000024117.jpg'}]"
      ]
     },
     "execution_count": 177,
     "metadata": {},
     "output_type": "execute_result"
    }
   ],
   "source": [
    "d = drugscom()\n",
    "d.get_data(\"C 10\")\n",
    "d.get_data(\"LILLY 3240 30 mg\")\n",
    "d.get_data(\"LILLY 4117\")"
   ]
  },
  {
   "cell_type": "code",
   "execution_count": 178,
   "metadata": {},
   "outputs": [
    {
     "data": {
      "text/plain": [
       "[{'mprint': 'C 10',\n",
       "  'img': 'https://www.drugs.com/images/pills/nlm/200000010.jpg'},\n",
       " {'mprint': 'Lilly 3240 30 mg',\n",
       "  'img': 'https://www.drugs.com/images/pills/nlm/000023240.jpg'},\n",
       " {'mprint': 'LILLY 4117',\n",
       "  'img': 'https://www.drugs.com/images/pills/nlm/000024117.jpg'},\n",
       " {'mprint': 'PERCOCET 10/325',\n",
       "  'img': 'https://www.drugs.com/images/pills/nlm/634810629.jpg'},\n",
       " {'mprint': 'BAC 10 832',\n",
       "  'img': 'https://www.drugs.com/images/pills/nlm/008321024.jpg'},\n",
       " {'mprint': 'M EC 10',\n",
       "  'img': 'https://www.drugs.com/images/pills/nlm/200000822.jpg'}]"
      ]
     },
     "execution_count": 178,
     "metadata": {},
     "output_type": "execute_result"
    }
   ],
   "source": [
    "d.get_data(\"10 C\")"
   ]
  },
  {
   "cell_type": "code",
   "execution_count": 179,
   "metadata": {},
   "outputs": [
    {
     "data": {
      "text/plain": [
       "[{'mprint': 'LILLY 4117',\n",
       "  'img': 'https://www.drugs.com/images/pills/nlm/000024117.jpg'}]"
      ]
     },
     "execution_count": 179,
     "metadata": {},
     "output_type": "execute_result"
    }
   ],
   "source": [
    "d.reset()\n",
    "d.get_data(\"4117 LILLY\")"
   ]
  },
  {
   "cell_type": "code",
   "execution_count": null,
   "metadata": {},
   "outputs": [],
   "source": []
  }
 ],
 "metadata": {
  "kernelspec": {
   "display_name": "Python 3",
   "language": "python",
   "name": "python3"
  },
  "language_info": {
   "codemirror_mode": {
    "name": "ipython",
    "version": 3
   },
   "file_extension": ".py",
   "mimetype": "text/x-python",
   "name": "python",
   "nbconvert_exporter": "python",
   "pygments_lexer": "ipython3",
   "version": "3.6.6"
  }
 },
 "nbformat": 4,
 "nbformat_minor": 2
}
