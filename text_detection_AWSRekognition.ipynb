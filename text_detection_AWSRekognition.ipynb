{
 "cells": [
  {
   "cell_type": "markdown",
   "metadata": {},
   "source": [
    "# AWS Rekognition Text Detection Test"
   ]
  },
  {
   "cell_type": "code",
   "execution_count": 1,
   "metadata": {},
   "outputs": [],
   "source": [
    "import boto3\n",
    "# s3_resource = boto3.resource('s3')\n",
    "client=boto3.client('rekognition')"
   ]
  },
  {
   "cell_type": "code",
   "execution_count": 6,
   "metadata": {},
   "outputs": [
    {
     "ename": "ImportError",
     "evalue": "cannot import name 'pyplot'",
     "output_type": "error",
     "traceback": [
      "\u001b[1;31m---------------------------------------------------------------------------\u001b[0m",
      "\u001b[1;31mImportError\u001b[0m                               Traceback (most recent call last)",
      "\u001b[1;32m<ipython-input-6-99ba79ecbbfb>\u001b[0m in \u001b[0;36m<module>\u001b[1;34m\u001b[0m\n\u001b[1;32m----> 1\u001b[1;33m \u001b[1;32mfrom\u001b[0m \u001b[0mmatplotlib\u001b[0m \u001b[1;32mimport\u001b[0m \u001b[0mpyplot\u001b[0m \u001b[1;32mas\u001b[0m \u001b[0mplt\u001b[0m\u001b[1;33m\u001b[0m\u001b[1;33m\u001b[0m\u001b[0m\n\u001b[0m",
      "\u001b[1;31mImportError\u001b[0m: cannot import name 'pyplot'"
     ]
    }
   ],
   "source": [
    "from matplotlib import pyplot as plt"
   ]
  },
  {
   "cell_type": "markdown",
   "metadata": {},
   "source": [
    "IMAGE 1"
   ]
  },
  {
   "cell_type": "code",
   "execution_count": 7,
   "metadata": {},
   "outputs": [
    {
     "name": "stdout",
     "output_type": "stream",
     "text": [
      "Detected text\n",
      "Detected text:12-\n",
      "Confidence: 93.96%\n",
      "\n",
      "\n",
      "Detected text:11\n",
      "Confidence: 91.60%\n",
      "\n",
      "\n",
      "Detected text:GS\n",
      "Confidence: 98.74%\n",
      "\n",
      "\n",
      "Detected text:10\n",
      "Confidence: 92.72%\n",
      "\n",
      "\n",
      "Detected text:9\n",
      "Confidence: 91.42%\n",
      "\n",
      "\n",
      "Detected text:8\n",
      "Confidence: 93.61%\n",
      "\n",
      "\n",
      "Detected text:6\n",
      "Confidence: 90.53%\n",
      "\n",
      "\n"
     ]
    }
   ],
   "source": [
    "bucket='secondpythonbucket6ce9cccf-c429-471c-99a1-f36e849ee381'\n",
    "photo='00007-4883-13_DB18ED97.jpg'\n",
    "\n",
    "response=client.detect_text(Image={'S3Object':{'Bucket':bucket,'Name':photo}})\n",
    "\n",
    "textDetections=response['TextDetections']\n",
    "print ('Detected text')\n",
    "for text in textDetections:\n",
    "    if text['Id'] < 7:\n",
    "        print ('Detected text:' + text['DetectedText'])\n",
    "        print ('Confidence: ' + \"{:.2f}\".format(text['Confidence']) + \"%\")\n",
    "        print('\\n')\n",
    "        # print ('Id: {}'.format(text['Id']))"
   ]
  },
  {
   "cell_type": "code",
   "execution_count": null,
   "metadata": {},
   "outputs": [],
   "source": [
    "import imageio\n",
    "import matplotlib.pyplot as plt\n",
    "\n",
    "pill_img = imageio.imread('./pillbox_images/00007-4883-13_DB18ED97.jpg')\n",
    "plt.imshow(pill_img);"
   ]
  },
  {
   "cell_type": "markdown",
   "metadata": {},
   "source": [
    "IMAGE 2"
   ]
  },
  {
   "cell_type": "code",
   "execution_count": 8,
   "metadata": {},
   "outputs": [
    {
     "name": "stdout",
     "output_type": "stream",
     "text": [
      "Detected text\n",
      "Detected text:225\n",
      "Confidence: 99.75%\n",
      "\n",
      "\n",
      "Detected text:225\n",
      "Confidence: 99.75%\n",
      "\n",
      "\n"
     ]
    }
   ],
   "source": [
    "photo='009045988.jpg'\n",
    "\n",
    "response=client.detect_text(Image={'S3Object':{'Bucket':bucket,'Name':photo}})\n",
    "\n",
    "textDetections=response['TextDetections']\n",
    "print ('Detected text')\n",
    "for text in textDetections:\n",
    "    #if text['Id'] < 7:\n",
    "    print ('Detected text:' + text['DetectedText'])\n",
    "    print ('Confidence: ' + \"{:.2f}\".format(text['Confidence']) + \"%\")\n",
    "    print('\\n')\n",
    "    # print ('Id: {}'.format(text['Id']))"
   ]
  },
  {
   "cell_type": "code",
   "execution_count": null,
   "metadata": {
    "scrolled": true
   },
   "outputs": [],
   "source": [
    "import imageio\n",
    "import matplotlib.pyplot as plt\n",
    "\n",
    "pill_img = imageio.imread('./pillbox_images/009045988.jpg')\n",
    "plt.imshow(pill_img);"
   ]
  },
  {
   "cell_type": "markdown",
   "metadata": {},
   "source": [
    "IMAGE 3"
   ]
  },
  {
   "cell_type": "code",
   "execution_count": 24,
   "metadata": {},
   "outputs": [
    {
     "name": "stdout",
     "output_type": "stream",
     "text": [
      "Detected text\n",
      "Detected text:54 84\n",
      "Confidence: 98.81%\n",
      "\n",
      "\n",
      "Detected text:V\n",
      "Confidence: 95.97%\n",
      "\n",
      "\n",
      "Detected text:V\n",
      "Confidence: 95.97%\n",
      "\n",
      "\n",
      "Detected text:54\n",
      "Confidence: 99.12%\n",
      "\n",
      "\n",
      "Detected text:84\n",
      "Confidence: 98.50%\n",
      "\n",
      "\n"
     ]
    }
   ],
   "source": [
    "photo='006035484.jpg'\n",
    "\n",
    "response=client.detect_text(Image={'S3Object':{'Bucket':bucket,'Name':photo}})\n",
    "\n",
    "textDetections=response['TextDetections']\n",
    "print ('Detected text')\n",
    "for text in textDetections:\n",
    "    if (text['Id'] < 7) & (text['Confidence'] > 85):\n",
    "        print ('Detected text:' + text['DetectedText'])\n",
    "        print ('Confidence: ' + \"{:.2f}\".format(text['Confidence']) + \"%\")\n",
    "        print('\\n')\n",
    "        # print ('Id: {}'.format(text['Id']))"
   ]
  },
  {
   "cell_type": "code",
   "execution_count": null,
   "metadata": {},
   "outputs": [],
   "source": [
    "import imageio\n",
    "import matplotlib.pyplot as plt\n",
    "\n",
    "pill_img = imageio.imread('./pillbox_images/006035484.jpg')\n",
    "plt.imshow(pill_img);"
   ]
  },
  {
   "cell_type": "markdown",
   "metadata": {},
   "source": [
    "IMAGE 4"
   ]
  },
  {
   "cell_type": "code",
   "execution_count": 25,
   "metadata": {},
   "outputs": [
    {
     "name": "stdout",
     "output_type": "stream",
     "text": [
      "Detected text\n",
      "Detected text:DISTA PROZAC\n",
      "Confidence: 99.98%\n",
      "\n",
      "\n",
      "Detected text:40 mg mg\n",
      "Confidence: 90.95%\n",
      "\n",
      "\n",
      "Detected text:3107\n",
      "Confidence: 99.97%\n",
      "\n",
      "\n",
      "Detected text:PROZAC\n",
      "Confidence: 99.98%\n",
      "\n",
      "\n",
      "Detected text:DISTA\n",
      "Confidence: 99.98%\n",
      "\n",
      "\n",
      "Detected text:40 mg\n",
      "Confidence: 91.80%\n",
      "\n",
      "\n",
      "Detected text:mg\n",
      "Confidence: 90.11%\n",
      "\n",
      "\n"
     ]
    }
   ],
   "source": [
    "photo='007773107.jpg'\n",
    "\n",
    "response=client.detect_text(Image={'S3Object':{'Bucket':bucket,'Name':photo}})\n",
    "\n",
    "textDetections=response['TextDetections']\n",
    "print ('Detected text')\n",
    "for text in textDetections:\n",
    "    if (text['Id'] < 7) & (text['Confidence'] > 85):\n",
    "        print ('Detected text:' + text['DetectedText'])\n",
    "        print ('Confidence: ' + \"{:.2f}\".format(text['Confidence']) + \"%\")\n",
    "        print('\\n')\n",
    "        # print ('Id: {}'.format(text['Id']))"
   ]
  },
  {
   "cell_type": "code",
   "execution_count": null,
   "metadata": {
    "scrolled": true
   },
   "outputs": [],
   "source": [
    "import imageio\n",
    "import matplotlib.pyplot as plt\n",
    "\n",
    "pill_img = imageio.imread('./pillbox_images/007773107.jpg')\n",
    "plt.imshow(pill_img);"
   ]
  },
  {
   "cell_type": "markdown",
   "metadata": {},
   "source": [
    "### Let's try to manipulate an image from S3 Bucket\n",
    "\n",
    "We'll try to cut the image in half to split into 2 images \n",
    "(To mimic a scenario where a user will send pictures of front and back of pill)\n",
    "\n",
    "Then we'll seek to read text from each and keep unique pieces of text (but only those with \"Confidence\" > 85%)"
   ]
  },
  {
   "cell_type": "markdown",
   "metadata": {},
   "source": [
    "IMAGE 5"
   ]
  },
  {
   "cell_type": "code",
   "execution_count": 26,
   "metadata": {},
   "outputs": [
    {
     "name": "stdout",
     "output_type": "stream",
     "text": [
      "Detected text\n",
      "Detected text:PVK 500\n",
      "Confidence: 99.73%\n",
      "\n",
      "\n",
      "Detected text:66 950\n",
      "Confidence: 95.93%\n",
      "\n",
      "\n",
      "Detected text:PVK\n",
      "Confidence: 99.68%\n",
      "\n",
      "\n",
      "Detected text:500\n",
      "Confidence: 99.79%\n",
      "\n",
      "\n",
      "Detected text:66\n",
      "Confidence: 93.53%\n",
      "\n",
      "\n",
      "Detected text:950\n",
      "Confidence: 98.32%\n",
      "\n",
      "\n"
     ]
    }
   ],
   "source": [
    "photo='007811655.jpg'\n",
    "\n",
    "response=client.detect_text(Image={'S3Object':{'Bucket':bucket,'Name':photo}})\n",
    "\n",
    "textDetections=response['TextDetections']\n",
    "print ('Detected text')\n",
    "for text in textDetections:\n",
    "    if (text['Id'] < 7) & (text['Confidence'] > 85):\n",
    "        print ('Detected text:' + text['DetectedText'])\n",
    "        print ('Confidence: ' + \"{:.2f}\".format(text['Confidence']) + \"%\")\n",
    "        print('\\n')\n",
    "        # print ('Id: {}'.format(text['Id']))"
   ]
  },
  {
   "cell_type": "code",
   "execution_count": 28,
   "metadata": {},
   "outputs": [
    {
     "data": {
      "text/plain": [
       "dict"
      ]
     },
     "execution_count": 28,
     "metadata": {},
     "output_type": "execute_result"
    }
   ],
   "source": [
    "type(response)"
   ]
  },
  {
   "cell_type": "code",
   "execution_count": 27,
   "metadata": {},
   "outputs": [
    {
     "ename": "AttributeError",
     "evalue": "'dict' object has no attribute 'shape'",
     "output_type": "error",
     "traceback": [
      "\u001b[1;31m---------------------------------------------------------------------------\u001b[0m",
      "\u001b[1;31mAttributeError\u001b[0m                            Traceback (most recent call last)",
      "\u001b[1;32m<ipython-input-27-97a4a8ffa4db>\u001b[0m in \u001b[0;36m<module>\u001b[1;34m\u001b[0m\n\u001b[0;32m      1\u001b[0m \u001b[1;32mimport\u001b[0m \u001b[0mimageio\u001b[0m\u001b[1;33m\u001b[0m\u001b[1;33m\u001b[0m\u001b[0m\n\u001b[0;32m      2\u001b[0m \u001b[1;33m\u001b[0m\u001b[0m\n\u001b[1;32m----> 3\u001b[1;33m \u001b[0mheight\u001b[0m\u001b[1;33m,\u001b[0m \u001b[0mwidth\u001b[0m \u001b[1;33m=\u001b[0m \u001b[0mresponse\u001b[0m\u001b[1;33m.\u001b[0m\u001b[0mshape\u001b[0m\u001b[1;33m\u001b[0m\u001b[1;33m\u001b[0m\u001b[0m\n\u001b[0m\u001b[0;32m      4\u001b[0m \u001b[1;33m\u001b[0m\u001b[0m\n\u001b[0;32m      5\u001b[0m \u001b[1;31m# Cut the image in half\u001b[0m\u001b[1;33m\u001b[0m\u001b[1;33m\u001b[0m\u001b[1;33m\u001b[0m\u001b[0m\n",
      "\u001b[1;31mAttributeError\u001b[0m: 'dict' object has no attribute 'shape'"
     ]
    }
   ],
   "source": [
    "import imageio\n",
    "\n",
    "height, width = response.shape\n",
    "\n",
    "# Cut the image in half\n",
    "height_cutoff = height // 2\n",
    "s1 = img[:height_cutoff,:]\n",
    "s2 = img[height_cutoff:,:]\n",
    "\n",
    "# Save each half\n",
    "imageio.imwrite(fn + '.1.png', s1)\n",
    "imageio.imwrite(fn + '.2.png', s2)"
   ]
  },
  {
   "cell_type": "code",
   "execution_count": null,
   "metadata": {},
   "outputs": [],
   "source": []
  },
  {
   "cell_type": "code",
   "execution_count": null,
   "metadata": {},
   "outputs": [],
   "source": []
  },
  {
   "cell_type": "code",
   "execution_count": null,
   "metadata": {},
   "outputs": [],
   "source": []
  },
  {
   "cell_type": "code",
   "execution_count": null,
   "metadata": {},
   "outputs": [],
   "source": []
  },
  {
   "cell_type": "code",
   "execution_count": null,
   "metadata": {},
   "outputs": [],
   "source": []
  },
  {
   "cell_type": "code",
   "execution_count": null,
   "metadata": {},
   "outputs": [],
   "source": []
  },
  {
   "cell_type": "code",
   "execution_count": null,
   "metadata": {},
   "outputs": [],
   "source": []
  },
  {
   "cell_type": "code",
   "execution_count": null,
   "metadata": {},
   "outputs": [],
   "source": []
  },
  {
   "cell_type": "code",
   "execution_count": null,
   "metadata": {},
   "outputs": [],
   "source": []
  },
  {
   "cell_type": "code",
   "execution_count": null,
   "metadata": {},
   "outputs": [],
   "source": []
  },
  {
   "cell_type": "markdown",
   "metadata": {},
   "source": [
    "IMAGE 6"
   ]
  },
  {
   "cell_type": "code",
   "execution_count": 23,
   "metadata": {},
   "outputs": [
    {
     "name": "stdout",
     "output_type": "stream",
     "text": [
      "Detected text\n",
      "Detected text:ANNE BLAN LAN\n",
      "Confidence: 91.98%\n",
      "\n",
      "\n",
      "Detected text:1368\n",
      "Confidence: 99.91%\n",
      "\n",
      "\n",
      "Detected text:136\n",
      "Confidence: 99.37%\n",
      "\n",
      "\n",
      "Detected text:ANNE\n",
      "Confidence: 96.30%\n",
      "\n",
      "\n"
     ]
    }
   ],
   "source": [
    "photo='422910227.jpg'\n",
    "\n",
    "response=client.detect_text(Image={'S3Object':{'Bucket':bucket,'Name':photo}})\n",
    "\n",
    "textDetections=response['TextDetections']\n",
    "print ('Detected text')\n",
    "for text in textDetections:\n",
    "    if (text['Id'] < 7) & (text['Confidence'] > 85):\n",
    "        print ('Detected text:' + text['DetectedText'])\n",
    "        print ('Confidence: ' + \"{:.2f}\".format(text['Confidence']) + \"%\")\n",
    "        print('\\n')\n",
    "        # print ('Id: {}'.format(text['Id']))"
   ]
  },
  {
   "cell_type": "code",
   "execution_count": 15,
   "metadata": {},
   "outputs": [
    {
     "ename": "ModuleNotFoundError",
     "evalue": "No module named 'matplotlib.pyplot'",
     "output_type": "error",
     "traceback": [
      "\u001b[1;31m---------------------------------------------------------------------------\u001b[0m",
      "\u001b[1;31mModuleNotFoundError\u001b[0m                       Traceback (most recent call last)",
      "\u001b[1;32m<ipython-input-15-8dba3f920547>\u001b[0m in \u001b[0;36m<module>\u001b[1;34m\u001b[0m\n\u001b[0;32m      1\u001b[0m \u001b[1;32mimport\u001b[0m \u001b[0mimageio\u001b[0m\u001b[1;33m\u001b[0m\u001b[1;33m\u001b[0m\u001b[0m\n\u001b[1;32m----> 2\u001b[1;33m \u001b[1;32mimport\u001b[0m \u001b[0mmatplotlib\u001b[0m\u001b[1;33m.\u001b[0m\u001b[0mpyplot\u001b[0m \u001b[1;32mas\u001b[0m \u001b[0mplt\u001b[0m\u001b[1;33m\u001b[0m\u001b[1;33m\u001b[0m\u001b[0m\n\u001b[0m\u001b[0;32m      3\u001b[0m \u001b[1;33m\u001b[0m\u001b[0m\n\u001b[0;32m      4\u001b[0m \u001b[0mpill_img\u001b[0m \u001b[1;33m=\u001b[0m \u001b[0mimageio\u001b[0m\u001b[1;33m.\u001b[0m\u001b[0mimread\u001b[0m\u001b[1;33m(\u001b[0m\u001b[1;34m'./pillbox_images/422910227.jpg'\u001b[0m\u001b[1;33m)\u001b[0m\u001b[1;33m\u001b[0m\u001b[1;33m\u001b[0m\u001b[0m\n\u001b[0;32m      5\u001b[0m \u001b[0mplt\u001b[0m\u001b[1;33m.\u001b[0m\u001b[0mimshow\u001b[0m\u001b[1;33m(\u001b[0m\u001b[0mpill_img\u001b[0m\u001b[1;33m)\u001b[0m\u001b[1;33m;\u001b[0m\u001b[1;33m\u001b[0m\u001b[1;33m\u001b[0m\u001b[0m\n",
      "\u001b[1;31mModuleNotFoundError\u001b[0m: No module named 'matplotlib.pyplot'"
     ]
    }
   ],
   "source": [
    "import imageio\n",
    "import matplotlib.pyplot as plt\n",
    "\n",
    "pill_img = imageio.imread('./pillbox_images/422910227.jpg')\n",
    "plt.imshow(pill_img);"
   ]
  },
  {
   "cell_type": "markdown",
   "metadata": {},
   "source": [
    "IMAGE 7"
   ]
  },
  {
   "cell_type": "code",
   "execution_count": null,
   "metadata": {},
   "outputs": [],
   "source": [
    "photo='422910380.jpg'\n",
    "\n",
    "response=client.detect_text(Image={'S3Object':{'Bucket':bucket,'Name':photo}})\n",
    "\n",
    "textDetections=response['TextDetections']\n",
    "print ('Detected text')\n",
    "for text in textDetections:\n",
    "    if (text['Id'] < 7) & (text['Confidence'] > 85):\n",
    "        print ('Detected text:' + text['DetectedText'])\n",
    "        print ('Confidence: ' + \"{:.2f}\".format(text['Confidence']) + \"%\")\n",
    "        print('\\n')\n",
    "        # print ('Id: {}'.format(text['Id']))"
   ]
  },
  {
   "cell_type": "code",
   "execution_count": null,
   "metadata": {},
   "outputs": [],
   "source": [
    "pill_img = imageio.imread('./pillbox_images/422910380.jpg')\n",
    "plt.imshow(pill_img);"
   ]
  },
  {
   "cell_type": "markdown",
   "metadata": {},
   "source": [
    "IMAGE 8"
   ]
  },
  {
   "cell_type": "code",
   "execution_count": 16,
   "metadata": {},
   "outputs": [
    {
     "name": "stdout",
     "output_type": "stream",
     "text": [
      "Detected text\n",
      "Detected text:FF 21\n",
      "Confidence: 97.99%\n",
      "\n",
      "\n",
      "Detected text:FF\n",
      "Confidence: 99.21%\n",
      "\n",
      "\n",
      "Detected text:21\n",
      "Confidence: 96.78%\n",
      "\n",
      "\n"
     ]
    }
   ],
   "source": [
    "photo='558060021.jpg'\n",
    "\n",
    "response=client.detect_text(Image={'S3Object':{'Bucket':bucket,'Name':photo}})\n",
    "\n",
    "textDetections=response['TextDetections']\n",
    "print ('Detected text')\n",
    "for text in textDetections:\n",
    "    if (text['Id'] < 7) & (text['Confidence'] > 85):\n",
    "        print ('Detected text:' + text['DetectedText'])\n",
    "        print ('Confidence: ' + \"{:.2f}\".format(text['Confidence']) + \"%\")\n",
    "        print('\\n')\n",
    "        # print ('Id: {}'.format(text['Id']))"
   ]
  },
  {
   "cell_type": "code",
   "execution_count": 17,
   "metadata": {},
   "outputs": [
    {
     "ename": "NameError",
     "evalue": "name 'plt' is not defined",
     "output_type": "error",
     "traceback": [
      "\u001b[1;31m---------------------------------------------------------------------------\u001b[0m",
      "\u001b[1;31mNameError\u001b[0m                                 Traceback (most recent call last)",
      "\u001b[1;32m<ipython-input-17-ac4951964dd1>\u001b[0m in \u001b[0;36m<module>\u001b[1;34m\u001b[0m\n\u001b[0;32m      1\u001b[0m \u001b[0mpill_img\u001b[0m \u001b[1;33m=\u001b[0m \u001b[0mimageio\u001b[0m\u001b[1;33m.\u001b[0m\u001b[0mimread\u001b[0m\u001b[1;33m(\u001b[0m\u001b[1;34m'./pillbox_images/558060021.jpg'\u001b[0m\u001b[1;33m)\u001b[0m\u001b[1;33m\u001b[0m\u001b[1;33m\u001b[0m\u001b[0m\n\u001b[1;32m----> 2\u001b[1;33m \u001b[0mplt\u001b[0m\u001b[1;33m.\u001b[0m\u001b[0mimshow\u001b[0m\u001b[1;33m(\u001b[0m\u001b[0mpill_img\u001b[0m\u001b[1;33m)\u001b[0m\u001b[1;33m;\u001b[0m\u001b[1;33m\u001b[0m\u001b[1;33m\u001b[0m\u001b[0m\n\u001b[0m",
      "\u001b[1;31mNameError\u001b[0m: name 'plt' is not defined"
     ]
    }
   ],
   "source": [
    "pill_img = imageio.imread('./pillbox_images/558060021.jpg')\n",
    "plt.imshow(pill_img);"
   ]
  },
  {
   "cell_type": "markdown",
   "metadata": {},
   "source": [
    "IMAGE 9"
   ]
  },
  {
   "cell_type": "code",
   "execution_count": null,
   "metadata": {},
   "outputs": [],
   "source": [
    "photo='576640103.jpg'\n",
    "\n",
    "response=client.detect_text(Image={'S3Object':{'Bucket':bucket,'Name':photo}})\n",
    "\n",
    "textDetections=response['TextDetections']\n",
    "print ('Detected text')\n",
    "for text in textDetections:\n",
    "    if (text['Id'] < 7) & (text['Confidence'] > 85):\n",
    "        print ('Detected text:' + text['DetectedText'])\n",
    "        print ('Confidence: ' + \"{:.2f}\".format(text['Confidence']) + \"%\")\n",
    "        print('\\n')\n",
    "        # print ('Id: {}'.format(text['Id']))"
   ]
  },
  {
   "cell_type": "code",
   "execution_count": null,
   "metadata": {},
   "outputs": [],
   "source": [
    "pill_img = imageio.imread('./pillbox_images/576640103.jpg')\n",
    "plt.imshow(pill_img);"
   ]
  },
  {
   "cell_type": "markdown",
   "metadata": {},
   "source": [
    "IMAGE 10"
   ]
  },
  {
   "cell_type": "code",
   "execution_count": 22,
   "metadata": {},
   "outputs": [
    {
     "name": "stdout",
     "output_type": "stream",
     "text": [
      "Detected text\n",
      "Detected text:2\n",
      "Confidence: 98.65%\n",
      "\n",
      "\n",
      "Detected text:2\n",
      "Confidence: 98.65%\n",
      "\n",
      "\n"
     ]
    }
   ],
   "source": [
    "photo='675440195.jpg'\n",
    "\n",
    "response=client.detect_text(Image={'S3Object':{'Bucket':bucket,'Name':photo}})\n",
    "\n",
    "textDetections=response['TextDetections']\n",
    "print ('Detected text')\n",
    "for text in textDetections:\n",
    "    if (text['Id'] < 7) & (text['Confidence'] > 85):\n",
    "        print ('Detected text:' + text['DetectedText'])\n",
    "        print ('Confidence: ' + \"{:.2f}\".format(text['Confidence']) + \"%\")\n",
    "        print('\\n')\n",
    "        # print ('Id: {}'.format(text['Id']))"
   ]
  },
  {
   "cell_type": "code",
   "execution_count": 19,
   "metadata": {},
   "outputs": [
    {
     "ename": "NameError",
     "evalue": "name 'plt' is not defined",
     "output_type": "error",
     "traceback": [
      "\u001b[1;31m---------------------------------------------------------------------------\u001b[0m",
      "\u001b[1;31mNameError\u001b[0m                                 Traceback (most recent call last)",
      "\u001b[1;32m<ipython-input-19-2628edcc22b6>\u001b[0m in \u001b[0;36m<module>\u001b[1;34m\u001b[0m\n\u001b[0;32m      1\u001b[0m \u001b[0mpill_img\u001b[0m \u001b[1;33m=\u001b[0m \u001b[0mimageio\u001b[0m\u001b[1;33m.\u001b[0m\u001b[0mimread\u001b[0m\u001b[1;33m(\u001b[0m\u001b[1;34m'./pillbox_images/675440195.jpg'\u001b[0m\u001b[1;33m)\u001b[0m\u001b[1;33m\u001b[0m\u001b[1;33m\u001b[0m\u001b[0m\n\u001b[1;32m----> 2\u001b[1;33m \u001b[0mplt\u001b[0m\u001b[1;33m.\u001b[0m\u001b[0mimshow\u001b[0m\u001b[1;33m(\u001b[0m\u001b[0mpill_img\u001b[0m\u001b[1;33m)\u001b[0m\u001b[1;33m;\u001b[0m\u001b[1;33m\u001b[0m\u001b[1;33m\u001b[0m\u001b[0m\n\u001b[0m",
      "\u001b[1;31mNameError\u001b[0m: name 'plt' is not defined"
     ]
    }
   ],
   "source": [
    "pill_img = imageio.imread('./pillbox_images/675440195.jpg')\n",
    "plt.imshow(pill_img);"
   ]
  },
  {
   "cell_type": "code",
   "execution_count": 20,
   "metadata": {},
   "outputs": [],
   "source": [
    "import cv2"
   ]
  },
  {
   "cell_type": "code",
   "execution_count": null,
   "metadata": {},
   "outputs": [],
   "source": []
  }
 ],
 "metadata": {
  "kernelspec": {
   "display_name": "Python 3",
   "language": "python",
   "name": "python3"
  },
  "language_info": {
   "codemirror_mode": {
    "name": "ipython",
    "version": 3
   },
   "file_extension": ".py",
   "mimetype": "text/x-python",
   "name": "python",
   "nbconvert_exporter": "python",
   "pygments_lexer": "ipython3",
   "version": "3.6.8"
  }
 },
 "nbformat": 4,
 "nbformat_minor": 2
}
