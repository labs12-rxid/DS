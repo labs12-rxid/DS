{
 "cells": [
  {
   "cell_type": "code",
   "execution_count": 1,
   "metadata": {
    "ExecuteTime": {
     "end_time": "2019-04-26T12:17:56.914333Z",
     "start_time": "2019-04-26T12:17:56.645678Z"
    }
   },
   "outputs": [],
   "source": [
    "import cv2\n",
    "import pandas as pd\n",
    "import numpy as np\n",
    "import os\n",
    "import glob\n",
    "import shutil\n",
    "import pytesseract\n",
    "import re\n",
    "import time\n",
    "import argparse\n",
    "from statistics import mode\n",
    "import struct\n",
    "import imghdr\n",
    "from collections import Counter"
   ]
  },
  {
   "cell_type": "code",
   "execution_count": 2,
   "metadata": {
    "ExecuteTime": {
     "end_time": "2019-04-26T12:17:57.212220Z",
     "start_time": "2019-04-26T12:17:57.088615Z"
    }
   },
   "outputs": [
    {
     "name": "stdout",
     "output_type": "stream",
     "text": [
      "/home/mark/lambda/pill_identifier\r\n"
     ]
    }
   ],
   "source": [
    "!pwd"
   ]
  },
  {
   "cell_type": "code",
   "execution_count": 3,
   "metadata": {
    "ExecuteTime": {
     "end_time": "2019-04-26T12:17:57.454643Z",
     "start_time": "2019-04-26T12:17:57.447134Z"
    }
   },
   "outputs": [],
   "source": [
    "pd.set_option('display.max_columns', 500)"
   ]
  },
  {
   "cell_type": "code",
   "execution_count": 4,
   "metadata": {
    "ExecuteTime": {
     "end_time": "2019-04-26T12:17:57.824810Z",
     "start_time": "2019-04-26T12:17:57.822470Z"
    }
   },
   "outputs": [],
   "source": [
    "output_dir = \"./results\"\n",
    "input_dir = \"./images/\""
   ]
  },
  {
   "cell_type": "code",
   "execution_count": 5,
   "metadata": {
    "ExecuteTime": {
     "end_time": "2019-04-26T12:17:58.211778Z",
     "start_time": "2019-04-26T12:17:58.205162Z"
    }
   },
   "outputs": [],
   "source": [
    "def apply_threshold(img, argument):\n",
    "    switcher = {\n",
    "        1: cv2.threshold(cv2.GaussianBlur(img, (9, 9), 0), 0, 255, cv2.THRESH_BINARY + cv2.THRESH_OTSU)[1],\n",
    "        2: cv2.threshold(cv2.GaussianBlur(img, (7, 7), 0), 0, 255, cv2.THRESH_BINARY + cv2.THRESH_OTSU)[1],\n",
    "        3: cv2.threshold(cv2.GaussianBlur(img, (5, 5), 0), 0, 255, cv2.THRESH_BINARY + cv2.THRESH_OTSU)[1],\n",
    "        4: cv2.threshold(cv2.medianBlur(img, 5), 0, 255, cv2.THRESH_BINARY + cv2.THRESH_OTSU)[1],\n",
    "        5: cv2.threshold(cv2.medianBlur(img, 3), 0, 255, cv2.THRESH_BINARY + cv2.THRESH_OTSU)[1],\n",
    "        6: cv2.adaptiveThreshold(cv2.GaussianBlur(img, (5, 5), 0), 255, cv2.ADAPTIVE_THRESH_GAUSSIAN_C, cv2.THRESH_BINARY, 31, 2),\n",
    "        7: cv2.adaptiveThreshold(cv2.medianBlur(img, 3), 255, cv2.ADAPTIVE_THRESH_GAUSSIAN_C, cv2.THRESH_BINARY, 31, 2),\n",
    "    }\n",
    "    return switcher.get(argument, \"Invalid method\")\n",
    "\n",
    "\n",
    "# def crop_image(img, start_x, start_y, end_x, end_y):\n",
    "#     cropped = img[start_y:end_y, start_x:end_x]\n",
    "#     return cropped"
   ]
  },
  {
   "cell_type": "code",
   "execution_count": 6,
   "metadata": {
    "ExecuteTime": {
     "end_time": "2019-04-26T12:17:58.701955Z",
     "start_time": "2019-04-26T12:17:58.686858Z"
    }
   },
   "outputs": [],
   "source": [
    "\n",
    "def get_string(img_path, method):\n",
    "    # Read image using opencv\n",
    "    img = cv2.imread(img_path)\n",
    "    file_name = os.path.basename(img_path).split('.')[0]\n",
    "    file_name = file_name.split()[0]\n",
    "\n",
    "    output_path = os.path.join(output_dir, file_name)\n",
    "    if not os.path.exists(output_path):\n",
    "        os.makedirs(output_path)\n",
    "\n",
    "    # Crop the areas where provision number is more likely present\n",
    "#     img = crop_image(img, pnr_area[0], pnr_area[1], pnr_area[2], pnr_area[3])\n",
    "    # img = cv2.resize(img, None, fx=1.2, fy=1.2, interpolation=cv2.INTER_CUBIC)\n",
    "\n",
    "    # Convert to gray\n",
    "    img = cv2.cvtColor(img, cv2.COLOR_BGR2GRAY)\n",
    "\n",
    "    # Apply dilation and erosion to remove some noise\n",
    "    kernel = np.ones((1, 1), np.uint8)\n",
    "    img = cv2.dilate(img, kernel, iterations=1)\n",
    "    img = cv2.erode(img, kernel, iterations=1)\n",
    "\n",
    "    #  Apply threshold to get image with only black and white\n",
    "    img = apply_threshold(img, method)\n",
    "    save_path = os.path.join(output_path, file_name + \"_filter_\" + str(method) + \".jpg\")\n",
    "    cv2.imwrite(save_path, img)\n",
    "\n",
    "    # Recognize text with tesseract for python\n",
    "    result = pytesseract.image_to_string(img, lang=\"eng\")\n",
    "\n",
    "    return result"
   ]
  },
  {
   "cell_type": "code",
   "execution_count": 7,
   "metadata": {
    "ExecuteTime": {
     "end_time": "2019-04-26T12:17:59.766300Z",
     "start_time": "2019-04-26T12:17:59.764253Z"
    }
   },
   "outputs": [],
   "source": [
    "# !wget https://pillbox.nlm.nih.gov/downloads/pillbox_production_images_full_201805.zip"
   ]
  },
  {
   "cell_type": "code",
   "execution_count": 8,
   "metadata": {
    "ExecuteTime": {
     "end_time": "2019-04-26T12:18:00.166642Z",
     "start_time": "2019-04-26T12:18:00.162803Z"
    }
   },
   "outputs": [],
   "source": [
    "# !unzip pillbox_production_images_full_201805.zip"
   ]
  },
  {
   "cell_type": "code",
   "execution_count": 9,
   "metadata": {
    "ExecuteTime": {
     "end_time": "2019-04-26T12:18:01.189366Z",
     "start_time": "2019-04-26T12:18:00.613774Z"
    }
   },
   "outputs": [],
   "source": [
    "url = 'pillbox_201805.tab'\n",
    "df_ = pd.read_csv(url,sep='\\t')"
   ]
  },
  {
   "cell_type": "code",
   "execution_count": 10,
   "metadata": {
    "ExecuteTime": {
     "end_time": "2019-04-26T12:18:01.214965Z",
     "start_time": "2019-04-26T12:18:01.191832Z"
    }
   },
   "outputs": [],
   "source": [
    "df = pd.concat([df_[(df_.SPLIMPRINT.notnull()) & (df_.image_id.notnull()) & (df_.image_id != 'no_product_image')][['image_id','SPLIMPRINT']],pd.read_csv('pill_ids.csv')],ignore_index=True)"
   ]
  },
  {
   "cell_type": "code",
   "execution_count": 11,
   "metadata": {
    "ExecuteTime": {
     "end_time": "2019-04-26T12:18:01.474268Z",
     "start_time": "2019-04-26T12:18:01.445316Z"
    }
   },
   "outputs": [
    {
     "data": {
      "text/html": [
       "<div>\n",
       "<style scoped>\n",
       "    .dataframe tbody tr th:only-of-type {\n",
       "        vertical-align: middle;\n",
       "    }\n",
       "\n",
       "    .dataframe tbody tr th {\n",
       "        vertical-align: top;\n",
       "    }\n",
       "\n",
       "    .dataframe thead th {\n",
       "        text-align: right;\n",
       "    }\n",
       "</style>\n",
       "<table border=\"1\" class=\"dataframe\">\n",
       "  <thead>\n",
       "    <tr style=\"text-align: right;\">\n",
       "      <th></th>\n",
       "      <th>image_id</th>\n",
       "      <th>SPLIMPRINT</th>\n",
       "    </tr>\n",
       "  </thead>\n",
       "  <tbody>\n",
       "    <tr>\n",
       "      <th>0</th>\n",
       "      <td>50844-0175-10_NLMIMAGE10_5135A8AD</td>\n",
       "      <td>44;175</td>\n",
       "    </tr>\n",
       "    <tr>\n",
       "      <th>1</th>\n",
       "      <td>00093720656</td>\n",
       "      <td>9;3;7206</td>\n",
       "    </tr>\n",
       "    <tr>\n",
       "      <th>2</th>\n",
       "      <td>604290566</td>\n",
       "      <td>WATSON;744;1</td>\n",
       "    </tr>\n",
       "    <tr>\n",
       "      <th>3</th>\n",
       "      <td>007811034</td>\n",
       "      <td>GG55;5</td>\n",
       "    </tr>\n",
       "    <tr>\n",
       "      <th>4</th>\n",
       "      <td>59762-0145-01_NLMIMAGE10_333E99F4</td>\n",
       "      <td>FELDENE;PFIZER;323</td>\n",
       "    </tr>\n",
       "  </tbody>\n",
       "</table>\n",
       "</div>"
      ],
      "text/plain": [
       "                            image_id          SPLIMPRINT\n",
       "0  50844-0175-10_NLMIMAGE10_5135A8AD              44;175\n",
       "1                        00093720656            9;3;7206\n",
       "2                          604290566        WATSON;744;1\n",
       "3                          007811034              GG55;5\n",
       "4  59762-0145-01_NLMIMAGE10_333E99F4  FELDENE;PFIZER;323"
      ]
     },
     "execution_count": 11,
     "metadata": {},
     "output_type": "execute_result"
    }
   ],
   "source": [
    "df.head()"
   ]
  },
  {
   "cell_type": "code",
   "execution_count": 12,
   "metadata": {
    "ExecuteTime": {
     "end_time": "2019-04-26T12:18:01.932258Z",
     "start_time": "2019-04-26T12:18:01.915288Z"
    }
   },
   "outputs": [
    {
     "data": {
      "text/html": [
       "<div>\n",
       "<style scoped>\n",
       "    .dataframe tbody tr th:only-of-type {\n",
       "        vertical-align: middle;\n",
       "    }\n",
       "\n",
       "    .dataframe tbody tr th {\n",
       "        vertical-align: top;\n",
       "    }\n",
       "\n",
       "    .dataframe thead th {\n",
       "        text-align: right;\n",
       "    }\n",
       "</style>\n",
       "<table border=\"1\" class=\"dataframe\">\n",
       "  <thead>\n",
       "    <tr style=\"text-align: right;\">\n",
       "      <th></th>\n",
       "      <th>image_id</th>\n",
       "      <th>SPLIMPRINT</th>\n",
       "    </tr>\n",
       "  </thead>\n",
       "  <tbody>\n",
       "    <tr>\n",
       "      <th>8428</th>\n",
       "      <td>005361500</td>\n",
       "      <td>CPC;1490</td>\n",
       "    </tr>\n",
       "  </tbody>\n",
       "</table>\n",
       "</div>"
      ],
      "text/plain": [
       "       image_id SPLIMPRINT\n",
       "8428  005361500   CPC;1490"
      ]
     },
     "execution_count": 12,
     "metadata": {},
     "output_type": "execute_result"
    }
   ],
   "source": [
    "df[df.image_id == '005361500']"
   ]
  },
  {
   "cell_type": "code",
   "execution_count": 13,
   "metadata": {
    "ExecuteTime": {
     "end_time": "2019-04-26T12:18:02.487095Z",
     "start_time": "2019-04-26T12:18:02.458952Z"
    }
   },
   "outputs": [],
   "source": [
    "df.to_csv('pillbox_201904_clean.csv')"
   ]
  },
  {
   "cell_type": "markdown",
   "metadata": {},
   "source": [
    "Index(['image_id', ' SPLIMPRINT'], dtype='object')\n",
    "Index(['image_id', ' SPLIMPRINT'], dtype='object')"
   ]
  },
  {
   "cell_type": "code",
   "execution_count": 14,
   "metadata": {
    "ExecuteTime": {
     "end_time": "2019-04-26T12:18:03.604263Z",
     "start_time": "2019-04-26T12:18:03.599579Z"
    }
   },
   "outputs": [
    {
     "data": {
      "text/plain": [
       "image_id      object\n",
       "SPLIMPRINT    object\n",
       "dtype: object"
      ]
     },
     "execution_count": 14,
     "metadata": {},
     "output_type": "execute_result"
    }
   ],
   "source": [
    "df.dtypes"
   ]
  },
  {
   "cell_type": "code",
   "execution_count": 15,
   "metadata": {
    "ExecuteTime": {
     "end_time": "2019-04-26T12:18:04.159366Z",
     "start_time": "2019-04-26T12:18:04.133074Z"
    }
   },
   "outputs": [
    {
     "data": {
      "text/html": [
       "<div>\n",
       "<style scoped>\n",
       "    .dataframe tbody tr th:only-of-type {\n",
       "        vertical-align: middle;\n",
       "    }\n",
       "\n",
       "    .dataframe tbody tr th {\n",
       "        vertical-align: top;\n",
       "    }\n",
       "\n",
       "    .dataframe thead th {\n",
       "        text-align: right;\n",
       "    }\n",
       "</style>\n",
       "<table border=\"1\" class=\"dataframe\">\n",
       "  <thead>\n",
       "    <tr style=\"text-align: right;\">\n",
       "      <th></th>\n",
       "      <th>image_id</th>\n",
       "      <th>SPLIMPRINT</th>\n",
       "    </tr>\n",
       "  </thead>\n",
       "  <tbody>\n",
       "    <tr>\n",
       "      <th>5034</th>\n",
       "      <td>00378-1823-01_D723EBAF</td>\n",
       "      <td>M;L;15</td>\n",
       "    </tr>\n",
       "  </tbody>\n",
       "</table>\n",
       "</div>"
      ],
      "text/plain": [
       "                    image_id SPLIMPRINT\n",
       "5034  00378-1823-01_D723EBAF     M;L;15"
      ]
     },
     "execution_count": 15,
     "metadata": {},
     "output_type": "execute_result"
    }
   ],
   "source": [
    "df[df['SPLIMPRINT'].str.contains(\"M;L;15\")]"
   ]
  },
  {
   "cell_type": "code",
   "execution_count": 16,
   "metadata": {
    "ExecuteTime": {
     "end_time": "2019-04-26T12:18:04.675124Z",
     "start_time": "2019-04-26T12:18:04.649564Z"
    }
   },
   "outputs": [
    {
     "data": {
      "text/html": [
       "<div>\n",
       "<style scoped>\n",
       "    .dataframe tbody tr th:only-of-type {\n",
       "        vertical-align: middle;\n",
       "    }\n",
       "\n",
       "    .dataframe tbody tr th {\n",
       "        vertical-align: top;\n",
       "    }\n",
       "\n",
       "    .dataframe thead th {\n",
       "        text-align: right;\n",
       "    }\n",
       "</style>\n",
       "<table border=\"1\" class=\"dataframe\">\n",
       "  <thead>\n",
       "    <tr style=\"text-align: right;\">\n",
       "      <th></th>\n",
       "      <th>image_id</th>\n",
       "      <th>SPLIMPRINT</th>\n",
       "    </tr>\n",
       "  </thead>\n",
       "  <tbody>\n",
       "    <tr>\n",
       "      <th>6236</th>\n",
       "      <td>00002-3229-30_3E1E1F50</td>\n",
       "      <td>LILLY;3229;40;mg</td>\n",
       "    </tr>\n",
       "  </tbody>\n",
       "</table>\n",
       "</div>"
      ],
      "text/plain": [
       "                    image_id        SPLIMPRINT\n",
       "6236  00002-3229-30_3E1E1F50  LILLY;3229;40;mg"
      ]
     },
     "execution_count": 16,
     "metadata": {},
     "output_type": "execute_result"
    }
   ],
   "source": [
    "df[df['SPLIMPRINT'].str.contains(\"3229\")]"
   ]
  },
  {
   "cell_type": "code",
   "execution_count": 17,
   "metadata": {
    "ExecuteTime": {
     "end_time": "2019-04-26T12:18:05.367805Z",
     "start_time": "2019-04-26T12:18:05.361948Z"
    }
   },
   "outputs": [],
   "source": [
    "#regex = r\"([\\w\\d]+)(?!\\s+\\d+\\s+mg)\"\n",
    "regex = r\"([\\w\\d]+)\""
   ]
  },
  {
   "cell_type": "code",
   "execution_count": 18,
   "metadata": {
    "ExecuteTime": {
     "end_time": "2019-04-26T12:18:06.100078Z",
     "start_time": "2019-04-26T12:18:06.031967Z"
    }
   },
   "outputs": [],
   "source": [
    "im_names = glob.glob(os.path.join(input_dir, '*.png')) + \\\n",
    "           glob.glob(os.path.join(input_dir, '*.jpg')) + \\\n",
    "           glob.glob(os.path.join(input_dir, '*.jpeg'))"
   ]
  },
  {
   "cell_type": "code",
   "execution_count": 19,
   "metadata": {
    "ExecuteTime": {
     "end_time": "2019-04-26T12:18:06.575285Z",
     "start_time": "2019-04-26T12:18:06.563184Z"
    }
   },
   "outputs": [
    {
     "name": "stdout",
     "output_type": "stream",
     "text": [
      "len(im_names) 8041\n"
     ]
    },
    {
     "data": {
      "text/plain": [
       "(8437, 2)"
      ]
     },
     "execution_count": 19,
     "metadata": {},
     "output_type": "execute_result"
    }
   ],
   "source": [
    "print('len(im_names)',len(im_names))\n",
    "df.shape"
   ]
  },
  {
   "cell_type": "code",
   "execution_count": 20,
   "metadata": {
    "ExecuteTime": {
     "end_time": "2019-04-26T12:18:07.304920Z",
     "start_time": "2019-04-26T12:18:07.302638Z"
    }
   },
   "outputs": [],
   "source": [
    "# dft = df.copy(deep=True)"
   ]
  },
  {
   "cell_type": "code",
   "execution_count": 21,
   "metadata": {
    "ExecuteTime": {
     "end_time": "2019-04-26T12:18:08.544688Z",
     "start_time": "2019-04-26T12:18:08.536934Z"
    }
   },
   "outputs": [],
   "source": [
    "def get_image_size(fname):\n",
    "    '''Determine the image type of fhandle and return its size.\n",
    "    from draco'''\n",
    "    with open(fname, 'rb') as fhandle:\n",
    "        head = fhandle.read(24)\n",
    "        if len(head) != 24:\n",
    "            return\n",
    "        if imghdr.what(fname) == 'png':\n",
    "            check = struct.unpack('>i', head[4:8])[0]\n",
    "            if check != 0x0d0a1a0a:\n",
    "                return\n",
    "            width, height = struct.unpack('>ii', head[16:24])\n",
    "        elif imghdr.what(fname) == 'gif':\n",
    "            width, height = struct.unpack('<HH', head[6:10])\n",
    "        elif imghdr.what(fname) == 'jpeg':\n",
    "            try:\n",
    "                fhandle.seek(0) # Read 0xff next\n",
    "                size = 2\n",
    "                ftype = 0\n",
    "                while not 0xc0 <= ftype <= 0xcf:\n",
    "                    fhandle.seek(size, 1)\n",
    "                    byte = fhandle.read(1)\n",
    "                    while ord(byte) == 0xff:\n",
    "                        byte = fhandle.read(1)\n",
    "                    ftype = ord(byte)\n",
    "                    size = struct.unpack('>H', fhandle.read(2))[0] - 2\n",
    "                # We are at a SOFn block\n",
    "                fhandle.seek(1, 1)  # Skip `precision' byte.\n",
    "                height, width = struct.unpack('>HH', fhandle.read(4))\n",
    "            except Exception: #IGNORE:W0703\n",
    "                return\n",
    "        else:\n",
    "            return\n",
    "        return width, height"
   ]
  },
  {
   "cell_type": "code",
   "execution_count": 22,
   "metadata": {
    "ExecuteTime": {
     "end_time": "2019-04-26T12:18:10.943914Z",
     "start_time": "2019-04-26T12:18:10.645310Z"
    },
    "collapsed": true
   },
   "outputs": [
    {
     "ename": "NameError",
     "evalue": "name 'dirpath' is not defined",
     "output_type": "error",
     "traceback": [
      "\u001b[0;31m---------------------------------------------------------------------------\u001b[0m",
      "\u001b[0;31mNameError\u001b[0m                                 Traceback (most recent call last)",
      "\u001b[0;32m<ipython-input-22-ff0f076030dd>\u001b[0m in \u001b[0;36m<module>\u001b[0;34m\u001b[0m\n\u001b[1;32m     15\u001b[0m     \u001b[0mprint\u001b[0m\u001b[0;34m(\u001b[0m\u001b[0;34m'Max pill length in \"%s\":'\u001b[0m \u001b[0;34m%\u001b[0m \u001b[0mdirname\u001b[0m\u001b[0;34m,\u001b[0m \u001b[0mmax\u001b[0m\u001b[0;34m(\u001b[0m\u001b[0mCounter\u001b[0m\u001b[0;34m(\u001b[0m\u001b[0mlens\u001b[0m\u001b[0;34m)\u001b[0m\u001b[0;34m.\u001b[0m\u001b[0mkeys\u001b[0m\u001b[0;34m(\u001b[0m\u001b[0;34m)\u001b[0m\u001b[0;34m)\u001b[0m\u001b[0;34m)\u001b[0m\u001b[0;34m\u001b[0m\u001b[0m\n\u001b[1;32m     16\u001b[0m     \u001b[0;32mreturn\u001b[0m \u001b[0mCounter\u001b[0m\u001b[0;34m(\u001b[0m\u001b[0mletters\u001b[0m\u001b[0;34m)\u001b[0m\u001b[0;34m\u001b[0m\u001b[0m\n\u001b[0;32m---> 17\u001b[0;31m \u001b[0mc_val\u001b[0m \u001b[0;34m=\u001b[0m \u001b[0mget_counter\u001b[0m\u001b[0;34m(\u001b[0m\u001b[0;34m'../data/anpr_ocr__train'\u001b[0m\u001b[0;34m,\u001b[0m \u001b[0;34m'val'\u001b[0m\u001b[0;34m)\u001b[0m\u001b[0;34m\u001b[0m\u001b[0m\n\u001b[0m\u001b[1;32m     18\u001b[0m \u001b[0mc_train\u001b[0m \u001b[0;34m=\u001b[0m \u001b[0mget_counter\u001b[0m\u001b[0;34m(\u001b[0m\u001b[0;34m'../data/anpr_ocr__train'\u001b[0m\u001b[0;34m,\u001b[0m \u001b[0;34m'train'\u001b[0m\u001b[0;34m)\u001b[0m\u001b[0;34m\u001b[0m\u001b[0m\n\u001b[1;32m     19\u001b[0m \u001b[0mletters_train\u001b[0m \u001b[0;34m=\u001b[0m \u001b[0mset\u001b[0m\u001b[0;34m(\u001b[0m\u001b[0mc_train\u001b[0m\u001b[0;34m.\u001b[0m\u001b[0mkeys\u001b[0m\u001b[0;34m(\u001b[0m\u001b[0;34m)\u001b[0m\u001b[0;34m)\u001b[0m\u001b[0;34m\u001b[0m\u001b[0m\n",
      "\u001b[0;32m<ipython-input-22-ff0f076030dd>\u001b[0m in \u001b[0;36mget_counter\u001b[0;34m(imprints, tag)\u001b[0m\n\u001b[1;32m      1\u001b[0m \u001b[0;34m\u001b[0m\u001b[0m\n\u001b[1;32m      2\u001b[0m \u001b[0;32mdef\u001b[0m \u001b[0mget_counter\u001b[0m\u001b[0;34m(\u001b[0m\u001b[0mimprints\u001b[0m\u001b[0;34m,\u001b[0m \u001b[0mtag\u001b[0m\u001b[0;34m)\u001b[0m\u001b[0;34m:\u001b[0m\u001b[0;34m\u001b[0m\u001b[0m\n\u001b[0;32m----> 3\u001b[0;31m     \u001b[0mdirname\u001b[0m \u001b[0;34m=\u001b[0m \u001b[0mos\u001b[0m\u001b[0;34m.\u001b[0m\u001b[0mpath\u001b[0m\u001b[0;34m.\u001b[0m\u001b[0mbasename\u001b[0m\u001b[0;34m(\u001b[0m\u001b[0mdirpath\u001b[0m\u001b[0;34m)\u001b[0m\u001b[0;34m\u001b[0m\u001b[0m\n\u001b[0m\u001b[1;32m      4\u001b[0m     \u001b[0mann_dirpath\u001b[0m \u001b[0;34m=\u001b[0m \u001b[0mjoin\u001b[0m\u001b[0;34m(\u001b[0m\u001b[0mdirpath\u001b[0m\u001b[0;34m,\u001b[0m \u001b[0;34m'ann'\u001b[0m\u001b[0;34m)\u001b[0m\u001b[0;34m\u001b[0m\u001b[0m\n\u001b[1;32m      5\u001b[0m     \u001b[0mletters\u001b[0m \u001b[0;34m=\u001b[0m \u001b[0;34m''\u001b[0m\u001b[0;34m\u001b[0m\u001b[0m\n",
      "\u001b[0;31mNameError\u001b[0m: name 'dirpath' is not defined"
     ]
    }
   ],
   "source": [
    "\n",
    "# def get_counter(imprints, tag):\n",
    "#     dirname = os.path.basename(dirpath)\n",
    "#     ann_dirpath = join(dirpath, 'ann')\n",
    "#     letters = ''\n",
    "#     lens = []\n",
    "#     for filename in os.listdir(ann_dirpath):\n",
    "#         json_filepath = join(ann_dirpath, filename)\n",
    "#         ann = json.load(open(json_filepath, 'r'))\n",
    "#         tags = ann['tags']\n",
    "#         if tag in tags:\n",
    "#             description = ann['description']\n",
    "#             lens.append(len(description))\n",
    "#             letters += description\n",
    "#     print('Max pill length in \"%s\":' % dirname, max(Counter(lens).keys()))\n",
    "#     return Counter(letters)\n",
    "# c_val = get_counter('../data/anpr_ocr__train', 'val')\n",
    "# c_train = get_counter('../data/anpr_ocr__train', 'train')\n",
    "# letters_train = set(c_train.keys())\n",
    "# letters_val = set(c_val.keys())\n",
    "# if letters_train == letters_val:\n",
    "#     print('Letters in train and val do match')\n",
    "# else:\n",
    "#     raise Exception()\n",
    "# # print(len(letters_train), len(letters_val), len(letters_val | letters_train))\n",
    "# letters = sorted(list(letters_train))\n",
    "# print('Letters:', ' '.join(letters))"
   ]
  },
  {
   "cell_type": "code",
   "execution_count": 44,
   "metadata": {
    "ExecuteTime": {
     "end_time": "2019-04-26T13:45:18.802723Z",
     "start_time": "2019-04-26T13:45:18.540933Z"
    }
   },
   "outputs": [],
   "source": [
    "!rm json/*.json"
   ]
  },
  {
   "cell_type": "code",
   "execution_count": 50,
   "metadata": {
    "ExecuteTime": {
     "end_time": "2019-04-26T13:48:56.618307Z",
     "start_time": "2019-04-26T13:48:39.524503Z"
    }
   },
   "outputs": [
    {
     "name": "stdout",
     "output_type": "stream",
     "text": [
      "name 50419-0403-01_SPLIMAGE30_9A194D0A has 2 rows\n",
      "name 499380101 has 2 rows\n",
      "name 65597-0101-30_35131A98 has 2 rows\n",
      "name 00093019901 has 3 rows\n",
      "name 524270286 has 2 rows\n",
      "name 60429-203_M_LH3 has 2 rows\n",
      "name 00093745701 has 7 rows\n",
      "name 00172409760 has 8 rows\n",
      "name 633040535 has 2 rows\n",
      "name 605052551 has 2 rows\n",
      "name 00093213101 has 2 rows\n",
      "name 4ec4203e-f1f8-0398-e054-00144ff88e88 has 2 rows\n",
      "name 00093075601 has 2 rows\n",
      "name 615700079 has 2 rows\n",
      "name 00555015904 has 4 rows\n",
      "name 000548183 has 2 rows\n",
      "name 499380102 has 2 rows\n",
      "name 2ab8564f-f95f-7512-e054-00144ff88e88 has 3 rows\n",
      "name 00093517220 has 2 rows\n",
      "name 60429-201_M_LH1 has 2 rows\n",
      "name 000548174 has 2 rows\n",
      "name 000548179 has 2 rows\n",
      "name 00093738456 has 5 rows\n",
      "name 00093777201 has 2 rows\n",
      "name 50111-0434-01_SPLIMAGE30_F22FF97F has 2 rows\n",
      "name 00093226801 has 3 rows\n",
      "name 00093112201 has 2 rows\n",
      "name 00781-1852-20_NLMIMAGE10_50402831 has 2 rows\n",
      "name 633040828 has 2 rows\n",
      "name 00555015802 has 2 rows\n",
      "name 00555083102 has 2 rows\n",
      "name 000544297 has 2 rows\n",
      "name 57664-0166-58_NLMIMAGE10_043F826C has 2 rows\n",
      "name 162520599 has 2 rows\n",
      "name 00555904558part2of2 has 2 rows\n",
      "name 50111032701 has 4 rows\n",
      "name 658620288 has 2 rows\n",
      "name 001433126 has 2 rows\n",
      "name 64376-0136-05_NLMIMAGE10_B9465C92 has 2 rows\n",
      "name 00093068801 has 2 rows\n",
      "name 50111-0441-01_splimage30_e02f706b has 2 rows\n",
      "name 00093585201 has 3 rows\n",
      "name 00555092302 has 2 rows\n",
      "name 005915540 has 2 rows\n",
      "name 50111078766 has 10 rows\n",
      "name 605050112 has 2 rows\n",
      "name 00093314701 has 2 rows\n",
      "name 00093767001 has 2 rows\n",
      "name 68546022956 has 2 rows\n",
      "name 65597-0103-90_12130928 has 2 rows\n",
      "name 00173-0949-55-splimage30-3219995c has 2 rows\n",
      "name 00093014901 has 2 rows\n",
      "name 00093227234 has 2 rows\n",
      "name 00172524160 has 3 rows\n",
      "name 00172409660 has 5 rows\n",
      "name 001431773 has 2 rows\n",
      "name 00093171601 has 3 rows\n",
      "name 00093585101 has 6 rows\n",
      "name 50419-0403-01_SPLIMAGE30_9D194EBA has 2 rows\n",
      "name 60505-0146-00_SPLIMAGE30_46292339 has 2 rows\n",
      "name 00093171301 has 2 rows\n",
      "name 00555086902 has 2 rows\n",
      "name 008321008 has 2 rows\n",
      "name 50111046801 has 6 rows\n",
      "name 00143-1254-01_ED0776DB has 2 rows\n",
      "name 002283083 has 2 rows\n",
      "name 00093104998 has 2 rows\n",
      "name 00555087402 has 2 rows\n",
      "name 00093081301 has 3 rows\n",
      "name 00555003302 has 3 rows\n",
      "name 50111046701 has 5 rows\n",
      "name 162520601 has 2 rows\n",
      "name 000548181 has 2 rows\n",
      "name 00093077801 has 2 rows\n",
      "name 00555088602 has 7 rows\n",
      "name 00085-1733-03_SPLIMAGE30_2619935C has 4 rows\n",
      "name 003780018 has 2 rows\n",
      "name 00093-1138-56_NLMIMAGE10_6A383511 has 2 rows\n",
      "name 00093758056 has 2 rows\n",
      "name 00093220301 has 3 rows\n",
      "name 00093002901 has 2 rows\n",
      "name 658620287 has 2 rows\n",
      "name 625840693 has 2 rows\n",
      "name 605052552 has 2 rows\n",
      "name 16252-0506-50_3D061E80 has 2 rows\n",
      "name 00093078406 has 2 rows\n",
      "name 50111046901 has 3 rows\n",
      "name 00093171201 has 5 rows\n",
      "name 524270287 has 2 rows\n",
      "name 31df9d2e-4549-2df2-e054-00144ff88e88 has 2 rows\n",
      "name 50111-0433-01_splimage30_21301080 has 2 rows\n",
      "name 50111078855 has 5 rows\n",
      "name 00093227434 has 4 rows\n",
      "name 00093171401 has 4 rows\n",
      "name 23155-0046-10_A415D20E has 2 rows\n",
      "name 50419-0407-01_SPLIMAGE30_42192129 has 2 rows\n",
      "name 000548175 has 2 rows\n",
      "name 00093745601 has 6 rows\n",
      "name 00093894001 has 5 rows\n",
      "name 30db0e67-ea60-58a5-e054-00144ff8d46c has 2 rows\n",
      "name 000544301 has 2 rows\n",
      "name 00093013201 has 2 rows\n",
      "name 00093711306 has 2 rows\n",
      "name 000544129 has 2 rows\n",
      "name 001821093 has 2 rows\n",
      "name 00093081001 has 2 rows\n",
      "name 50419-0407-01_SPLIMAGE30_44192279 has 2 rows\n",
      "name 62756-0554-88_NLMIMAGE10_A63C5302 has 2 rows\n",
      "name 00093081101 has 2 rows\n",
      "name 00093102606 has 2 rows\n",
      "name 50111064701 has 6 rows\n",
      "name 576640247 has 2 rows\n",
      "name 00093171501 has 5 rows\n",
      "name 272f18b6-1b10-5621-e054-00144ff8d46c has 2 rows\n",
      "name 003780032 has 2 rows\n",
      "name 50111033301 has 3 rows\n",
      "name 00093094801 has 4 rows\n",
      "name 00591-5571-01_E0127053 has 2 rows\n",
      "name 00093081201 has 2 rows\n",
      "name 002283087 has 2 rows\n",
      "name 67877-0295-05_NLMIMAGE10_9640CB36 has 2 rows\n",
      "name 4b4973a7-3045-24c7-e054-00144ff8d46c has 2 rows\n",
      "name 32be45e5-1cfa-0968-e054-00144ff8d46c has 2 rows\n",
      "name 00591084410 has 2 rows\n",
      "name 50111047101 has 3 rows\n",
      "name 317220525 has 2 rows\n",
      "name 00093102506 has 2 rows\n",
      "name 00093031105 has 10 rows\n",
      "name 007811874 has 2 rows\n",
      "name 00173-0712-02_splimage30_32191978 has 3 rows\n",
      "name 62756-0552-88_NLMIMAGE10_9D3C4EB2 has 2 rows\n",
      "name 00172-5728-60_SPLIMAGE30_9E27CF4E has 2 rows\n",
      "name 00093172001 has 2 rows\n",
      "name 00093172101 has 3 rows\n",
      "name 00093189301 has 3 rows\n",
      "name 00093894701 has 2 rows\n",
      "name 00093101501 has 2 rows\n",
      "name 00093316006 has 2 rows\n",
      "name 524270285 has 2 rows\n",
      "name 00093310953 has 2 rows\n",
      "name 576640244 has 2 rows\n",
      "name 549d9cc4-13de-57ad-e054-00144ff8d46c has 2 rows\n",
      "name 50111064801 has 5 rows\n",
      "name 000544299 has 2 rows\n",
      "name 60429-202_M_LH2 has 2 rows\n",
      "name 50111033401 has 4 rows\n",
      "name 162520509 has 2 rows\n",
      "name 00093104898 has 2 rows\n",
      "name 576640245 has 2 rows\n",
      "name 32a80133-8c7c-57f8-e054-00144ff88e88 has 3 rows\n",
      "name 00054-4130-25_890544AA has 2 rows\n",
      "name 50419-0703-05_SPLIMAGE30_4F1927B9 has 2 rows\n",
      "name 00555-0381-02_NLMIMAGE10_19420CF0 has 2 rows\n",
      "name 162520508 has 2 rows\n",
      "name 00093964301 has 3 rows\n",
      "name 00093736856 has 3 rows\n",
      "name 007811407 has 2 rows\n",
      "name 003781620 has 2 rows\n",
      "name 63459070060 has 2 rows\n",
      "name 00093738201 has 3 rows\n",
      "name 00091-0920-01_E215714B has 2 rows\n",
      "name 605050114 has 2 rows\n",
      "name 00093100501 has 2 rows\n",
      "name 002283086 has 2 rows\n",
      "name 65597-0104-90_14130A78 has 2 rows\n",
      "name 00093719856 has 2 rows\n",
      "name 00172572860 has 5 rows\n",
      "name 001821113 has 2 rows\n",
      "name 18a79505-b506-62c0-e054-00144ff88e88 has 6 rows\n",
      "name 007811619 has 2 rows\n",
      "name 00093171901 has 2 rows\n",
      "name 00093720656 has 3 rows\n",
      "name 00555088702 has 5 rows\n",
      "name 00093738656 has 9 rows\n",
      "name 00093171801 has 3 rows\n",
      "name 002283084 has 2 rows\n",
      "name 00093100601 has 4 rows\n",
      "name 50111043401 has 7 rows\n",
      "name 00781-1643-66_130409A0 has 2 rows\n",
      "name 000548180 has 2 rows\n",
      "name 00093-0149-01 has 2 rows\n",
      "name 00781-5235-92_NLMIMAGE10_8D45C69E has 2 rows\n",
      "name 00555089902 has 4 rows\n",
      "name 00093738001 has 2 rows\n",
      "name 00093585001 has 2 rows\n",
      "name 000548176 has 2 rows\n",
      "name 00093089201 has 3 rows\n",
      "name 00093002801 has 2 rows\n",
      "name 23155-0047-10_22091148 has 2 rows\n",
      "name 00173-0947-55-splimage30-b818dc56 has 2 rows\n",
      "name 005915552 has 2 rows\n",
      "name 658620286 has 2 rows\n",
      "name 00093894301 has 7 rows\n",
      "name 00173-0945-55splimage30-ea18f547 has 2 rows\n",
      "name 50111043301 has 9 rows\n",
      "name 605050113 has 2 rows\n",
      "name 00093-7385-56_SPLIMAGE30_002F802C has 2 rows\n",
      "name 00093737001 has 2 rows\n",
      "name 00172-4097-60 has 2 rows\n",
      "name 2bfe798f-7e4c-62fa-e054-00144ff8d46c has 3 rows\n",
      "name 00093227534 has 7 rows\n",
      "name 003780047 has 2 rows\n",
      "name 00555904558part1of2 has 2 rows\n",
      "name 578440151 has 2 rows\n",
      "name 00093738556 has 6 rows\n",
      "name 60505-0065-00_SPLIMAGE30_412920F9 has 4 rows\n",
      "name 50111044101 has 4 rows\n",
      "worked 0\n",
      "failed 0\n"
     ]
    }
   ],
   "source": [
    "worked = 0\n",
    "failed = 0\n",
    "i = 0\n",
    "# imprints = []\n",
    "\n",
    "for name_ in im_names:\n",
    "    #     print('name_', name_)\n",
    "    #     print('i',i)\n",
    "    name = name_[9:-4]\n",
    "    try:\n",
    "        if len(df[df.image_id == name]) != 1:\n",
    "            print(f\"name {name} has {len(df[df.image_id == name])} rows\")\n",
    "        row = df[df.image_id == name].iloc[0]\n",
    "        spli = row['SPLIMPRINT']\n",
    "#         print('spli', spli)\n",
    "        if spli.find(' OR ') > 0:\n",
    "            spli = spli[0:spli.index(' OR ')]\n",
    "        if spli.find('[or];') > 0:\n",
    "            spli = spli[0:spli.index('[or];')]\n",
    "        imprint = spli\n",
    "#         if len(spli) > 10:\n",
    "#             if spli[0:6] == \"LILLY\":\n",
    "#                 spli = spli.split(';')[1]\n",
    "        \n",
    "#         print(row.index)\n",
    "#         imprint = spli.replace(';', '')           \n",
    "#         print('imprint', imprint)\n",
    "#         imprints.extend(imprint)\n",
    "    except:\n",
    "        print(f'name {name} not found for {name_} {row[\"SPLIMPRINT\"]} | {imprint} | {spli}')\n",
    "#         %debug         \n",
    "        break   \n",
    "    with open('./json/' + name + '.png.json', \"wt\") as file:\n",
    "#         print('writing:' + './json/' + name + '.png.json')\n",
    "        w, h = get_image_size(name_)\n",
    "        if i < 7000:\n",
    "            file.write(f'{{\"tags\": [\"train\"], \"description\": \"{imprint}\", \"objects\": [\"{row[\"SPLIMPRINT\"]}\"],\\\n",
    "                       \"size\": {{\"height\": {h}, \"width\": {w}}}}}')\n",
    "        else:\n",
    "            file.write(f'{{\"tags\": [\"val\"], \"description\": \"{imprint}\", \"objects\": [\"{row[\"SPLIMPRINT\"]}\"],\\\n",
    "                       \"size\": {{\"height\": {h}, \"width\": {w}}}}}')\n",
    "#     print('name', name)\n",
    "\n",
    "    i += 1\n",
    "    continue\n",
    "#     print('row[8]', row[8])\n",
    "    imprint = row[8].split(';')[1] if len(\n",
    "        row[8]) > 10 else row[8].replace(';', '')\n",
    "#     print('inprint', imprint)\n",
    "    g1 = None\n",
    "    for ti in range(1, 8):\n",
    "        r = get_string(name_, ti)\n",
    "        try:\n",
    "            m = re.match(regex, r)\n",
    "            g1 = m.groups(1)[0] if m.groups(1) else None\n",
    "        except:\n",
    "            g1 = None\n",
    "#         print(f'correct: {g1 == imprint} result: {r} match: {g1}')\n",
    "        if g1 == imprint:\n",
    "            break\n",
    "    if g1 == imprint:\n",
    "        worked += 1\n",
    "    else:\n",
    "        failed += 1\n",
    "    if i % 100 == 0:\n",
    "        print('i', i)\n",
    "    i += 1\n",
    "print('worked', worked)\n",
    "print('failed', failed)"
   ]
  },
  {
   "cell_type": "code",
   "execution_count": null,
   "metadata": {},
   "outputs": [],
   "source": [
    "image_id = '50419-0403-01_SPLIMAGE30_9A194D0A'\n",
    "df[df.image_id == image_id]"
   ]
  },
  {
   "cell_type": "code",
   "execution_count": null,
   "metadata": {},
   "outputs": [],
   "source": [
    "print('worked', worked)\n",
    "print('failed', failed)"
   ]
  },
  {
   "cell_type": "code",
   "execution_count": null,
   "metadata": {},
   "outputs": [],
   "source": [
    "m = re.match(regex,\"3227 10 mg\")"
   ]
  },
  {
   "cell_type": "code",
   "execution_count": null,
   "metadata": {},
   "outputs": [],
   "source": [
    "m.groups(1)"
   ]
  },
  {
   "cell_type": "code",
   "execution_count": null,
   "metadata": {},
   "outputs": [],
   "source": [
    "#left <img src=\"/images/pills/nlm/00002-3229-30_SPLIMAGE30_3E1E1F50.jpg\n",
    "#right <img src=\"/images/pills/fio/LLY32291.JPG\" "
   ]
  },
  {
   "cell_type": "code",
   "execution_count": null,
   "metadata": {},
   "outputs": [],
   "source": []
  }
 ],
 "metadata": {
  "kernelspec": {
   "display_name": "Python 3",
   "language": "python",
   "name": "python3"
  },
  "language_info": {
   "codemirror_mode": {
    "name": "ipython",
    "version": 3
   },
   "file_extension": ".py",
   "mimetype": "text/x-python",
   "name": "python",
   "nbconvert_exporter": "python",
   "pygments_lexer": "ipython3",
   "version": "3.6.6"
  },
  "latex_envs": {
   "LaTeX_envs_menu_present": true,
   "autoclose": false,
   "autocomplete": true,
   "bibliofile": "biblio.bib",
   "cite_by": "apalike",
   "current_citInitial": 1,
   "eqLabelWithNumbers": true,
   "eqNumInitial": 1,
   "hotkeys": {
    "equation": "Ctrl-E",
    "itemize": "Ctrl-I"
   },
   "labels_anchors": false,
   "latex_user_defs": false,
   "report_style_numbering": false,
   "user_envs_cfg": false
  }
 },
 "nbformat": 4,
 "nbformat_minor": 2
}
