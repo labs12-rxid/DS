{
 "cells": [
  {
   "cell_type": "code",
   "execution_count": 1,
   "metadata": {},
   "outputs": [],
   "source": [
    "import boto3\n",
    "s3_resource = boto3.resource('s3')"
   ]
  },
  {
   "cell_type": "markdown",
   "metadata": {},
   "source": [
    "## Creating a Bucket\n",
    "\n",
    "To create one programmatically, you must first choose a name for your bucket. Remember that this name must be unique throughout the whole AWS platform, as bucket names are DNS compliant.\n",
    "\n",
    "You can generate your own function that does that for you. In this implementation, you’ll see how using the uuid module will help you achieve that. A UUID4’s string representation is 36 characters long (including hyphens), and you can add a prefix to specify what each bucket is for."
   ]
  },
  {
   "cell_type": "code",
   "execution_count": 2,
   "metadata": {},
   "outputs": [],
   "source": [
    "import uuid\n",
    "def create_bucket_name(bucket_prefix):\n",
    "    # The generated bucket name must be between 3 and 63 chars long\n",
    "    return ''.join([bucket_prefix, str(uuid.uuid4())])"
   ]
  },
  {
   "cell_type": "markdown",
   "metadata": {},
   "source": [
    "Boto3 will create the session from your credentials. \n",
    "\n",
    "You just need to take the region and pass it to create_bucket() as its LocationConstraint configuration. \n",
    "\n",
    "The nice part is that this code works no matter where you want to deploy it: locally/EC2/Lambda. Moreover, you don’t need to hardcode your region."
   ]
  },
  {
   "cell_type": "code",
   "execution_count": 3,
   "metadata": {},
   "outputs": [],
   "source": [
    "def create_bucket(bucket_prefix, s3_connection):\n",
    "    session = boto3.session.Session()\n",
    "    current_region = session.region_name\n",
    "    bucket_name = create_bucket_name(bucket_prefix)\n",
    "    bucket_response = s3_connection.create_bucket(\n",
    "        Bucket=bucket_name,\n",
    "        CreateBucketConfiguration={'LocationConstraint': current_region})\n",
    "    \n",
    "    print(bucket_name, current_region)\n",
    "    return bucket_name, bucket_response"
   ]
  },
  {
   "cell_type": "markdown",
   "metadata": {},
   "source": [
    "You’ll now create two buckets. \n",
    "\n",
    "First create one using the client, which gives you back the bucket_response as a dictionary:"
   ]
  },
  {
   "cell_type": "code",
   "execution_count": 4,
   "metadata": {},
   "outputs": [
    {
     "name": "stdout",
     "output_type": "stream",
     "text": [
      "firstpythonbucketac60bb97-95e1-43e5-98e6-0ca294ec9aad us-east-2\n"
     ]
    }
   ],
   "source": [
    "first_bucket_name, first_response = create_bucket(\n",
    "                                    bucket_prefix='firstpythonbucket',\n",
    "                                    s3_connection=s3_resource.meta.client)"
   ]
  },
  {
   "cell_type": "code",
   "execution_count": 5,
   "metadata": {},
   "outputs": [
    {
     "data": {
      "text/plain": [
       "{'ResponseMetadata': {'RequestId': '1C891FA015E84BF2',\n",
       "  'HostId': 'gW4/oLi890AlSUOcpxyMXK877Qp9sHkRZM28DmVVBVrKzPQvWDeZVgSIMYNvGRgwKMaE67CTyac=',\n",
       "  'HTTPStatusCode': 200,\n",
       "  'HTTPHeaders': {'x-amz-id-2': 'gW4/oLi890AlSUOcpxyMXK877Qp9sHkRZM28DmVVBVrKzPQvWDeZVgSIMYNvGRgwKMaE67CTyac=',\n",
       "   'x-amz-request-id': '1C891FA015E84BF2',\n",
       "   'date': 'Tue, 30 Apr 2019 03:14:13 GMT',\n",
       "   'location': 'http://firstpythonbucketac60bb97-95e1-43e5-98e6-0ca294ec9aad.s3.amazonaws.com/',\n",
       "   'content-length': '0',\n",
       "   'server': 'AmazonS3'},\n",
       "  'RetryAttempts': 0},\n",
       " 'Location': 'http://firstpythonbucketac60bb97-95e1-43e5-98e6-0ca294ec9aad.s3.amazonaws.com/'}"
      ]
     },
     "execution_count": 5,
     "metadata": {},
     "output_type": "execute_result"
    }
   ],
   "source": [
    "first_response"
   ]
  },
  {
   "cell_type": "markdown",
   "metadata": {},
   "source": [
    "Then create a second bucket using the resource, which gives you back a Bucket instance as the bucket_response:"
   ]
  },
  {
   "cell_type": "code",
   "execution_count": 6,
   "metadata": {},
   "outputs": [
    {
     "name": "stdout",
     "output_type": "stream",
     "text": [
      "secondpythonbucket6ce9cccf-c429-471c-99a1-f36e849ee381 us-east-2\n"
     ]
    }
   ],
   "source": [
    "second_bucket_name, second_response = create_bucket(\n",
    "                                                    bucket_prefix='secondpythonbucket',\n",
    "                                                    s3_connection=s3_resource)"
   ]
  },
  {
   "cell_type": "code",
   "execution_count": 7,
   "metadata": {},
   "outputs": [
    {
     "data": {
      "text/plain": [
       "s3.Bucket(name='secondpythonbucket6ce9cccf-c429-471c-99a1-f36e849ee381')"
      ]
     },
     "execution_count": 7,
     "metadata": {},
     "output_type": "execute_result"
    }
   ],
   "source": [
    "second_response"
   ]
  },
  {
   "cell_type": "markdown",
   "metadata": {},
   "source": [
    "## Creating Bucket and Object Instances\n",
    "\n",
    "The next step after creating your file is to see how to integrate it into your S3 workflow.\n",
    "This is where the resource’s classes play an important role, as these abstractions make it easy to work with S3.\n",
    "\n",
    "By using the resource, you have access to the high-level classes (Bucket and Object)."
   ]
  },
  {
   "cell_type": "code",
   "execution_count": 9,
   "metadata": {},
   "outputs": [],
   "source": [
    "second_bucket = s3_resource.Bucket(name=second_bucket_name)\n",
    "file_object = s3_resource.Object(bucket_name=second_bucket_name,\n",
    "                                  key='pillbox_images/3bdd37a9-ecb9-36f2-e054-00144ff88e88.jpg')"
   ]
  },
  {
   "cell_type": "markdown",
   "metadata": {},
   "source": [
    "The reason you have not seen any errors with creating the first_object variable is that Boto3 doesn’t make calls to AWS to create the reference. \n",
    "\n",
    "The bucket_name and the key are called identifiers, and they are the necessary parameters to create an Object. Any other attribute of an Object, such as its size, is lazily loaded. \n",
    "\n",
    "This means that for Boto3 to get the requested attributes, it has to make calls to AWS."
   ]
  },
  {
   "cell_type": "markdown",
   "metadata": {},
   "source": [
    "## Uploading a File\n",
    "\n",
    "There are three ways you can upload a file:\n",
    "\n",
    "- From an Object instance\n",
    "- From a Bucket instance\n",
    "- From the client\n",
    "\n",
    "In each case, you have to provide the Filename, which is the path of the file you want to upload."
   ]
  },
  {
   "cell_type": "markdown",
   "metadata": {},
   "source": [
    "#### Object Instance Version"
   ]
  },
  {
   "cell_type": "code",
   "execution_count": 10,
   "metadata": {},
   "outputs": [],
   "source": [
    "file_object.upload_file('pillbox_images/3bdd37a9-ecb9-36f2-e054-00144ff88e88.jpg')"
   ]
  },
  {
   "cell_type": "markdown",
   "metadata": {},
   "source": [
    "## Downloading a File\n",
    "\n",
    "To download a file from S3 locally, you’ll follow similar steps as you did when uploading. But in this case, the Filename parameter will map to your desired local path. \n",
    "\n",
    "This time, it will download the file to the tmp directory:"
   ]
  },
  {
   "cell_type": "code",
   "execution_count": 17,
   "metadata": {},
   "outputs": [],
   "source": [
    "s3_resource.Object(second_bucket_name, 'pillbox_images/3bdd37a9-ecb9-36f2-e054-00144ff88e88.jpg').download_file('./test_s3file.jpg')"
   ]
  },
  {
   "cell_type": "code",
   "execution_count": null,
   "metadata": {},
   "outputs": [],
   "source": []
  }
 ],
 "metadata": {
  "kernelspec": {
   "display_name": "Python 3",
   "language": "python",
   "name": "python3"
  },
  "language_info": {
   "codemirror_mode": {
    "name": "ipython",
    "version": 3
   },
   "file_extension": ".py",
   "mimetype": "text/x-python",
   "name": "python",
   "nbconvert_exporter": "python",
   "pygments_lexer": "ipython3",
   "version": "3.6.8"
  }
 },
 "nbformat": 4,
 "nbformat_minor": 2
}
