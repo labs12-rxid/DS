{
 "cells": [
  {
   "cell_type": "markdown",
   "metadata": {
    "colab_type": "text",
    "id": "q-BlNZTwlowb"
   },
   "source": [
    "# RXID : Pill Shape Identifier \n",
    "## Using TFlearn for TensorFlow to design a ConvNet that detects Pill Shapes"
   ]
  },
  {
   "cell_type": "markdown",
   "metadata": {
    "colab_type": "text",
    "id": "DfJISMNdmUu0"
   },
   "source": [
    "## Imports and Parameters"
   ]
  },
  {
   "cell_type": "code",
   "execution_count": 1,
   "metadata": {
    "colab": {},
    "colab_type": "code",
    "id": "0c_wlynRl0Lb"
   },
   "outputs": [],
   "source": [
    "import cv2                 # working with, mainly resizing, images\n",
    "import numpy as np         # dealing with arrays\n",
    "import os                  # dealing with directories\n",
    "from random import shuffle # mixing up or currently ordered data that might lead our network astray in training.\n",
    "from tqdm import tqdm      # a nice pretty percentage of progress bar for tasks."
   ]
  },
  {
   "cell_type": "markdown",
   "metadata": {},
   "source": [
    "## Set path to Training Data"
   ]
  },
  {
   "cell_type": "markdown",
   "metadata": {
    "colab_type": "text",
    "id": "CIIlhtsKmB7w"
   },
   "source": [
    "### Connect to Google Drive"
   ]
  },
  {
   "cell_type": "code",
   "execution_count": null,
   "metadata": {
    "colab": {
     "base_uri": "https://localhost:8080/",
     "height": 34
    },
    "colab_type": "code",
    "id": "luW6UoPOl0LX",
    "outputId": "914e363b-ab6a-426b-f563-b0153669fee6"
   },
   "outputs": [],
   "source": [
    "# !python -m pip install tqdm\n",
    "# !python -m pip install tensorflow\n",
    "# !python -m pip install tflearn\n",
    "# !pip install --upgrade numpy\n",
    "from google.colab import drive\n",
    "GDRIVE_DIR = '/content/gdrive' \n",
    "drive.mount(GDRIVE_DIR)\n",
    "TRAIN_DIR = GDRIVE_DIR+'/My Drive/csv/train'\n",
    "TEST_DIR  = GDRIVE_DIR+'/My Drive/csv/test'\n",
    "SAVE_DIR = GDRIVE_DIR+'/My Drive/csv'"
   ]
  },
  {
   "cell_type": "markdown",
   "metadata": {},
   "source": [
    "### Or Local Drive"
   ]
  },
  {
   "cell_type": "code",
   "execution_count": 2,
   "metadata": {},
   "outputs": [],
   "source": [
    "TRAIN_DIR = 'D:/GITHUB/Pill_Shape_Training_Images/train'\n",
    "TEST_DIR  = 'D:/GITHUB/Pill_Shape_Training_Images/test'\n",
    "SAVE_DIR = 'D:/GITHUB/Pill_Shape_Training_Images/save'"
   ]
  },
  {
   "cell_type": "code",
   "execution_count": 3,
   "metadata": {
    "colab": {},
    "colab_type": "code",
    "id": "gh3IGF3NIFNP"
   },
   "outputs": [],
   "source": [
    "#_____________   Init Vars ______________________\n",
    "IMG_LENGTH = 100   # Image length\n",
    "IMG_HEIGHT = 100   # Image height\n",
    "LR = 1e-5        # Learning Rate = .000001\n",
    "num_epochs = 30  # Number of Epochs\n",
    "num_class_types = 3  # number of classification types\n",
    "\n",
    "#  Loss Function\n",
    "if num_class_types < 3:\n",
    "  loss_function = 'binary_crossentropy'\n",
    "else:\n",
    "  loss_function = 'categorical_crossentropy'\n",
    "\n",
    "# just so we remember which saved model is which, sizes must match\n",
    "MODEL_NAME = 'CapRndOval-{}-{}.model'.format(LR, '2conv-basic') \n",
    "# MODEL_NAME = SAVE_DIR +'/'+MODEL_NAME\n",
    "# print(MODEL_NAME)"
   ]
  },
  {
   "cell_type": "markdown",
   "metadata": {
    "colab_type": "text",
    "id": "iC5YfJBUl0Lg"
   },
   "source": [
    "## Create + Shuffle Training & Test Images\n",
    "\n",
    "For each shape:  OVAL, ROUND,  CAPSULE\n",
    "\n",
    "    1300/200: Train/Validate\n",
    "         500: Test"
   ]
  },
  {
   "cell_type": "code",
   "execution_count": null,
   "metadata": {
    "colab": {},
    "colab_type": "code",
    "id": "D4U5F9S9oRwH"
   },
   "outputs": [],
   "source": [
    "import cv2\n",
    "# https://www.edureka.co/community/719/how-to-resize-the-image-canvas-maintain-square-aspect-ratio\n",
    "\n",
    "def resizeAndPad(img, size, padColor=255):\n",
    "    h, w = img.shape[:2]\n",
    "    sh, sw = size\n",
    "\n",
    "    # interpolation method\n",
    "    if h > sh or w > sw: # shrinking image\n",
    "        interp = cv2.INTER_AREA\n",
    "\n",
    "    else: # stretching image\n",
    "        interp = cv2.INTER_CUBIC\n",
    "\n",
    "    # aspect ratio of image\n",
    "    aspect = float(w)/h \n",
    "    saspect = float(sw)/sh\n",
    "\n",
    "    if (saspect > aspect) or ((saspect == 1) and (aspect <= 1)):  # new horizontal image\n",
    "        new_h = sh\n",
    "        new_w = np.round(new_h * aspect).astype(int)\n",
    "        pad_horz = float(sw - new_w) / 2\n",
    "        pad_left, pad_right = np.floor(pad_horz).astype(int), np.ceil(pad_horz).astype(int)\n",
    "        pad_top, pad_bot = 0, 0\n",
    "\n",
    "    elif (saspect < aspect) or ((saspect == 1) and (aspect >= 1)):  # new vertical image\n",
    "        new_w = sw\n",
    "        new_h = np.round(float(new_w) / aspect).astype(int)\n",
    "        pad_vert = float(sh - new_h) / 2\n",
    "        pad_top, pad_bot = np.floor(pad_vert).astype(int), np.ceil(pad_vert).astype(int)\n",
    "        pad_left, pad_right = 0, 0\n",
    "\n",
    "    # set pad color\n",
    "    if len(img.shape) is 3 and not isinstance(padColor, (list, tuple, np.ndarray)): # color image but only one color provided\n",
    "        padColor = [padColor]*3\n",
    "\n",
    "    # scale and pad\n",
    "    scaled_img = cv2.resize(img, (new_w, new_h), interpolation=interp)\n",
    "    scaled_img = cv2.copyMakeBorder(scaled_img, pad_top, pad_bot, pad_left, pad_right, borderType=cv2.BORDER_CONSTANT, value=padColor)\n",
    "\n",
    "    return scaled_img"
   ]
  },
  {
   "cell_type": "code",
   "execution_count": 4,
   "metadata": {
    "colab": {},
    "colab_type": "code",
    "id": "XxaUZDjyl0Lh"
   },
   "outputs": [],
   "source": [
    "# ____ label the image ____\n",
    "'''    based on 1st 3 letters of filename\n",
    "       rnd, cap, or ovl  must be used to identify the shape \n",
    "       in the filename ____'''\n",
    "\n",
    "def label_img(img):\n",
    "    word_label = img.split('.')[-3]  \n",
    "    # ____ Conversion to one-hot array _____________________    \n",
    "    if num_class_types < 3:\n",
    "        # __ ___ Binary classification_____     [rnd,cap]     \n",
    "        if   word_label == 'rnd': return [1,0]  # [1, 0]\n",
    "        elif word_label == 'cap': return [0,1]  # [0, 1]\n",
    "    else:\n",
    "        # __ Multivariate classification____      [rnd,cap,ovl]     \n",
    "        if   word_label == 'rnd': return [1,0,0]  # [1, 0, 0]\n",
    "        elif word_label == 'cap': return [0,1,0]  # [0, 1, 0]\n",
    "        elif word_label == 'ovl': return [0,0,1]  # [0, 0, 1]\n",
    "\n",
    "# ____ create list of numpy arrays based on resized images ____\n",
    "def process_images(image_dir, save_filename):\n",
    "    image_list = []\n",
    "    ctr = 0\n",
    "    for img in tqdm(os.listdir(image_dir)):\n",
    "        # ___only image files____\n",
    "        if ('.jpg' in str(img)) or ('.png' in str(img)):\n",
    "            label = label_img(img)\n",
    "            path = os.path.join(image_dir,img)\n",
    "            try:\n",
    "              img = cv2.imread(path,cv2.IMREAD_GRAYSCALE)\n",
    "              img = cv2.resize(img, (IMG_LENGTH, IMG_HEIGHT))\n",
    "              #__Save np.arrays representing the image & label __\n",
    "              image_list.append([np.array(img),np.array(label)])\n",
    "              ctr += 1\n",
    "            except :\n",
    "              pass #print(img)\n",
    "    if ctr == 0:\n",
    "        print('Warning NO images were found. Verify correct file location')\n",
    "    else:\n",
    "        print(f'{ctr} images labeled')\n",
    "        # ___ shuffle the list ____\n",
    "        shuffle(image_list)\n",
    "        print(f'{ctr} images from {image_dir} have been labeled & shuffled')\n",
    "        #  ___ save the image data to a np file ___\n",
    "        np.save(save_filename, image_list)\n",
    "        print(f'Image data saved to file:{save_filename}')\n",
    "    return image_list"
   ]
  },
  {
   "cell_type": "code",
   "execution_count": null,
   "metadata": {
    "colab": {},
    "colab_type": "code",
    "id": "pyqcF8PYl0Lk"
   },
   "outputs": [],
   "source": [
    "#  Create train and test data sets\n",
    "\n",
    "train_data = process_images(TRAIN_DIR, SAVE_DIR+'/train_data.npy')\n",
    "test_data  = process_images(TEST_DIR, SAVE_DIR+'/test_data.npy')"
   ]
  },
  {
   "cell_type": "markdown",
   "metadata": {
    "colab_type": "text",
    "id": "3fYlApoLh3oB"
   },
   "source": [
    "## Load Preprocessed Training & Test Data"
   ]
  },
  {
   "cell_type": "code",
   "execution_count": null,
   "metadata": {
    "colab": {},
    "colab_type": "code",
    "id": "MT_GyccJcewg"
   },
   "outputs": [],
   "source": [
    "# _Load Pre-saved train / test data\n",
    "\n",
    "train_data = np.load(SAVE_DIR+'/train_data.npy', allow_pickle=True)\n",
    "test_data = np.load(SAVE_DIR+'/test_data.npy', allow_pickle=True)"
   ]
  },
  {
   "cell_type": "markdown",
   "metadata": {
    "colab_type": "text",
    "id": "_ZU3vmOoiCp2"
   },
   "source": [
    "## Create X,y for Training &  Validation Set"
   ]
  },
  {
   "cell_type": "code",
   "execution_count": null,
   "metadata": {
    "colab": {},
    "colab_type": "code",
    "id": "DTH7R28Xl0Lx"
   },
   "outputs": [],
   "source": [
    "# Select last 200 observations of training set for validation\n",
    "train = train_data[:-200]\n",
    "validation = train_data[-200:]\n",
    "\n",
    "#  Create Train X / Y\n",
    "X = np.array([i[0] for i in train]).reshape(-1,IMG_LENGTH,IMG_HEIGHT,1)\n",
    "Y = [i[1] for i in train]\n",
    "\n",
    "\n",
    "# Create Validation X/ Y  For validation set:\n",
    "val_x = np.array([i[0] for i in validation]).reshape(-1,IMG_LENGTH,IMG_HEIGHT,1)\n",
    "val_y = [i[1] for i in validation]"
   ]
  },
  {
   "cell_type": "markdown",
   "metadata": {
    "colab_type": "text",
    "id": "nO9oVC4Vl0Lq"
   },
   "source": [
    "## Define Convolutional Neural Net model with 6 hidden layers"
   ]
  },
  {
   "cell_type": "code",
   "execution_count": 5,
   "metadata": {
    "colab": {
     "base_uri": "https://localhost:8080/",
     "height": 734
    },
    "colab_type": "code",
    "id": "Iue67Cdil0Lr",
    "outputId": "fef66817-d909-4775-b477-c1b8245ce6e1"
   },
   "outputs": [
    {
     "name": "stdout",
     "output_type": "stream",
     "text": [
      "curses is not supported on this machine (please install/reinstall curses for an optimal experience)\n",
      "WARNING:tensorflow:From C:\\Users\\EDC\\Anaconda3\\envs\\environ1\\lib\\site-packages\\tensorflow\\python\\framework\\op_def_library.py:263: colocate_with (from tensorflow.python.framework.ops) is deprecated and will be removed in a future version.\n",
      "Instructions for updating:\n",
      "Colocations handled automatically by placer.\n",
      "WARNING:tensorflow:From C:\\Users\\EDC\\Anaconda3\\envs\\environ1\\lib\\site-packages\\tflearn\\initializations.py:119: UniformUnitScaling.__init__ (from tensorflow.python.ops.init_ops) is deprecated and will be removed in a future version.\n",
      "Instructions for updating:\n",
      "Use tf.initializers.variance_scaling instead with distribution=uniform to get equivalent behavior.\n",
      "WARNING:tensorflow:From C:\\Users\\EDC\\Anaconda3\\envs\\environ1\\lib\\site-packages\\tflearn\\layers\\core.py:239: calling dropout (from tensorflow.python.ops.nn_ops) with keep_prob is deprecated and will be removed in a future version.\n",
      "Instructions for updating:\n",
      "Please use `rate` instead of `keep_prob`. Rate should be set to `rate = 1 - keep_prob`.\n",
      "WARNING:tensorflow:From C:\\Users\\EDC\\Anaconda3\\envs\\environ1\\lib\\site-packages\\tflearn\\objectives.py:66: calling reduce_sum_v1 (from tensorflow.python.ops.math_ops) with keep_dims is deprecated and will be removed in a future version.\n",
      "Instructions for updating:\n",
      "keep_dims is deprecated, use keepdims instead\n",
      "WARNING:tensorflow:From C:\\Users\\EDC\\Anaconda3\\envs\\environ1\\lib\\site-packages\\tensorflow\\python\\ops\\math_ops.py:3066: to_int32 (from tensorflow.python.ops.math_ops) is deprecated and will be removed in a future version.\n",
      "Instructions for updating:\n",
      "Use tf.cast instead.\n"
     ]
    }
   ],
   "source": [
    "# http://tflearn.org/\n",
    "import tflearn\n",
    "from tflearn.layers.conv import conv_2d, max_pool_2d\n",
    "from tflearn.layers.core import input_data, dropout, fully_connected\n",
    "from tflearn.layers.estimator import regression\n",
    "\n",
    "convnet = input_data(shape=[None, IMG_LENGTH, IMG_HEIGHT, 1], name='input')\n",
    "\n",
    "convnet = conv_2d(convnet, 32, 5, activation='relu')\n",
    "convnet = max_pool_2d(convnet, 5)\n",
    "\n",
    "convnet = conv_2d(convnet, 64, 5, activation='relu')\n",
    "convnet = max_pool_2d(convnet, 5)\n",
    "\n",
    "convnet = conv_2d(convnet, 128, 5, activation='relu')\n",
    "convnet = max_pool_2d(convnet, 5)\n",
    "\n",
    "convnet = conv_2d(convnet, 64, 5, activation='relu')\n",
    "convnet = max_pool_2d(convnet, 5)\n",
    "\n",
    "convnet = conv_2d(convnet, 32, 5, activation='relu')\n",
    "convnet = max_pool_2d(convnet, 5)\n",
    "\n",
    "convnet = fully_connected(convnet, 1024, activation='relu')\n",
    "convnet = dropout(convnet, 0.8)\n",
    "\n",
    "convnet = fully_connected(convnet, num_class_types, activation='softmax')   # num_class_types is the number of classification types we are predicting\n",
    "convnet = regression(convnet, optimizer='adam', learning_rate=LR, loss=loss_function, name='targets')\n",
    "\n",
    "model = tflearn.DNN(convnet, tensorboard_dir='/log')"
   ]
  },
  {
   "cell_type": "markdown",
   "metadata": {
    "colab_type": "text",
    "id": "g5p0eKAEieuh"
   },
   "source": [
    "## Train the Model"
   ]
  },
  {
   "cell_type": "code",
   "execution_count": null,
   "metadata": {
    "colab": {
     "base_uri": "https://localhost:8080/",
     "height": 102
    },
    "colab_type": "code",
    "id": "5YMyuwu0l0L3",
    "outputId": "94237bbf-d5d5-4468-a51d-8494ce939a88"
   },
   "outputs": [],
   "source": [
    "model.fit({'input': X}, {'targets': Y}, n_epoch=num_epochs, validation_set=({'input': val_x}, {'targets': val_y}), \n",
    "    snapshot_step=500, show_metric=True, run_id=MODEL_NAME)"
   ]
  },
  {
   "cell_type": "markdown",
   "metadata": {
    "colab_type": "text",
    "id": "CWJE_Zh4l0L6"
   },
   "source": [
    "## Save Trained Model for later use"
   ]
  },
  {
   "cell_type": "code",
   "execution_count": null,
   "metadata": {
    "colab": {},
    "colab_type": "code",
    "id": "iFpxU2tJl0L_"
   },
   "outputs": [],
   "source": [
    "model.save(SAVE_DIR +'/'+MODEL_NAME)"
   ]
  },
  {
   "cell_type": "code",
   "execution_count": null,
   "metadata": {
    "colab": {},
    "colab_type": "code",
    "id": "RzcWB8RUl0MB"
   },
   "outputs": [],
   "source": [
    "# from tutorial\n",
    "# https://www.dlology.com/blog/quick-guide-to-run-tensorboard-in-google-colab/\n",
    "# !tensorboard --logdir=content/log"
   ]
  },
  {
   "cell_type": "markdown",
   "metadata": {
    "colab_type": "text",
    "id": "b8QuR-RQl0L3"
   },
   "source": [
    "## Load Pre-Trained Model"
   ]
  },
  {
   "cell_type": "code",
   "execution_count": 6,
   "metadata": {
    "colab": {},
    "colab_type": "code",
    "id": "xAU8Rvfwl0Lv"
   },
   "outputs": [
    {
     "name": "stdout",
     "output_type": "stream",
     "text": [
      "WARNING:tensorflow:From C:\\Users\\EDC\\Anaconda3\\envs\\environ1\\lib\\site-packages\\tensorflow\\python\\training\\saver.py:1266: checkpoint_exists (from tensorflow.python.training.checkpoint_management) is deprecated and will be removed in a future version.\n",
      "Instructions for updating:\n",
      "Use standard file APIs to check for files with this prefix.\n",
      "INFO:tensorflow:Restoring parameters from D:/GITHUB/Pill_Shape_Training_Images/save/CapRndOval-1e-05-2conv-basic.model\n",
      "model loaded!\n"
     ]
    }
   ],
   "source": [
    "# __ Activate this code to reload model ____ \n",
    "# __ if we have a saved version          ___\n",
    "\n",
    "if os.path.exists('{}.meta'.format(SAVE_DIR +'/'+MODEL_NAME)):\n",
    "    model.load(SAVE_DIR +'/'+MODEL_NAME)\n",
    "    print('model loaded!')\n",
    "else:\n",
    "    print('model NOT Found!')"
   ]
  },
  {
   "cell_type": "markdown",
   "metadata": {
    "colab_type": "text",
    "id": "alzPhf4Il0ME"
   },
   "source": [
    "##  Separate Test data in to X,y"
   ]
  },
  {
   "cell_type": "code",
   "execution_count": null,
   "metadata": {
    "colab": {},
    "colab_type": "code",
    "id": "Erx4FtJIl0MH"
   },
   "outputs": [],
   "source": [
    "# NOTE!!! --->> array[:,0] and array[:,1] did NOT work <---\n",
    "# HERE! Separating features and labels:\n",
    "test_x = np.array([i[0] for i in test_data]).reshape(-1, IMG_LENGTH, IMG_HEIGHT, 1)\n",
    "test_y = [i[1] for i in test_data]"
   ]
  },
  {
   "cell_type": "markdown",
   "metadata": {
    "colab_type": "text",
    "id": "T7YS1wTwl0ML"
   },
   "source": [
    "## Predict using Test data"
   ]
  },
  {
   "cell_type": "markdown",
   "metadata": {
    "colab_type": "text",
    "id": "YgDISBximUZR"
   },
   "source": [
    "### Display first 25 predictions"
   ]
  },
  {
   "cell_type": "code",
   "execution_count": null,
   "metadata": {
    "colab": {
     "base_uri": "https://localhost:8080/",
     "height": 1000
    },
    "colab_type": "code",
    "id": "KbFUKFqwl0ML",
    "outputId": "652bdbec-b753-4faa-c91a-2d20d42c583b"
   },
   "outputs": [],
   "source": [
    "import matplotlib.pyplot as plt\n",
    "shape_label = { 0:\"Round\",\n",
    "                1:\"Capsule\",\n",
    "                2:\"Oval\"}\n",
    "fig=plt.figure(figsize=(15.0, 10.0))  #width, height in inches.\n",
    "for indx, data in enumerate(test_data[-25:]):\n",
    "    img_nparray = data[1]\n",
    "    img_data    = data[0]\n",
    "    y = fig.add_subplot(5,5,indx+1)\n",
    "    data = img_data.reshape(IMG_LENGTH, IMG_HEIGHT, 1)\n",
    "    model_out = model.predict([data])[0]\n",
    "    str_label = shape_label.get(np.argmax(model_out))\n",
    "    plt.title(str_label+' ' + str(round (model_out[np.argmax(model_out)]*100,2))+'%')\n",
    "    y.axes.get_xaxis().set_visible(False)\n",
    "    y.axes.get_yaxis().set_visible(False)\n",
    "    y.imshow(img_data, cmap='gray')\n",
    "    y.axes.set_aspect(.5)\n",
    "plt.show()"
   ]
  },
  {
   "cell_type": "markdown",
   "metadata": {
    "colab_type": "text",
    "id": "yjbr--Lbmsde"
   },
   "source": [
    "###  Predict on All Test Data"
   ]
  },
  {
   "cell_type": "code",
   "execution_count": null,
   "metadata": {
    "colab": {
     "base_uri": "https://localhost:8080/",
     "height": 892
    },
    "colab_type": "code",
    "id": "vz2tyNu2l0MS",
    "outputId": "58c389cf-6612-47bb-c590-ed8492eb28e8"
   },
   "outputs": [],
   "source": [
    "import pandas as pd\n",
    "\n",
    "shapes = { 0:\"Round\",\n",
    "           1:\"Capsule\",\n",
    "           2:\"Oval\"}\n",
    "\n",
    "# ___ make predictions on test_x ___ \n",
    "predictions = model.predict(test_x)\n",
    "\n",
    "# __ Add descriptive labels to actuals(test_y) & predictions __\n",
    "pred_label = []\n",
    "for pred in predictions:\n",
    "    prediction = shapes.get(np.argmax(pred))\n",
    "    pred_label.append(prediction)\n",
    "test_label= []\n",
    "for actual in test_y:\n",
    "    label = shapes.get(np.argmax(actual))\n",
    "    test_label.append(label)    \n",
    "\n",
    "# __ Setup a dataframe of prediction results __\n",
    "df = pd.DataFrame(list(zip(test_label, pred_label)), \n",
    "                  columns =['Real', 'Prediction'])\n",
    "\n",
    "# ____ Add an Accuracy Column ____\n",
    "def accuracy_col(row):\n",
    "      return (row['Real'] == row['Prediction'])\n",
    "df['Correct'] = df.apply(lambda row: accuracy_col(row), axis=1)    \n",
    "\n",
    "# __ Print Result Summary __\n",
    "df.Correct.value_counts()\n",
    "print(f'{df.Correct.value_counts()[1]} correct and {df.Correct.value_counts()[0]} incorrect predictions made\\n')\n",
    "print(f'Accuracy : {round(df.Correct.value_counts()[1]/len(df)*100,2)}%\\n')\n",
    "df.tail()"
   ]
  },
  {
   "cell_type": "code",
   "execution_count": null,
   "metadata": {
    "colab": {
     "base_uri": "https://localhost:8080/",
     "height": 85
    },
    "colab_type": "code",
    "id": "-jX7F1TO2Xcv",
    "outputId": "9c69e1e7-91a0-4d67-b4c6-9b3893325507"
   },
   "outputs": [],
   "source": [
    "df['Real'].value_counts()"
   ]
  },
  {
   "cell_type": "code",
   "execution_count": null,
   "metadata": {
    "colab": {
     "base_uri": "https://localhost:8080/",
     "height": 85
    },
    "colab_type": "code",
    "id": "IX8Hh3CK9e6I",
    "outputId": "763e41ae-ec23-4f4d-b2cc-540ff1abaf71"
   },
   "outputs": [],
   "source": [
    "df['Prediction'].value_counts()"
   ]
  },
  {
   "cell_type": "markdown",
   "metadata": {},
   "source": [
    "## Single Image Predict"
   ]
  },
  {
   "cell_type": "code",
   "execution_count": 19,
   "metadata": {},
   "outputs": [
    {
     "name": "stderr",
     "output_type": "stream",
     "text": [
      "100%|███████████████████████████████████████████████████████████████████████████████████████████████████████████████████████████| 1/1 [00:00<00:00, 199.72it/s]\n"
     ]
    },
    {
     "name": "stdout",
     "output_type": "stream",
     "text": [
      "1 images processed\n",
      "[[array([[101, 135, 138, ...,  51,  46,  31],\n",
      "       [ 72,  77,  95, ...,  43,  35,  46],\n",
      "       [ 97, 120, 106, ...,  62,  85,  70],\n",
      "       ...,\n",
      "       [ 40,  31,  49, ...,  23,  25,  43],\n",
      "       [ 52,  40,  46, ...,  20,  16,  26],\n",
      "       [ 42,  45,  49, ...,  19,  17,  25]], dtype=uint8), array('', dtype='<U1')]]\n"
     ]
    },
    {
     "data": {
      "text/html": [
       "<div>\n",
       "<style scoped>\n",
       "    .dataframe tbody tr th:only-of-type {\n",
       "        vertical-align: middle;\n",
       "    }\n",
       "\n",
       "    .dataframe tbody tr th {\n",
       "        vertical-align: top;\n",
       "    }\n",
       "\n",
       "    .dataframe thead th {\n",
       "        text-align: right;\n",
       "    }\n",
       "</style>\n",
       "<table border=\"1\" class=\"dataframe\">\n",
       "  <thead>\n",
       "    <tr style=\"text-align: right;\">\n",
       "      <th></th>\n",
       "      <th>Real</th>\n",
       "      <th>Prediction</th>\n",
       "      <th>Correct</th>\n",
       "    </tr>\n",
       "  </thead>\n",
       "  <tbody>\n",
       "    <tr>\n",
       "      <th>0</th>\n",
       "      <td>Round</td>\n",
       "      <td>Round</td>\n",
       "      <td>True</td>\n",
       "    </tr>\n",
       "  </tbody>\n",
       "</table>\n",
       "</div>"
      ],
      "text/plain": [
       "    Real Prediction  Correct\n",
       "0  Round      Round     True"
      ]
     },
     "execution_count": 19,
     "metadata": {},
     "output_type": "execute_result"
    }
   ],
   "source": [
    "import pandas as pd\n",
    "shapes = { 0:\"Round\",\n",
    "           1:\"Capsule\",\n",
    "           2:\"Oval\"}\n",
    "def process_test_images(image_dir, save_filename):\n",
    "    image_list = []\n",
    "    ctr = 0\n",
    "    for img in tqdm(os.listdir(image_dir)):\n",
    "        # ___only image files____\n",
    "        if ('.jpg' in str(img)) or ('.png' in str(img)):\n",
    "            label = '' # label_img(img)\n",
    "            path = os.path.join(image_dir,img)\n",
    "            try:\n",
    "              img = cv2.imread(path,cv2.IMREAD_GRAYSCALE)\n",
    "              img = cv2.resize(img, (IMG_LENGTH, IMG_HEIGHT))\n",
    "              #__Save np.arrays representing the image & label __\n",
    "              image_list.append([np.array(img),np.array(label)])\n",
    "              ctr += 1\n",
    "            except :\n",
    "              pass #print(img)\n",
    "    if ctr == 0:\n",
    "        print('Warning NO images were found. Verify correct file location')\n",
    "    else:\n",
    "        print(f'{ctr} images processed')\n",
    "    return image_list\n",
    "#________________________________________________________________________\n",
    "SINGLE_TEST_DIR  = 'D:/GITHUB/Pill_Shape_Training_Images/single_test'\n",
    "test_data = process_test_images(SINGLE_TEST_DIR, SAVE_DIR+'/single_test_data.npy')\n",
    "#  split Features from Labels\n",
    "test_x = np.array([i[0] for i in test_data]).reshape(-1, IMG_LENGTH, IMG_HEIGHT, 1)\n",
    "test_y = [i[1] for i in test_data]\n",
    "# ___ make single predictions on test_x ___\n",
    "predictions = model.predict(test_x)\n",
    "# __ Add descriptive labels to actuals(test_y) & predictions __\n",
    "pred_label = []\n",
    "for pred in predictions:\n",
    "    prediction = shapes.get(np.argmax(pred))\n",
    "    pred_label.append(prediction)\n",
    "test_label= []\n",
    "for actual in test_y:\n",
    "    label = shapes.get(np.argmax(actual))\n",
    "    test_label.append(label)    \n",
    "# __ Setup a dataframe of prediction results __\n",
    "df = pd.DataFrame(list(zip(test_label, pred_label)), \n",
    "                  columns =['Real', 'Prediction'])\n",
    "# ____ Add an Accuracy Column ____\n",
    "def accuracy_col(row):\n",
    "      return (row['Real'] == row['Prediction'])\n",
    "df['Correct'] = df.apply(lambda row: accuracy_col(row), axis=1)    \n",
    "df.head()"
   ]
  },
  {
   "cell_type": "code",
   "execution_count": null,
   "metadata": {},
   "outputs": [],
   "source": []
  }
 ],
 "metadata": {
  "accelerator": "GPU",
  "colab": {
   "collapsed_sections": [],
   "name": "rxid-shape-model.ipynb",
   "provenance": [],
   "version": "0.3.2"
  },
  "kernelspec": {
   "display_name": "Python 3",
   "language": "python",
   "name": "python3"
  },
  "language_info": {
   "codemirror_mode": {
    "name": "ipython",
    "version": 3
   },
   "file_extension": ".py",
   "mimetype": "text/x-python",
   "name": "python",
   "nbconvert_exporter": "python",
   "pygments_lexer": "ipython3",
   "version": "3.7.2"
  }
 },
 "nbformat": 4,
 "nbformat_minor": 2
}
