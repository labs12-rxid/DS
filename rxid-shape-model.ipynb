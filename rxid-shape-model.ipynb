{
 "cells": [
  {
   "cell_type": "markdown",
   "metadata": {
    "colab_type": "text",
    "id": "q-BlNZTwlowb"
   },
   "source": [
    "# RXID : Pill Identifier \n",
    "## Using TFlearn to design a ConvNet that detects Pill Shapes"
   ]
  },
  {
   "cell_type": "markdown",
   "metadata": {
    "colab_type": "text",
    "id": "CIIlhtsKmB7w"
   },
   "source": [
    "## Connect to Google Drive\n",
    "\n",
    "Training Data is hosted there"
   ]
  },
  {
   "cell_type": "code",
   "execution_count": 1,
   "metadata": {
    "colab": {
     "base_uri": "https://localhost:8080/",
     "height": 34
    },
    "colab_type": "code",
    "id": "luW6UoPOl0LX",
    "outputId": "47727411-66ad-4ea7-9cd5-1726f6001015"
   },
   "outputs": [
    {
     "ename": "ModuleNotFoundError",
     "evalue": "No module named 'google.colab'",
     "output_type": "error",
     "traceback": [
      "\u001b[1;31m---------------------------------------------------------------------------\u001b[0m",
      "\u001b[1;31mModuleNotFoundError\u001b[0m                       Traceback (most recent call last)",
      "\u001b[1;32m<ipython-input-1-4903d1e258c0>\u001b[0m in \u001b[0;36m<module>\u001b[1;34m\u001b[0m\n\u001b[0;32m      3\u001b[0m \u001b[1;31m# !python -m pip install tflearn\u001b[0m\u001b[1;33m\u001b[0m\u001b[1;33m\u001b[0m\u001b[1;33m\u001b[0m\u001b[0m\n\u001b[0;32m      4\u001b[0m \u001b[1;31m# !pip install --upgrade numpy\u001b[0m\u001b[1;33m\u001b[0m\u001b[1;33m\u001b[0m\u001b[1;33m\u001b[0m\u001b[0m\n\u001b[1;32m----> 5\u001b[1;33m \u001b[1;32mfrom\u001b[0m \u001b[0mgoogle\u001b[0m\u001b[1;33m.\u001b[0m\u001b[0mcolab\u001b[0m \u001b[1;32mimport\u001b[0m \u001b[0mdrive\u001b[0m\u001b[1;33m\u001b[0m\u001b[1;33m\u001b[0m\u001b[0m\n\u001b[0m\u001b[0;32m      6\u001b[0m \u001b[0mGDRIVE_DIR\u001b[0m \u001b[1;33m=\u001b[0m \u001b[1;34m'/content/gdrive'\u001b[0m\u001b[1;33m\u001b[0m\u001b[1;33m\u001b[0m\u001b[0m\n\u001b[0;32m      7\u001b[0m \u001b[0mdrive\u001b[0m\u001b[1;33m.\u001b[0m\u001b[0mmount\u001b[0m\u001b[1;33m(\u001b[0m\u001b[0mGDRIVE_DIR\u001b[0m\u001b[1;33m)\u001b[0m\u001b[1;33m\u001b[0m\u001b[1;33m\u001b[0m\u001b[0m\n",
      "\u001b[1;31mModuleNotFoundError\u001b[0m: No module named 'google.colab'"
     ]
    }
   ],
   "source": [
    "# !python -m pip install tqdm\n",
    "# !python -m pip install tensorflow\n",
    "# !python -m pip install tflearn\n",
    "# !pip install --upgrade numpy\n",
    "from google.colab import drive\n",
    "GDRIVE_DIR = '/content/gdrive' \n",
    "drive.mount(GDRIVE_DIR)\n",
    "GDRIVE_DIR = GDRIVE_DIR+'/MyDrive' "
   ]
  },
  {
   "cell_type": "markdown",
   "metadata": {
    "colab_type": "text",
    "id": "DfJISMNdmUu0"
   },
   "source": [
    "## Imports and Parameters"
   ]
  },
  {
   "cell_type": "code",
   "execution_count": null,
   "metadata": {
    "colab": {},
    "colab_type": "code",
    "id": "0c_wlynRl0Lb"
   },
   "outputs": [],
   "source": [
    "import cv2                 # working with, mainly resizing, images\n",
    "import numpy as np         # dealing with arrays\n",
    "import os                  # dealing with directories\n",
    "from random import shuffle # mixing up or currently ordered data that might lead our network astray in training.\n",
    "from tqdm import tqdm      # a nice pretty percentage of progress bar for tasks."
   ]
  },
  {
   "cell_type": "code",
   "execution_count": null,
   "metadata": {
    "colab": {},
    "colab_type": "code",
    "id": "gh3IGF3NIFNP"
   },
   "outputs": [],
   "source": [
    "#_____________   Init Vars ______________________\n",
    "TRAIN_DIR = GDRIVE_DIR+'/My Drive/csv/train'\n",
    "TEST_DIR = GDRIVE_DIR+'/My Drive/csv/test'\n",
    "SAVE_DIR = '/content/gdrive/My Drive/csv'\n",
    "IMG_SIZE = 100   # Image size = 100 x 100\n",
    "LR = 1e-5        # Learning Rate = .000001\n",
    "num_epochs = 5   # number of epochs\n",
    "class_types = 3  # number of classification types\n",
    "\n",
    "#  Loss Function\n",
    "if class_types < 2:\n",
    "  loss_function = 'binary_crossentropy'\n",
    "else:\n",
    "  loss_function = 'categorical_crossentropy'\n",
    "\n",
    "# just so we remember which saved model is which, sizes must match\n",
    "MODEL_NAME = 'CapRndOval-{}-{}.model'.format(LR, '2conv-basic') "
   ]
  },
  {
   "cell_type": "markdown",
   "metadata": {
    "colab_type": "text",
    "id": "iC5YfJBUl0Lg"
   },
   "source": [
    "## Create + Shuffle Training & Test Images\n",
    "\n",
    "    Images used to:\n",
    "\n",
    "       Train:   1500\n",
    "       Test:     500\n",
    "       Validate: 200\n",
    "    "
   ]
  },
  {
   "cell_type": "code",
   "execution_count": null,
   "metadata": {
    "colab": {},
    "colab_type": "code",
    "id": "XxaUZDjyl0Lh"
   },
   "outputs": [],
   "source": [
    "# ____ label the image ____\n",
    "'''    based on 1st 3 letters of filename\n",
    "       rnd, cap, or ovl  must be used to identify the shape \n",
    "       in the filename ____'''\n",
    "\n",
    "def label_img(img):\n",
    "    word_label = img.split('.')[-3]  \n",
    "    # ____ Conversion to one-hot array _____________________    \n",
    "    if class_types < 3:\n",
    "        # __ ___ Binary classification_____     [rnd,cap]     \n",
    "        if   word_label == 'rnd': return [1,0]  # [1, 0]\n",
    "        elif word_label == 'cap': return [0,1]  # [0, 1]\n",
    "    else:\n",
    "        # __ Multivariate classification____      [rnd,cap,ovl]     \n",
    "        if   word_label == 'rnd': return [1,0,0]  # [1, 0, 0]\n",
    "        elif word_label == 'cap': return [0,1,0]  # [0, 1, 0]\n",
    "        elif word_label == 'ovl': return [0,0,1]  # [0, 0, 1]\n",
    "\n",
    "# ____ create list of numpy arrays based on resized images ____\n",
    "def process_data(image_dir, save_filename):\n",
    "    image_list = []\n",
    "    ctr = 0\n",
    "    for img in tqdm(os.listdir(image_dir)):\n",
    "        # ___only image files____\n",
    "        if ('.jpg' in str(img)) or ('.png' in str(img)):\n",
    "            label = label_img(img)\n",
    "            path = os.path.join(image_dir,img)\n",
    "            img = cv2.imread(path,cv2.IMREAD_GRAYSCALE)\n",
    "            img = cv2.resize(img, (IMG_SIZE,IMG_SIZE))\n",
    "            image_list.append([np.array(img),np.array(label)])\n",
    "            ctr += 1\n",
    "    if ctr == 0:\n",
    "        print('Warning NO images were found. Verify correct file location')\n",
    "    else:\n",
    "        print(f'{ctr} images labeled')\n",
    "        # ___ shuffle the list ____\n",
    "        shuffle(image_list)\n",
    "        print(f'{ctr} images from {image_dir} have been labeled & shuffled')\n",
    "        #  ___ save the image data to a np file ___\n",
    "        np.save(save_filename, image_list)\n",
    "        print(f'Image data saved to file:{save_filename}')\n",
    "    return image_list"
   ]
  },
  {
   "cell_type": "code",
   "execution_count": null,
   "metadata": {
    "colab": {
     "base_uri": "https://localhost:8080/",
     "height": 158
    },
    "colab_type": "code",
    "id": "pyqcF8PYl0Lk",
    "outputId": "06b6cc17-1498-4010-8afa-98dc3f0c14d0"
   },
   "outputs": [
    {
     "name": "stderr",
     "output_type": "stream",
     "text": [
      "100%|██████████| 3001/3001 [00:13<00:00, 230.39it/s]\n"
     ]
    },
    {
     "name": "stdout",
     "output_type": "stream",
     "text": [
      "3000 images labeled\n",
      "3000 images from /content/gdrive/My Drive/csv/train have been labeled & shuffled\n"
     ]
    },
    {
     "name": "stderr",
     "output_type": "stream",
     "text": [
      "  3%|▎         | 27/1001 [00:00<00:03, 265.68it/s]"
     ]
    },
    {
     "name": "stdout",
     "output_type": "stream",
     "text": [
      "Image data saved to file:/content/gdrive/My Drive/csv/train_data.npy\n"
     ]
    },
    {
     "name": "stderr",
     "output_type": "stream",
     "text": [
      "100%|██████████| 1001/1001 [00:03<00:00, 266.38it/s]\n"
     ]
    },
    {
     "name": "stdout",
     "output_type": "stream",
     "text": [
      "1000 images labeled\n",
      "1000 images from /content/gdrive/My Drive/csv/test have been labeled & shuffled\n",
      "Image data saved to file:/content/gdrive/My Drive/csv/test_data.npy\n"
     ]
    }
   ],
   "source": [
    "#  Create train and test data sets\n",
    "train_data = process_data(TRAIN_DIR, SAVE_DIR+'/train_data.npy')\n",
    "\n",
    "test_data  = process_data(TEST_DIR, SAVE_DIR+'/test_data.npy')"
   ]
  },
  {
   "cell_type": "markdown",
   "metadata": {
    "colab_type": "text",
    "id": "nO9oVC4Vl0Lq"
   },
   "source": [
    "## Create a ConvNet model with 6 layers"
   ]
  },
  {
   "cell_type": "code",
   "execution_count": null,
   "metadata": {
    "colab": {
     "base_uri": "https://localhost:8080/",
     "height": 301
    },
    "colab_type": "code",
    "id": "Iue67Cdil0Lr",
    "outputId": "49c99b85-3abb-4b70-95fd-c730d540baf6"
   },
   "outputs": [
    {
     "name": "stdout",
     "output_type": "stream",
     "text": [
      "WARNING:tensorflow:From /usr/local/lib/python3.6/dist-packages/tensorflow/python/framework/op_def_library.py:263: colocate_with (from tensorflow.python.framework.ops) is deprecated and will be removed in a future version.\n",
      "Instructions for updating:\n",
      "Colocations handled automatically by placer.\n",
      "WARNING:tensorflow:From /usr/local/lib/python3.6/dist-packages/tflearn/initializations.py:119: UniformUnitScaling.__init__ (from tensorflow.python.ops.init_ops) is deprecated and will be removed in a future version.\n",
      "Instructions for updating:\n",
      "Use tf.initializers.variance_scaling instead with distribution=uniform to get equivalent behavior.\n",
      "WARNING:tensorflow:From /usr/local/lib/python3.6/dist-packages/tflearn/layers/core.py:239: calling dropout (from tensorflow.python.ops.nn_ops) with keep_prob is deprecated and will be removed in a future version.\n",
      "Instructions for updating:\n",
      "Please use `rate` instead of `keep_prob`. Rate should be set to `rate = 1 - keep_prob`.\n",
      "WARNING:tensorflow:From /usr/local/lib/python3.6/dist-packages/tflearn/objectives.py:66: calling reduce_sum_v1 (from tensorflow.python.ops.math_ops) with keep_dims is deprecated and will be removed in a future version.\n",
      "Instructions for updating:\n",
      "keep_dims is deprecated, use keepdims instead\n",
      "WARNING:tensorflow:From /usr/local/lib/python3.6/dist-packages/tensorflow/python/ops/math_ops.py:3066: to_int32 (from tensorflow.python.ops.math_ops) is deprecated and will be removed in a future version.\n",
      "Instructions for updating:\n",
      "Use tf.cast instead.\n"
     ]
    }
   ],
   "source": [
    "import tflearn\n",
    "from tflearn.layers.conv import conv_2d, max_pool_2d\n",
    "from tflearn.layers.core import input_data, dropout, fully_connected\n",
    "from tflearn.layers.estimator import regression\n",
    "\n",
    "convnet = input_data(shape=[None, IMG_SIZE, IMG_SIZE, 1], name='input')\n",
    "\n",
    "convnet = conv_2d(convnet, 32, 5, activation='relu')\n",
    "convnet = max_pool_2d(convnet, 5)\n",
    "\n",
    "convnet = conv_2d(convnet, 64, 5, activation='relu')\n",
    "convnet = max_pool_2d(convnet, 5)\n",
    "\n",
    "convnet = conv_2d(convnet, 128, 5, activation='relu')\n",
    "convnet = max_pool_2d(convnet, 5)\n",
    "\n",
    "convnet = conv_2d(convnet, 64, 5, activation='relu')\n",
    "convnet = max_pool_2d(convnet, 5)\n",
    "\n",
    "convnet = conv_2d(convnet, 32, 5, activation='relu')\n",
    "convnet = max_pool_2d(convnet, 5)\n",
    "\n",
    "convnet = fully_connected(convnet, 1024, activation='relu')\n",
    "convnet = dropout(convnet, 0.8)\n",
    "\n",
    "convnet = fully_connected(convnet, class_types, activation='softmax')   # class_types is the number of classification types we are predicting\n",
    "convnet = regression(convnet, optimizer='adam', learning_rate=LR, loss=loss_function, name='targets')\n",
    "\n",
    "model = tflearn.DNN(convnet, tensorboard_dir='/log')"
   ]
  },
  {
   "cell_type": "code",
   "execution_count": null,
   "metadata": {
    "colab": {},
    "colab_type": "code",
    "id": "xAU8Rvfwl0Lv"
   },
   "outputs": [],
   "source": [
    "# We want to be saving our model after every session and reloading it if we have a saved version\n",
    "# if os.path.exists('{}.meta'.format(MODEL_NAME)):\n",
    "#     model.load(MODEL_NAME)\n",
    "#     print('model loaded!')"
   ]
  },
  {
   "cell_type": "code",
   "execution_count": null,
   "metadata": {
    "colab": {},
    "colab_type": "code",
    "id": "DTH7R28Xl0Lx"
   },
   "outputs": [],
   "source": [
    "# Grabbing some of the train data for validation\n",
    "train = train_data[:-200]\n",
    "validation = train_data[-200:]\n",
    "\n",
    "#  Create Train X / Y\n",
    "# NOTE!!! --->> array[:,0] and array[:,1] did NOT work <---\n",
    "# HERE! Separating features and labels:\n",
    "X = np.array([i[0] for i in train]).reshape(-1,IMG_SIZE,IMG_SIZE,1)\n",
    "Y = [i[1] for i in train]\n",
    "\n",
    "\n",
    "# Create Validation X/ Y  For validation set:\n",
    "val_x = np.array([i[0] for i in validation]).reshape(-1,IMG_SIZE,IMG_SIZE,1)\n",
    "val_y = [i[1] for i in validation]"
   ]
  },
  {
   "cell_type": "markdown",
   "metadata": {
    "colab_type": "text",
    "id": "b8QuR-RQl0L3"
   },
   "source": [
    "## Training the Model"
   ]
  },
  {
   "cell_type": "code",
   "execution_count": null,
   "metadata": {
    "colab": {
     "base_uri": "https://localhost:8080/",
     "height": 105
    },
    "colab_type": "code",
    "id": "5YMyuwu0l0L3",
    "outputId": "c157367b-4d4d-4337-d84b-60396d443b77"
   },
   "outputs": [
    {
     "name": "stdout",
     "output_type": "stream",
     "text": [
      "Training Step: 219  | total loss: \u001b[1m\u001b[32m0.65614\u001b[0m\u001b[0m | time: 0.690s\n",
      "| Adam | epoch: 005 | loss: 0.65614 - acc: 0.6717 -- iter: 2752/2800\n",
      "Training Step: 220  | total loss: \u001b[1m\u001b[32m0.65461\u001b[0m\u001b[0m | time: 1.708s\n",
      "| Adam | epoch: 005 | loss: 0.65461 - acc: 0.6732 | val_loss: 0.63189 - val_acc: 0.8500 -- iter: 2800/2800\n",
      "--\n"
     ]
    }
   ],
   "source": [
    "model.fit({'input': X}, {'targets': Y}, n_epoch=num_epochs, validation_set=({'input': val_x}, {'targets': val_y}), \n",
    "    snapshot_step=500, show_metric=True, run_id=MODEL_NAME)"
   ]
  },
  {
   "cell_type": "markdown",
   "metadata": {
    "colab_type": "text",
    "id": "CWJE_Zh4l0L6"
   },
   "source": [
    "## Saving Trained Model for later use"
   ]
  },
  {
   "cell_type": "code",
   "execution_count": null,
   "metadata": {
    "colab": {
     "base_uri": "https://localhost:8080/",
     "height": 34
    },
    "colab_type": "code",
    "id": "iFpxU2tJl0L_",
    "outputId": "d2b0385c-e694-4e94-841a-794c95ef438a"
   },
   "outputs": [
    {
     "name": "stdout",
     "output_type": "stream",
     "text": [
      "INFO:tensorflow:/content/CapRndOval-1e-05-2conv-basic.model is not in all_model_checkpoint_paths. Manually adding it.\n"
     ]
    }
   ],
   "source": [
    "model.save(MODEL_NAME)"
   ]
  },
  {
   "cell_type": "code",
   "execution_count": null,
   "metadata": {
    "colab": {},
    "colab_type": "code",
    "id": "RzcWB8RUl0MB"
   },
   "outputs": [],
   "source": [
    "# from tutorial\n",
    "# https://www.dlology.com/blog/quick-guide-to-run-tensorboard-in-google-colab/\n",
    "# !tensorboard --logdir=content/log"
   ]
  },
  {
   "cell_type": "markdown",
   "metadata": {
    "colab_type": "text",
    "id": "alzPhf4Il0ME"
   },
   "source": [
    "## Test data"
   ]
  },
  {
   "cell_type": "markdown",
   "metadata": {
    "colab_type": "text",
    "id": "ZCpQHrGwdRgM"
   },
   "source": []
  },
  {
   "cell_type": "code",
   "execution_count": null,
   "metadata": {
    "colab": {},
    "colab_type": "code",
    "id": "iGQirNqcl0MF"
   },
   "outputs": [],
   "source": [
    "# if you need to create the data:\n",
    "#     test_data = process_test_data()\n",
    "# if you already have some saved:\n",
    "#     test_data = np.load('test_data.npy')"
   ]
  },
  {
   "cell_type": "code",
   "execution_count": null,
   "metadata": {
    "colab": {},
    "colab_type": "code",
    "id": "Erx4FtJIl0MH"
   },
   "outputs": [],
   "source": [
    "# NOTE!!! --->> array[:,0] and array[:,1] did NOT work <---\n",
    "# HERE! Separating features and labels:\n",
    "test_x = np.array([i[0] for i in test_data]).reshape(-1,IMG_SIZE,IMG_SIZE,1)\n",
    "test_y = [i[1] for i in test_data]"
   ]
  },
  {
   "cell_type": "markdown",
   "metadata": {
    "colab_type": "text",
    "id": "T7YS1wTwl0ML"
   },
   "source": [
    "## Predicting with Test data"
   ]
  },
  {
   "cell_type": "code",
   "execution_count": null,
   "metadata": {
    "colab": {
     "base_uri": "https://localhost:8080/",
     "height": 264
    },
    "colab_type": "code",
    "id": "KbFUKFqwl0ML",
    "outputId": "0cc80079-5243-48c0-eb1c-b5578668d8a4"
   },
   "outputs": [
    {
     "data": {
      "image/png": "[encoded data removed]",
      "text/plain": [
       "<Figure size 432x288 with 25 Axes>"
      ]
     },
     "metadata": {
      "tags": []
     },
     "output_type": "display_data"
    }
   ],
   "source": [
    "import matplotlib.pyplot as plt\n",
    "\n",
    "fig=plt.figure()\n",
    "\n",
    "for indx, data in enumerate(test_data[-25:]):\n",
    "    img_nparray = data[1]\n",
    "    img_data    = data[0]\n",
    "    \n",
    "    y = fig.add_subplot(5,5,indx+1)\n",
    "    orig = img_data\n",
    "    data = img_data.reshape(IMG_SIZE,IMG_SIZE,1)\n",
    "    model_out = model.predict([data])[0]\n",
    "\n",
    "    if   np.argmax(model_out) == 0: str_label='Round'\n",
    "    elif np.argmax(model_out) == 1: str_label='Capsule'\n",
    "    elif np.argmax(model_out) == 2: str_label='Oval'\n",
    "    else: str_label='Unknown'\n",
    "    plt.title(str_label)\n",
    "      \n",
    "    y.axes.get_xaxis().set_visible(False)\n",
    "    y.axes.get_yaxis().set_visible(False)\n",
    "    y.imshow(orig,cmap='gray')\n",
    "plt.show()"
   ]
  },
  {
   "cell_type": "code",
   "execution_count": null,
   "metadata": {
    "colab": {},
    "colab_type": "code",
    "id": "nPzJ_mV3l0MO"
   },
   "outputs": [],
   "source": [
    "predictions = model.predict(test_x)"
   ]
  },
  {
   "cell_type": "code",
   "execution_count": null,
   "metadata": {
    "colab": {
     "base_uri": "https://localhost:8080/",
     "height": 1952
    },
    "colab_type": "code",
    "id": "vz2tyNu2l0MS",
    "outputId": "e648682a-21e3-4341-ffef-6a219bb6b9ee"
   },
   "outputs": [
    {
     "name": "stdout",
     "output_type": "stream",
     "text": [
      "865 correct and 135 incorrect predictions made\n",
      "\n",
      "Accuracy : 86.5%\n",
      "\n"
     ]
    },
    {
     "data": {
      "text/html": [
       "<div>\n",
       "<style scoped>\n",
       "    .dataframe tbody tr th:only-of-type {\n",
       "        vertical-align: middle;\n",
       "    }\n",
       "\n",
       "    .dataframe tbody tr th {\n",
       "        vertical-align: top;\n",
       "    }\n",
       "\n",
       "    .dataframe thead th {\n",
       "        text-align: right;\n",
       "    }\n",
       "</style>\n",
       "<table border=\"1\" class=\"dataframe\">\n",
       "  <thead>\n",
       "    <tr style=\"text-align: right;\">\n",
       "      <th></th>\n",
       "      <th>Real</th>\n",
       "      <th>Prediction</th>\n",
       "      <th>Accuracy</th>\n",
       "    </tr>\n",
       "  </thead>\n",
       "  <tbody>\n",
       "    <tr>\n",
       "      <th>0</th>\n",
       "      <td>Round</td>\n",
       "      <td>Round</td>\n",
       "      <td>1</td>\n",
       "    </tr>\n",
       "    <tr>\n",
       "      <th>1</th>\n",
       "      <td>Capsule</td>\n",
       "      <td>Round</td>\n",
       "      <td>0</td>\n",
       "    </tr>\n",
       "    <tr>\n",
       "      <th>2</th>\n",
       "      <td>Round</td>\n",
       "      <td>Round</td>\n",
       "      <td>1</td>\n",
       "    </tr>\n",
       "    <tr>\n",
       "      <th>3</th>\n",
       "      <td>Round</td>\n",
       "      <td>Round</td>\n",
       "      <td>1</td>\n",
       "    </tr>\n",
       "    <tr>\n",
       "      <th>4</th>\n",
       "      <td>Capsule</td>\n",
       "      <td>Capsule</td>\n",
       "      <td>1</td>\n",
       "    </tr>\n",
       "    <tr>\n",
       "      <th>5</th>\n",
       "      <td>Round</td>\n",
       "      <td>Round</td>\n",
       "      <td>1</td>\n",
       "    </tr>\n",
       "    <tr>\n",
       "      <th>6</th>\n",
       "      <td>Round</td>\n",
       "      <td>Round</td>\n",
       "      <td>1</td>\n",
       "    </tr>\n",
       "    <tr>\n",
       "      <th>7</th>\n",
       "      <td>Capsule</td>\n",
       "      <td>Round</td>\n",
       "      <td>0</td>\n",
       "    </tr>\n",
       "    <tr>\n",
       "      <th>8</th>\n",
       "      <td>Round</td>\n",
       "      <td>Capsule</td>\n",
       "      <td>0</td>\n",
       "    </tr>\n",
       "    <tr>\n",
       "      <th>9</th>\n",
       "      <td>Round</td>\n",
       "      <td>Round</td>\n",
       "      <td>1</td>\n",
       "    </tr>\n",
       "    <tr>\n",
       "      <th>10</th>\n",
       "      <td>Round</td>\n",
       "      <td>Round</td>\n",
       "      <td>1</td>\n",
       "    </tr>\n",
       "    <tr>\n",
       "      <th>11</th>\n",
       "      <td>Round</td>\n",
       "      <td>Round</td>\n",
       "      <td>1</td>\n",
       "    </tr>\n",
       "    <tr>\n",
       "      <th>12</th>\n",
       "      <td>Round</td>\n",
       "      <td>Round</td>\n",
       "      <td>1</td>\n",
       "    </tr>\n",
       "    <tr>\n",
       "      <th>13</th>\n",
       "      <td>Capsule</td>\n",
       "      <td>Capsule</td>\n",
       "      <td>1</td>\n",
       "    </tr>\n",
       "    <tr>\n",
       "      <th>14</th>\n",
       "      <td>Round</td>\n",
       "      <td>Round</td>\n",
       "      <td>1</td>\n",
       "    </tr>\n",
       "    <tr>\n",
       "      <th>15</th>\n",
       "      <td>Round</td>\n",
       "      <td>Round</td>\n",
       "      <td>1</td>\n",
       "    </tr>\n",
       "    <tr>\n",
       "      <th>16</th>\n",
       "      <td>Capsule</td>\n",
       "      <td>Capsule</td>\n",
       "      <td>1</td>\n",
       "    </tr>\n",
       "    <tr>\n",
       "      <th>17</th>\n",
       "      <td>Round</td>\n",
       "      <td>Round</td>\n",
       "      <td>1</td>\n",
       "    </tr>\n",
       "    <tr>\n",
       "      <th>18</th>\n",
       "      <td>Capsule</td>\n",
       "      <td>Capsule</td>\n",
       "      <td>1</td>\n",
       "    </tr>\n",
       "    <tr>\n",
       "      <th>19</th>\n",
       "      <td>Capsule</td>\n",
       "      <td>Capsule</td>\n",
       "      <td>1</td>\n",
       "    </tr>\n",
       "    <tr>\n",
       "      <th>20</th>\n",
       "      <td>Round</td>\n",
       "      <td>Round</td>\n",
       "      <td>1</td>\n",
       "    </tr>\n",
       "    <tr>\n",
       "      <th>21</th>\n",
       "      <td>Capsule</td>\n",
       "      <td>Capsule</td>\n",
       "      <td>1</td>\n",
       "    </tr>\n",
       "    <tr>\n",
       "      <th>22</th>\n",
       "      <td>Round</td>\n",
       "      <td>Round</td>\n",
       "      <td>1</td>\n",
       "    </tr>\n",
       "    <tr>\n",
       "      <th>23</th>\n",
       "      <td>Capsule</td>\n",
       "      <td>Capsule</td>\n",
       "      <td>1</td>\n",
       "    </tr>\n",
       "    <tr>\n",
       "      <th>24</th>\n",
       "      <td>Capsule</td>\n",
       "      <td>Round</td>\n",
       "      <td>0</td>\n",
       "    </tr>\n",
       "    <tr>\n",
       "      <th>25</th>\n",
       "      <td>Capsule</td>\n",
       "      <td>Capsule</td>\n",
       "      <td>1</td>\n",
       "    </tr>\n",
       "    <tr>\n",
       "      <th>26</th>\n",
       "      <td>Capsule</td>\n",
       "      <td>Capsule</td>\n",
       "      <td>1</td>\n",
       "    </tr>\n",
       "    <tr>\n",
       "      <th>27</th>\n",
       "      <td>Capsule</td>\n",
       "      <td>Round</td>\n",
       "      <td>0</td>\n",
       "    </tr>\n",
       "    <tr>\n",
       "      <th>28</th>\n",
       "      <td>Round</td>\n",
       "      <td>Round</td>\n",
       "      <td>1</td>\n",
       "    </tr>\n",
       "    <tr>\n",
       "      <th>29</th>\n",
       "      <td>Round</td>\n",
       "      <td>Capsule</td>\n",
       "      <td>0</td>\n",
       "    </tr>\n",
       "    <tr>\n",
       "      <th>...</th>\n",
       "      <td>...</td>\n",
       "      <td>...</td>\n",
       "      <td>...</td>\n",
       "    </tr>\n",
       "    <tr>\n",
       "      <th>970</th>\n",
       "      <td>Capsule</td>\n",
       "      <td>Capsule</td>\n",
       "      <td>1</td>\n",
       "    </tr>\n",
       "    <tr>\n",
       "      <th>971</th>\n",
       "      <td>Capsule</td>\n",
       "      <td>Capsule</td>\n",
       "      <td>1</td>\n",
       "    </tr>\n",
       "    <tr>\n",
       "      <th>972</th>\n",
       "      <td>Capsule</td>\n",
       "      <td>Capsule</td>\n",
       "      <td>1</td>\n",
       "    </tr>\n",
       "    <tr>\n",
       "      <th>973</th>\n",
       "      <td>Capsule</td>\n",
       "      <td>Capsule</td>\n",
       "      <td>1</td>\n",
       "    </tr>\n",
       "    <tr>\n",
       "      <th>974</th>\n",
       "      <td>Round</td>\n",
       "      <td>Round</td>\n",
       "      <td>1</td>\n",
       "    </tr>\n",
       "    <tr>\n",
       "      <th>975</th>\n",
       "      <td>Round</td>\n",
       "      <td>Round</td>\n",
       "      <td>1</td>\n",
       "    </tr>\n",
       "    <tr>\n",
       "      <th>976</th>\n",
       "      <td>Round</td>\n",
       "      <td>Round</td>\n",
       "      <td>1</td>\n",
       "    </tr>\n",
       "    <tr>\n",
       "      <th>977</th>\n",
       "      <td>Capsule</td>\n",
       "      <td>Capsule</td>\n",
       "      <td>1</td>\n",
       "    </tr>\n",
       "    <tr>\n",
       "      <th>978</th>\n",
       "      <td>Capsule</td>\n",
       "      <td>Round</td>\n",
       "      <td>0</td>\n",
       "    </tr>\n",
       "    <tr>\n",
       "      <th>979</th>\n",
       "      <td>Capsule</td>\n",
       "      <td>Capsule</td>\n",
       "      <td>1</td>\n",
       "    </tr>\n",
       "    <tr>\n",
       "      <th>980</th>\n",
       "      <td>Capsule</td>\n",
       "      <td>Capsule</td>\n",
       "      <td>1</td>\n",
       "    </tr>\n",
       "    <tr>\n",
       "      <th>981</th>\n",
       "      <td>Round</td>\n",
       "      <td>Capsule</td>\n",
       "      <td>0</td>\n",
       "    </tr>\n",
       "    <tr>\n",
       "      <th>982</th>\n",
       "      <td>Capsule</td>\n",
       "      <td>Capsule</td>\n",
       "      <td>1</td>\n",
       "    </tr>\n",
       "    <tr>\n",
       "      <th>983</th>\n",
       "      <td>Round</td>\n",
       "      <td>Round</td>\n",
       "      <td>1</td>\n",
       "    </tr>\n",
       "    <tr>\n",
       "      <th>984</th>\n",
       "      <td>Round</td>\n",
       "      <td>Round</td>\n",
       "      <td>1</td>\n",
       "    </tr>\n",
       "    <tr>\n",
       "      <th>985</th>\n",
       "      <td>Round</td>\n",
       "      <td>Round</td>\n",
       "      <td>1</td>\n",
       "    </tr>\n",
       "    <tr>\n",
       "      <th>986</th>\n",
       "      <td>Round</td>\n",
       "      <td>Round</td>\n",
       "      <td>1</td>\n",
       "    </tr>\n",
       "    <tr>\n",
       "      <th>987</th>\n",
       "      <td>Round</td>\n",
       "      <td>Round</td>\n",
       "      <td>1</td>\n",
       "    </tr>\n",
       "    <tr>\n",
       "      <th>988</th>\n",
       "      <td>Capsule</td>\n",
       "      <td>Capsule</td>\n",
       "      <td>1</td>\n",
       "    </tr>\n",
       "    <tr>\n",
       "      <th>989</th>\n",
       "      <td>Round</td>\n",
       "      <td>Round</td>\n",
       "      <td>1</td>\n",
       "    </tr>\n",
       "    <tr>\n",
       "      <th>990</th>\n",
       "      <td>Capsule</td>\n",
       "      <td>Capsule</td>\n",
       "      <td>1</td>\n",
       "    </tr>\n",
       "    <tr>\n",
       "      <th>991</th>\n",
       "      <td>Round</td>\n",
       "      <td>Round</td>\n",
       "      <td>1</td>\n",
       "    </tr>\n",
       "    <tr>\n",
       "      <th>992</th>\n",
       "      <td>Capsule</td>\n",
       "      <td>Capsule</td>\n",
       "      <td>1</td>\n",
       "    </tr>\n",
       "    <tr>\n",
       "      <th>993</th>\n",
       "      <td>Capsule</td>\n",
       "      <td>Capsule</td>\n",
       "      <td>1</td>\n",
       "    </tr>\n",
       "    <tr>\n",
       "      <th>994</th>\n",
       "      <td>Round</td>\n",
       "      <td>Round</td>\n",
       "      <td>1</td>\n",
       "    </tr>\n",
       "    <tr>\n",
       "      <th>995</th>\n",
       "      <td>Round</td>\n",
       "      <td>Round</td>\n",
       "      <td>1</td>\n",
       "    </tr>\n",
       "    <tr>\n",
       "      <th>996</th>\n",
       "      <td>Capsule</td>\n",
       "      <td>Capsule</td>\n",
       "      <td>1</td>\n",
       "    </tr>\n",
       "    <tr>\n",
       "      <th>997</th>\n",
       "      <td>Capsule</td>\n",
       "      <td>Capsule</td>\n",
       "      <td>1</td>\n",
       "    </tr>\n",
       "    <tr>\n",
       "      <th>998</th>\n",
       "      <td>Capsule</td>\n",
       "      <td>Capsule</td>\n",
       "      <td>1</td>\n",
       "    </tr>\n",
       "    <tr>\n",
       "      <th>999</th>\n",
       "      <td>Round</td>\n",
       "      <td>Round</td>\n",
       "      <td>1</td>\n",
       "    </tr>\n",
       "  </tbody>\n",
       "</table>\n",
       "<p>1000 rows × 3 columns</p>\n",
       "</div>"
      ],
      "text/plain": [
       "        Real Prediction  Accuracy\n",
       "0      Round      Round         1\n",
       "1    Capsule      Round         0\n",
       "2      Round      Round         1\n",
       "3      Round      Round         1\n",
       "4    Capsule    Capsule         1\n",
       "5      Round      Round         1\n",
       "6      Round      Round         1\n",
       "7    Capsule      Round         0\n",
       "8      Round    Capsule         0\n",
       "9      Round      Round         1\n",
       "10     Round      Round         1\n",
       "11     Round      Round         1\n",
       "12     Round      Round         1\n",
       "13   Capsule    Capsule         1\n",
       "14     Round      Round         1\n",
       "15     Round      Round         1\n",
       "16   Capsule    Capsule         1\n",
       "17     Round      Round         1\n",
       "18   Capsule    Capsule         1\n",
       "19   Capsule    Capsule         1\n",
       "20     Round      Round         1\n",
       "21   Capsule    Capsule         1\n",
       "22     Round      Round         1\n",
       "23   Capsule    Capsule         1\n",
       "24   Capsule      Round         0\n",
       "25   Capsule    Capsule         1\n",
       "26   Capsule    Capsule         1\n",
       "27   Capsule      Round         0\n",
       "28     Round      Round         1\n",
       "29     Round    Capsule         0\n",
       "..       ...        ...       ...\n",
       "970  Capsule    Capsule         1\n",
       "971  Capsule    Capsule         1\n",
       "972  Capsule    Capsule         1\n",
       "973  Capsule    Capsule         1\n",
       "974    Round      Round         1\n",
       "975    Round      Round         1\n",
       "976    Round      Round         1\n",
       "977  Capsule    Capsule         1\n",
       "978  Capsule      Round         0\n",
       "979  Capsule    Capsule         1\n",
       "980  Capsule    Capsule         1\n",
       "981    Round    Capsule         0\n",
       "982  Capsule    Capsule         1\n",
       "983    Round      Round         1\n",
       "984    Round      Round         1\n",
       "985    Round      Round         1\n",
       "986    Round      Round         1\n",
       "987    Round      Round         1\n",
       "988  Capsule    Capsule         1\n",
       "989    Round      Round         1\n",
       "990  Capsule    Capsule         1\n",
       "991    Round      Round         1\n",
       "992  Capsule    Capsule         1\n",
       "993  Capsule    Capsule         1\n",
       "994    Round      Round         1\n",
       "995    Round      Round         1\n",
       "996  Capsule    Capsule         1\n",
       "997  Capsule    Capsule         1\n",
       "998  Capsule    Capsule         1\n",
       "999    Round      Round         1\n",
       "\n",
       "[1000 rows x 3 columns]"
      ]
     },
     "execution_count": 16,
     "metadata": {
      "tags": []
     },
     "output_type": "execute_result"
    }
   ],
   "source": [
    "import pandas as pd\n",
    "\n",
    "# Add descriptive labels to actuals(test_y) & predictions \n",
    "pred_label = []\n",
    "for prediction in predictions:\n",
    "    if   np.argmax(prediction) == 0: prediction='Round'\n",
    "    elif np.argmax(prediction) == 1: prediction='Capsule'\n",
    "    elif np.argmax(prediction) == 2: prediction='Oval'\n",
    "    else: prediction='Unknown'\n",
    "    pred_label.append(prediction)\n",
    "test_label= []\n",
    "for label in test_y:\n",
    "    if   np.argmax(label) == 0: label='Round'\n",
    "    elif np.argmax(label) == 1: label='Capsule'\n",
    "    elif np.argmax(label) == 2: label='Oval'\n",
    "    else: label='Unknown'\n",
    "    test_label.append(label)    \n",
    "\n",
    "#  Setup a dataframe of prediction results\n",
    "df = pd.DataFrame(list(zip(test_label, pred_label)), \n",
    "                  columns =['Real', 'Prediction'])\n",
    "\n",
    "#  Add an Accuracy Column\n",
    "def accuracy_col(row):\n",
    "    if row['Real'] == row['Prediction'] :\n",
    "        return 1\n",
    "    else:\n",
    "        return 0\n",
    "df['Accuracy'] = df.apply(lambda row: accuracy_col(row), axis=1)    \n",
    "\n",
    "#  Print Result Summary\n",
    "df.Accuracy.value_counts()\n",
    "print(f'{df.Accuracy.value_counts()[1]} correct and {df.Accuracy.value_counts()[0]} incorrect predictions made\\n')\n",
    "print(f'Accuracy : {round(df.Accuracy.value_counts()[1]/len(df)*100,2)}%\\n')\n",
    "df.head(1000)\n"
   ]
  }
 ],
 "metadata": {
  "accelerator": "GPU",
  "colab": {
   "collapsed_sections": [],
   "name": "rxid-shape-model.ipynb",
   "provenance": [],
   "version": "0.3.2"
  },
  "kernelspec": {
   "display_name": "Python 3",
   "language": "python",
   "name": "python3"
  },
  "language_info": {
   "codemirror_mode": {
    "name": "ipython",
    "version": 3
   },
   "file_extension": ".py",
   "mimetype": "text/x-python",
   "name": "python",
   "nbconvert_exporter": "python",
   "pygments_lexer": "ipython3",
   "version": "3.7.2"
  }
 },
 "nbformat": 4,
 "nbformat_minor": 2
}
